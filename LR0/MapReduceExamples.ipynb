{
  "nbformat": 4,
  "nbformat_minor": 0,
  "metadata": {
    "colab": {
      "provenance": []
    },
    "kernelspec": {
      "name": "python3",
      "display_name": "Python 3"
    }
  },
  "cells": [
    {
      "cell_type": "markdown",
      "metadata": {
        "id": "82OvPKEiEqjc"
      },
      "source": [
        "# Введение в MapReduce модель на Python\n"
      ]
    },
    {
      "cell_type": "code",
      "metadata": {
        "id": "JQ2cvXLjICmI"
      },
      "source": [
        "from typing import NamedTuple # requires python 3.6+\n",
        "from typing import Iterator"
      ],
      "execution_count": null,
      "outputs": []
    },
    {
      "cell_type": "code",
      "metadata": {
        "id": "yjPHumVwEyEg"
      },
      "source": [
        "def MAP(_, row:NamedTuple):\n",
        "  if (row.gender == 'female'):\n",
        "    yield (row.age, row)\n",
        "\n",
        "def REDUCE(age:str, rows:Iterator[NamedTuple]):\n",
        "  sum = 0\n",
        "  count = 0\n",
        "  for row in rows:\n",
        "    sum += row.social_contacts\n",
        "    count += 1\n",
        "  if (count > 0):\n",
        "    yield (age, sum/count)\n",
        "  else:\n",
        "    yield (age, 0)"
      ],
      "execution_count": null,
      "outputs": []
    },
    {
      "cell_type": "markdown",
      "metadata": {
        "id": "vBKMgpG_ilaZ"
      },
      "source": [
        "Модель элемента данных"
      ]
    },
    {
      "cell_type": "code",
      "metadata": {
        "id": "Rv-XIjhTJPx3"
      },
      "source": [
        "class User(NamedTuple):\n",
        "  id: int\n",
        "  age: str\n",
        "  social_contacts: int\n",
        "  gender: str"
      ],
      "execution_count": null,
      "outputs": []
    },
    {
      "cell_type": "code",
      "metadata": {
        "id": "5KV0Ze2vQgu5"
      },
      "source": [
        "input_collection = [\n",
        "    User(id=0, age=55, gender='male', social_contacts=20),\n",
        "    User(id=1, age=25, gender='female', social_contacts=240),\n",
        "    User(id=2, age=25, gender='female', social_contacts=500),\n",
        "    User(id=3, age=33, gender='female', social_contacts=800)\n",
        "]"
      ],
      "execution_count": null,
      "outputs": []
    },
    {
      "cell_type": "markdown",
      "metadata": {
        "id": "YFeqzyZxZIFZ"
      },
      "source": [
        "Функция RECORDREADER моделирует чтение элементов с диска или по сети."
      ]
    },
    {
      "cell_type": "code",
      "metadata": {
        "id": "S5HR4E_GQoMJ"
      },
      "source": [
        "def RECORDREADER():\n",
        "  return [(u.id, u) for u in input_collection]"
      ],
      "execution_count": null,
      "outputs": []
    },
    {
      "cell_type": "code",
      "metadata": {
        "id": "NeEoWla-ROUy",
        "colab": {
          "base_uri": "https://localhost:8080/",
          "height": 85
        },
        "outputId": "94ca6e0e-4644-4282-acbf-1759d7ba2918"
      },
      "source": [
        "list(RECORDREADER())"
      ],
      "execution_count": null,
      "outputs": [
        {
          "output_type": "execute_result",
          "data": {
            "text/plain": [
              "[(0, User(id=0, age=55, social_contacts=20, gender='male')),\n",
              " (1, User(id=1, age=25, social_contacts=240, gender='female')),\n",
              " (2, User(id=2, age=25, social_contacts=500, gender='female')),\n",
              " (3, User(id=3, age=33, social_contacts=800, gender='female'))]"
            ]
          },
          "metadata": {
            "tags": []
          },
          "execution_count": 20
        }
      ]
    },
    {
      "cell_type": "code",
      "metadata": {
        "id": "YB8orgPSZs8M"
      },
      "source": [
        "def flatten(nested_iterable):\n",
        "  for iterable in nested_iterable:\n",
        "    for element in iterable:\n",
        "      yield element"
      ],
      "execution_count": null,
      "outputs": []
    },
    {
      "cell_type": "code",
      "metadata": {
        "id": "74oyvDLaRmd5",
        "colab": {
          "base_uri": "https://localhost:8080/",
          "height": 68
        },
        "outputId": "c6147702-7153-47c7-a574-d5fe6abe29a8"
      },
      "source": [
        "map_output = flatten(map(lambda x: MAP(*x), RECORDREADER()))\n",
        "map_output = list(map_output) # materialize\n",
        "map_output"
      ],
      "execution_count": null,
      "outputs": [
        {
          "output_type": "execute_result",
          "data": {
            "text/plain": [
              "[(25, User(id=1, age=25, social_contacts=240, gender='female')),\n",
              " (25, User(id=2, age=25, social_contacts=500, gender='female')),\n",
              " (33, User(id=3, age=33, social_contacts=800, gender='female'))]"
            ]
          },
          "metadata": {
            "tags": []
          },
          "execution_count": 22
        }
      ]
    },
    {
      "cell_type": "code",
      "metadata": {
        "id": "8ncYDJ3-VzDn"
      },
      "source": [
        "def groupbykey(iterable):\n",
        "  t = {}\n",
        "  for (k2, v2) in iterable:\n",
        "    t[k2] = t.get(k2, []) + [v2]\n",
        "  return t.items()"
      ],
      "execution_count": null,
      "outputs": []
    },
    {
      "cell_type": "code",
      "metadata": {
        "id": "cKzY_6COWOA2",
        "colab": {
          "base_uri": "https://localhost:8080/",
          "height": 85
        },
        "outputId": "e6791b12-e409-47e9-bcd4-e9f8ca8611bd"
      },
      "source": [
        "shuffle_output = groupbykey(map_output)\n",
        "shuffle_output = list(shuffle_output)\n",
        "shuffle_output"
      ],
      "execution_count": null,
      "outputs": [
        {
          "output_type": "execute_result",
          "data": {
            "text/plain": [
              "[(25,\n",
              "  [User(id=1, age=25, social_contacts=240, gender='female'),\n",
              "   User(id=2, age=25, social_contacts=500, gender='female')]),\n",
              " (33, [User(id=3, age=33, social_contacts=800, gender='female')])]"
            ]
          },
          "metadata": {
            "tags": []
          },
          "execution_count": 24
        }
      ]
    },
    {
      "cell_type": "code",
      "metadata": {
        "id": "NlA7lkDDYL0t",
        "colab": {
          "base_uri": "https://localhost:8080/",
          "height": 34
        },
        "outputId": "6b25d03f-5c92-4f3b-f500-6d70acd598b7"
      },
      "source": [
        "reduce_output = flatten(map(lambda x: REDUCE(*x), shuffle_output))\n",
        "reduce_output = list(reduce_output)\n",
        "reduce_output"
      ],
      "execution_count": null,
      "outputs": [
        {
          "output_type": "execute_result",
          "data": {
            "text/plain": [
              "[(25, 370.0), (33, 800.0)]"
            ]
          },
          "metadata": {
            "tags": []
          },
          "execution_count": 25
        }
      ]
    },
    {
      "cell_type": "markdown",
      "metadata": {
        "id": "xf6qhHEtd6bI"
      },
      "source": [
        "Все действия одним конвейером!"
      ]
    },
    {
      "cell_type": "code",
      "metadata": {
        "id": "dZaQGYxCdpw5",
        "colab": {
          "base_uri": "https://localhost:8080/",
          "height": 34
        },
        "outputId": "3f5c6425-e5c5-49d2-b2cd-ce58a9acc33c"
      },
      "source": [
        "list(flatten(map(lambda x: REDUCE(*x), groupbykey(flatten(map(lambda x: MAP(*x), RECORDREADER()))))))"
      ],
      "execution_count": null,
      "outputs": [
        {
          "output_type": "execute_result",
          "data": {
            "text/plain": [
              "[(25, 370.0), (33, 800.0)]"
            ]
          },
          "metadata": {
            "tags": []
          },
          "execution_count": 26
        }
      ]
    },
    {
      "cell_type": "markdown",
      "metadata": {
        "id": "Vq3EWRIpwSiJ"
      },
      "source": [
        "# **MapReduce**\n",
        "Выделим общую для всех пользователей часть системы в отдельную функцию высшего порядка. Это наиболее простая модель MapReduce, без учёта распределённого хранения данных.\n",
        "\n",
        "Пользователь для решения своей задачи реализует RECORDREADER, MAP, REDUCE."
      ]
    },
    {
      "cell_type": "code",
      "metadata": {
        "id": "V1PZeQMwwVjc"
      },
      "source": [
        "def flatten(nested_iterable):\n",
        "  for iterable in nested_iterable:\n",
        "    for element in iterable:\n",
        "      yield element\n",
        "\n",
        "def groupbykey(iterable):\n",
        "  t = {}\n",
        "  for (k2, v2) in iterable:\n",
        "    t[k2] = t.get(k2, []) + [v2]\n",
        "  return t.items()\n",
        "\n",
        "def MapReduce(RECORDREADER, MAP, REDUCE):\n",
        "  return flatten(map(lambda x: REDUCE(*x), groupbykey(flatten(map(lambda x: MAP(*x), RECORDREADER())))))"
      ],
      "execution_count": null,
      "outputs": []
    },
    {
      "cell_type": "markdown",
      "metadata": {
        "id": "iFIVrimep678"
      },
      "source": [
        "## Спецификация MapReduce\n",
        "\n",
        "\n",
        "\n",
        "```\n",
        "f (k1, v1) -> (k2,v2)*\n",
        "g (k2, v2*) -> (k3,v3)*\n",
        "\n",
        "mapreduce ((k1,v1)*) -> (k3,v3)*\n",
        "groupby ((k2,v2)*) -> (k2,v2*)*\n",
        "flatten (e2**) -> e2*\n",
        "\n",
        "mapreduce .map(f).flatten.groupby(k2).map(g).flatten\n",
        "```\n",
        "\n",
        "\n"
      ]
    },
    {
      "cell_type": "markdown",
      "metadata": {
        "id": "QtTFyqke3KGe"
      },
      "source": [
        "# Примеры"
      ]
    },
    {
      "cell_type": "markdown",
      "metadata": {
        "id": "BNhh5763w5Vn"
      },
      "source": [
        "## SQL"
      ]
    },
    {
      "cell_type": "code",
      "metadata": {
        "id": "QkyurnvGxBGk",
        "colab": {
          "base_uri": "https://localhost:8080/",
          "height": 34
        },
        "outputId": "84761282-d2ba-435a-e8d7-a85150730e10"
      },
      "source": [
        "from typing import NamedTuple # requires python 3.6+\n",
        "from typing import Iterator\n",
        "\n",
        "class User(NamedTuple):\n",
        "  id: int\n",
        "  age: str\n",
        "  social_contacts: int\n",
        "  gender: str\n",
        "\n",
        "input_collection = [\n",
        "    User(id=0, age=55, gender='male', social_contacts=20),\n",
        "    User(id=1, age=25, gender='female', social_contacts=240),\n",
        "    User(id=2, age=25, gender='female', social_contacts=500),\n",
        "    User(id=3, age=33, gender='female', social_contacts=800)\n",
        "]\n",
        "\n",
        "def MAP(_, row:NamedTuple):\n",
        "  if (row.gender == 'female'):\n",
        "    yield (row.age, row)\n",
        "\n",
        "def REDUCE(age:str, rows:Iterator[NamedTuple]):\n",
        "  sum = 0\n",
        "  count = 0\n",
        "  for row in rows:\n",
        "    sum += row.social_contacts\n",
        "    count += 1\n",
        "  if (count > 0):\n",
        "    yield (age, sum/count)\n",
        "  else:\n",
        "    yield (age, 0)\n",
        "\n",
        "def RECORDREADER():\n",
        "  return [(u.id, u) for u in input_collection]\n",
        "\n",
        "output = MapReduce(RECORDREADER, MAP, REDUCE)\n",
        "output = list(output)\n",
        "output"
      ],
      "execution_count": null,
      "outputs": [
        {
          "output_type": "execute_result",
          "data": {
            "text/plain": [
              "[(25, 370.0), (33, 800.0)]"
            ]
          },
          "metadata": {
            "tags": []
          },
          "execution_count": 28
        }
      ]
    },
    {
      "cell_type": "markdown",
      "metadata": {
        "id": "kNKYIeerx0nY"
      },
      "source": [
        "## Matrix-Vector multiplication"
      ]
    },
    {
      "cell_type": "code",
      "metadata": {
        "id": "rwcntRcCyi1V",
        "colab": {
          "base_uri": "https://localhost:8080/",
          "height": 102
        },
        "outputId": "606737ab-6b55-455c-931f-4fc45155f8a9"
      },
      "source": [
        "from typing import Iterator\n",
        "import numpy as np\n",
        "\n",
        "mat = np.ones((5,4))\n",
        "vec = np.random.rand(4) # in-memory vector in all map tasks\n",
        "\n",
        "def MAP(coordinates:(int, int), value:int):\n",
        "  i, j = coordinates\n",
        "  yield (i, value*vec[j])\n",
        "\n",
        "def REDUCE(i:int, products:Iterator[NamedTuple]):\n",
        "  sum = 0\n",
        "  for p in products:\n",
        "    sum += p\n",
        "  yield (i, sum)\n",
        "\n",
        "def RECORDREADER():\n",
        "  for i in range(mat.shape[0]):\n",
        "    for j in range(mat.shape[1]):\n",
        "      yield ((i, j), mat[i,j])\n",
        "\n",
        "output = MapReduce(RECORDREADER, MAP, REDUCE)\n",
        "output = list(output)\n",
        "output"
      ],
      "execution_count": null,
      "outputs": [
        {
          "output_type": "execute_result",
          "data": {
            "text/plain": [
              "[(0, 2.905589809636405),\n",
              " (1, 2.905589809636405),\n",
              " (2, 2.905589809636405),\n",
              " (3, 2.905589809636405),\n",
              " (4, 2.905589809636405)]"
            ]
          },
          "metadata": {
            "tags": []
          },
          "execution_count": 29
        }
      ]
    },
    {
      "cell_type": "markdown",
      "metadata": {
        "id": "ruZREYdi2o4O"
      },
      "source": [
        "## Inverted index"
      ]
    },
    {
      "cell_type": "code",
      "metadata": {
        "id": "vt9H9Alf3TYv",
        "colab": {
          "base_uri": "https://localhost:8080/",
          "height": 102
        },
        "outputId": "51aeffc9-e111-4607-bd84-cfcc7b56f238"
      },
      "source": [
        "from typing import Iterator\n",
        "\n",
        "d1 = \"it is what it is\"\n",
        "d2 = \"what is it\"\n",
        "d3 = \"it is a banana\"\n",
        "documents = [d1, d2, d3]\n",
        "\n",
        "def RECORDREADER():\n",
        "  for (docid, document) in enumerate(documents):\n",
        "    yield (\"{}\".format(docid), document)\n",
        "\n",
        "def MAP(docId:str, body:str):\n",
        "  for word in set(body.split(' ')):\n",
        "    yield (word, docId)\n",
        "\n",
        "def REDUCE(word:str, docIds:Iterator[str]):\n",
        "  yield (word, sorted(docIds))\n",
        "\n",
        "output = MapReduce(RECORDREADER, MAP, REDUCE)\n",
        "output = list(output)\n",
        "output"
      ],
      "execution_count": null,
      "outputs": [
        {
          "output_type": "execute_result",
          "data": {
            "text/plain": [
              "[('what', ['0', '1']),\n",
              " ('is', ['0', '1', '2']),\n",
              " ('it', ['0', '1', '2']),\n",
              " ('a', ['2']),\n",
              " ('banana', ['2'])]"
            ]
          },
          "metadata": {
            "tags": []
          },
          "execution_count": 30
        }
      ]
    },
    {
      "cell_type": "markdown",
      "metadata": {
        "id": "R7az-6DA6qr2"
      },
      "source": [
        "## WordCount"
      ]
    },
    {
      "cell_type": "code",
      "metadata": {
        "id": "dN-nbtgG6uYG",
        "colab": {
          "base_uri": "https://localhost:8080/",
          "height": 34
        },
        "outputId": "24117576-7931-401d-a581-28e246b23453"
      },
      "source": [
        "from typing import Iterator\n",
        "\n",
        "d1 = \"\"\"\n",
        "it is what it is\n",
        "it is what it is\n",
        "it is what it is\"\"\"\n",
        "d2 = \"\"\"\n",
        "what is it\n",
        "what is it\"\"\"\n",
        "d3 = \"\"\"\n",
        "it is a banana\"\"\"\n",
        "documents = [d1, d2, d3]\n",
        "\n",
        "def RECORDREADER():\n",
        "  for (docid, document) in enumerate(documents):\n",
        "    for (lineid, line) in enumerate(document.split('\\n')):\n",
        "      yield (\"{}:{}\".format(docid,lineid), line)\n",
        "\n",
        "def MAP(docId:str, line:str):\n",
        "  for word in line.split(\" \"):\n",
        "    yield (word, 1)\n",
        "\n",
        "def REDUCE(word:str, counts:Iterator[int]):\n",
        "  sum = 0\n",
        "  for c in counts:\n",
        "    sum += c\n",
        "  yield (word, sum)\n",
        "\n",
        "output = MapReduce(RECORDREADER, MAP, REDUCE)\n",
        "output = list(output)\n",
        "output"
      ],
      "execution_count": null,
      "outputs": [
        {
          "output_type": "execute_result",
          "data": {
            "text/plain": [
              "[('', 3), ('it', 9), ('is', 9), ('what', 5), ('a', 1), ('banana', 1)]"
            ]
          },
          "metadata": {
            "tags": []
          },
          "execution_count": 31
        }
      ]
    },
    {
      "cell_type": "markdown",
      "metadata": {
        "id": "h-jRAcYCAkkk"
      },
      "source": [
        "# MapReduce Distributed\n",
        "\n",
        "Добавляется в модель фабрика RECORDREARER-ов --- INPUTFORMAT, функция распределения промежуточных результатов по партициям PARTITIONER, и функция COMBINER для частичной аггрегации промежуточных результатов до распределения по новым партициям."
      ]
    },
    {
      "cell_type": "code",
      "metadata": {
        "id": "nw-b-xJsApgW"
      },
      "source": [
        "def flatten(nested_iterable):\n",
        "  for iterable in nested_iterable:\n",
        "    for element in iterable:\n",
        "      yield element\n",
        "\n",
        "def groupbykey(iterable):\n",
        "  t = {}\n",
        "  for (k2, v2) in iterable:\n",
        "    t[k2] = t.get(k2, []) + [v2]\n",
        "  return t.items()\n",
        "\n",
        "def groupbykey_distributed(map_partitions, PARTITIONER):\n",
        "  global reducers\n",
        "  partitions = [dict() for _ in range(reducers)]\n",
        "  for map_partition in map_partitions:\n",
        "    for (k2, v2) in map_partition:\n",
        "      p = partitions[PARTITIONER(k2)]\n",
        "      p[k2] = p.get(k2, []) + [v2]\n",
        "  return [(partition_id, sorted(partition.items(), key=lambda x: x[0])) for (partition_id, partition) in enumerate(partitions)]\n",
        "\n",
        "def PARTITIONER(obj):\n",
        "  global reducers\n",
        "  return hash(obj) % reducers\n",
        "\n",
        "def MapReduceDistributed(INPUTFORMAT, MAP, REDUCE, PARTITIONER=PARTITIONER, COMBINER=None):\n",
        "  map_partitions = map(lambda record_reader: flatten(map(lambda k1v1: MAP(*k1v1), record_reader)), INPUTFORMAT())\n",
        "  if COMBINER != None:\n",
        "    map_partitions = map(lambda map_partition: flatten(map(lambda k2v2: COMBINER(*k2v2), groupbykey(map_partition))), map_partitions)\n",
        "  reduce_partitions = groupbykey_distributed(map_partitions, PARTITIONER) # shuffle\n",
        "  reduce_outputs = map(lambda reduce_partition: (reduce_partition[0], flatten(map(lambda reduce_input_group: REDUCE(*reduce_input_group), reduce_partition[1]))), reduce_partitions)\n",
        "\n",
        "  print(\"{} key-value pairs were sent over a network.\".format(sum([len(vs) for (k,vs) in flatten([partition for (partition_id, partition) in reduce_partitions])])))\n",
        "  return reduce_outputs"
      ],
      "execution_count": null,
      "outputs": []
    },
    {
      "cell_type": "markdown",
      "metadata": {
        "id": "kxirlf3XqZxY"
      },
      "source": [
        "## Спецификация MapReduce Distributed\n",
        "\n",
        "\n",
        "```\n",
        "f (k1, v1) -> (k2,v2)*\n",
        "g (k2, v2*) -> (k3,v3)*\n",
        "\n",
        "e1 (k1, v1)\n",
        "e2 (k2, v2)\n",
        "partition1 (k2, v2)*\n",
        "partition2 (k2, v2*)*\n",
        "\n",
        "flatmap (e1->e2*, e1*) -> partition1*\n",
        "groupby (partition1*) -> partition2*\n",
        "\n",
        "mapreduce ((k1,v1)*) -> (k3,v3)*\n",
        "mapreduce .flatmap(f).groupby(k2).flatmap(g)\n",
        "```\n",
        "\n"
      ]
    },
    {
      "cell_type": "markdown",
      "metadata": {
        "id": "CWYw_CpbbY3C"
      },
      "source": [
        "## WordCount"
      ]
    },
    {
      "cell_type": "code",
      "metadata": {
        "id": "uR_zfGFkMZlp",
        "colab": {
          "base_uri": "https://localhost:8080/",
          "height": 68
        },
        "outputId": "c8d46167-473d-43b9-881a-2396991b3731"
      },
      "source": [
        "from typing import Iterator\n",
        "import numpy as np\n",
        "\n",
        "d1 = \"\"\"\n",
        "it is what it is\n",
        "it is what it is\n",
        "it is what it is\"\"\"\n",
        "d2 = \"\"\"\n",
        "what is it\n",
        "what is it\"\"\"\n",
        "d3 = \"\"\"\n",
        "it is a banana\"\"\"\n",
        "documents = [d1, d2, d3, d1, d2, d3]\n",
        "\n",
        "maps = 3\n",
        "reducers = 2\n",
        "\n",
        "def INPUTFORMAT():\n",
        "  global maps\n",
        "\n",
        "  def RECORDREADER(split):\n",
        "    for (docid, document) in enumerate(split):\n",
        "      for (lineid, line) in enumerate(document.split('\\n')):\n",
        "        yield (\"{}:{}\".format(docid,lineid), line)\n",
        "\n",
        "  split_size =  int(np.ceil(len(documents)/maps))\n",
        "  for i in range(0, len(documents), split_size):\n",
        "    yield RECORDREADER(documents[i:i+split_size])\n",
        "\n",
        "def MAP(docId:str, line:str):\n",
        "  for word in line.split(\" \"):\n",
        "    yield (word, 1)\n",
        "\n",
        "def REDUCE(word:str, counts:Iterator[int]):\n",
        "  sum = 0\n",
        "  for c in counts:\n",
        "    sum += c\n",
        "  yield (word, sum)\n",
        "\n",
        "# try to set COMBINER=REDUCER and look at the number of values sent over the network\n",
        "partitioned_output = MapReduceDistributed(INPUTFORMAT, MAP, REDUCE, COMBINER=None)\n",
        "partitioned_output = [(partition_id, list(partition)) for (partition_id, partition) in partitioned_output]\n",
        "partitioned_output"
      ],
      "execution_count": null,
      "outputs": [
        {
          "output_type": "stream",
          "text": [
            "56 key-value pairs were sent over a network.\n"
          ],
          "name": "stdout"
        },
        {
          "output_type": "execute_result",
          "data": {
            "text/plain": [
              "[(0, [('', 6), ('a', 2), ('banana', 2), ('is', 18), ('it', 18), ('what', 10)]),\n",
              " (1, [])]"
            ]
          },
          "metadata": {
            "tags": []
          },
          "execution_count": 33
        }
      ]
    },
    {
      "cell_type": "markdown",
      "metadata": {
        "id": "gCJGx8IQ87xS"
      },
      "source": [
        "## TeraSort"
      ]
    },
    {
      "cell_type": "code",
      "metadata": {
        "id": "P2v8v1v_8_YR",
        "colab": {
          "base_uri": "https://localhost:8080/",
          "height": 578
        },
        "outputId": "e0987c25-9757-46cb-8e55-d5d2adfbee2b"
      },
      "source": [
        "import numpy as np\n",
        "\n",
        "input_values = np.random.rand(30)\n",
        "maps = 3\n",
        "reducers = 2\n",
        "min_value = 0.0\n",
        "max_value = 1.0\n",
        "\n",
        "def INPUTFORMAT():\n",
        "  global maps\n",
        "\n",
        "  def RECORDREADER(split):\n",
        "    for value in split:\n",
        "        yield (value, None)\n",
        "\n",
        "  split_size =  int(np.ceil(len(input_values)/maps))\n",
        "  for i in range(0, len(input_values), split_size):\n",
        "    yield RECORDREADER(input_values[i:i+split_size])\n",
        "\n",
        "def MAP(value:int, _):\n",
        "  yield (value, None)\n",
        "\n",
        "def PARTITIONER(key):\n",
        "  global reducers\n",
        "  global max_value\n",
        "  global min_value\n",
        "  bucket_size = (max_value-min_value)/reducers\n",
        "  bucket_id = 0\n",
        "  while((key>(bucket_id+1)*bucket_size) and ((bucket_id+1)*bucket_size<max_value)):\n",
        "    bucket_id += 1\n",
        "  return bucket_id\n",
        "\n",
        "def REDUCE(value:int, _):\n",
        "  yield (None,value)\n",
        "\n",
        "partitioned_output = MapReduceDistributed(INPUTFORMAT, MAP, REDUCE, COMBINER=None, PARTITIONER=PARTITIONER)\n",
        "partitioned_output = [(partition_id, list(partition)) for (partition_id, partition) in partitioned_output]\n",
        "partitioned_output"
      ],
      "execution_count": null,
      "outputs": [
        {
          "output_type": "stream",
          "text": [
            "30 key-value pairs were sent over a network.\n"
          ],
          "name": "stdout"
        },
        {
          "output_type": "execute_result",
          "data": {
            "text/plain": [
              "[(0,\n",
              "  [(None, 0.0059671639991895065),\n",
              "   (None, 0.07724245496172),\n",
              "   (None, 0.08440804135613444),\n",
              "   (None, 0.13575647907181598),\n",
              "   (None, 0.14404826813474803),\n",
              "   (None, 0.21204275967955666),\n",
              "   (None, 0.21869633101751806),\n",
              "   (None, 0.25055756276216923),\n",
              "   (None, 0.28642389538931257),\n",
              "   (None, 0.3834487515438496),\n",
              "   (None, 0.3913614390023946),\n",
              "   (None, 0.4041378102237341),\n",
              "   (None, 0.41854626274930695),\n",
              "   (None, 0.4704310153549396),\n",
              "   (None, 0.4776995227348928),\n",
              "   (None, 0.48992216726013693)]),\n",
              " (1,\n",
              "  [(None, 0.5005353544023048),\n",
              "   (None, 0.5135664686748047),\n",
              "   (None, 0.53391984417089),\n",
              "   (None, 0.5587932025401512),\n",
              "   (None, 0.5673804905854288),\n",
              "   (None, 0.6926646597910275),\n",
              "   (None, 0.7237444251339501),\n",
              "   (None, 0.7557883138083207),\n",
              "   (None, 0.785709769245918),\n",
              "   (None, 0.7937098630029404),\n",
              "   (None, 0.7942646850708935),\n",
              "   (None, 0.9160468126494941),\n",
              "   (None, 0.9618068292060864),\n",
              "   (None, 0.9820764489731459)])]"
            ]
          },
          "metadata": {
            "tags": []
          },
          "execution_count": 34
        }
      ]
    },
    {
      "cell_type": "code",
      "metadata": {
        "id": "MQhoJaVZI93G"
      },
      "source": [],
      "execution_count": null,
      "outputs": []
    },
    {
      "cell_type": "markdown",
      "metadata": {
        "id": "Iy65YJTH99iT"
      },
      "source": [
        "# Упражнения\n",
        "Упражнения взяты из Rajaraman A., Ullman J. D. Mining of massive datasets. – Cambridge University Press, 2011.\n",
        "\n",
        "\n",
        "Для выполнения заданий переопределите функции RECORDREADER, MAP, REDUCE. Для модели распределённой системы может потребоваться переопределение функций PARTITION и COMBINER."
      ]
    },
    {
      "cell_type": "markdown",
      "metadata": {
        "id": "cfvAeZm3S8S8"
      },
      "source": [
        "### Максимальное значение ряда\n",
        "\n",
        "Разработайте MapReduce алгоритм, который находит максимальное число входного списка чисел."
      ]
    },
    {
      "cell_type": "code",
      "metadata": {
        "id": "3GRA1JR-Tkbg"
      },
      "source": [
        "import random\n",
        "from itertools import chain\n",
        "\n",
        "def flatten(nested_iterable):\n",
        "  for iterable in nested_iterable:\n",
        "    for element in iterable:\n",
        "      yield element\n",
        "\n",
        "def groupbykey(iterable):\n",
        "  t = {}\n",
        "  for (k2, v2) in iterable:\n",
        "    t[k2] = t.get(k2, []) + [v2]\n",
        "  return t.items()\n",
        "\n",
        "def MapReduce(data, map_func, reduce_func):\n",
        "    mapped = flatten(map(lambda pair: map_func(*pair), data))\n",
        "    grouped = group_by_key(mapped)\n",
        "    return flatten(map(lambda kv: reduce_func(*kv), grouped))\n",
        "\n",
        "def MAP(key, value):\n",
        "    yield key, value\n",
        "\n",
        "def REDUCE(key, values):\n",
        "    yield max(values)\n",
        "\n",
        "def RECORDREADER(count):\n",
        "    return ((None, random.randint(0, 100)) for _ in range(count))"
      ],
      "execution_count": 3,
      "outputs": []
    },
    {
      "cell_type": "code",
      "source": [
        "data = list(RECORDREADER(20))\n",
        "print(\"Input Data:\", [value for _, value in data])\n",
        "\n",
        "max_value = list(MapReduce(data, MAP, REDUCE))\n",
        "print(\"Max Value:\", max_value[0])\n"
      ],
      "metadata": {
        "colab": {
          "base_uri": "https://localhost:8080/",
          "height": 106
        },
        "id": "NJsL4a7eu4fI",
        "outputId": "7e3d853f-4b74-4a88-80c5-d80d860b2b03"
      },
      "execution_count": 6,
      "outputs": [
        {
          "output_type": "error",
          "ename": "SyntaxError",
          "evalue": "invalid syntax (<ipython-input-6-02eb7ba8412d>, line 27)",
          "traceback": [
            "\u001b[0;36m  File \u001b[0;32m\"<ipython-input-6-02eb7ba8412d>\"\u001b[0;36m, line \u001b[0;32m27\u001b[0m\n\u001b[0;31m    return ((None, random.randint(0, 100)) for _ in range(count))data = list(RECORDREADER(20))\u001b[0m\n\u001b[0m                                                                 ^\u001b[0m\n\u001b[0;31mSyntaxError\u001b[0m\u001b[0;31m:\u001b[0m invalid syntax\n"
          ]
        }
      ]
    },
    {
      "cell_type": "markdown",
      "metadata": {
        "id": "k86bXnqZTk-U"
      },
      "source": [
        "### Арифметическое среднее\n",
        "\n",
        "Разработайте MapReduce алгоритм, который находит арифметическое среднее.\n",
        "\n",
        "$$\\overline{X} = \\frac{1}{n}\\sum_{i=0}^{n} x_i$$\n"
      ]
    },
    {
      "cell_type": "code",
      "metadata": {
        "id": "MPoY5pkfUNZf"
      },
      "source": [
        "import random\n",
        "from itertools import chain\n",
        "\n",
        "def flatten(nested_iterable):\n",
        "    for iterable in nested_iterable:\n",
        "        for element in iterable:\n",
        "            yield element\n",
        "\n",
        "def groupbykey(iterable):\n",
        "    t = {}\n",
        "    for (k2, v2) in iterable:\n",
        "        t[k2] = t.get(k2, []) + [v2]\n",
        "    return t.items()\n",
        "\n",
        "def MapReduce(data, map_func, reduce_func):\n",
        "    mapped = flatten(map(lambda pair: map_func(*pair), data))\n",
        "    grouped = groupbykey(mapped)\n",
        "    return flatten(map(lambda kv: reduce_func(*kv), grouped))\n",
        "\n",
        "def MAP(key, value):\n",
        "    yield \"sum\", value\n",
        "    yield \"count\", 1\n",
        "\n",
        "def REDUCE(key, values):\n",
        "    yield key, sum(values)\n",
        "\n",
        "def RECORDREADER(count):\n",
        "    return ((None, random.randint(0, 100)) for _ in range(count))"
      ],
      "execution_count": 7,
      "outputs": []
    },
    {
      "cell_type": "code",
      "source": [
        "data = list(RECORDREADER(20))\n",
        "print(\"Input Data:\", [value for _, value in data])\n",
        "\n",
        "results = dict(MapReduce(data, MAP, REDUCE))\n",
        "mean_value = results[\"sum\"] / results[\"count\"]\n",
        "print(\"Mean Value:\", mean_value)"
      ],
      "metadata": {
        "colab": {
          "base_uri": "https://localhost:8080/"
        },
        "id": "AypaoCasxtkN",
        "outputId": "725a4167-fcf8-492b-86e7-adb623e3be75"
      },
      "execution_count": 8,
      "outputs": [
        {
          "output_type": "stream",
          "name": "stdout",
          "text": [
            "Input Data: [31, 47, 57, 89, 92, 30, 41, 82, 7, 34, 24, 80, 13, 63, 68, 11, 0, 32, 63, 66]\n",
            "Mean Value: 46.5\n"
          ]
        }
      ]
    },
    {
      "cell_type": "markdown",
      "metadata": {
        "id": "xanzszhsIlLe"
      },
      "source": [
        "### GroupByKey на основе сортировки\n",
        "\n",
        "Реализуйте groupByKey на основе сортировки, проверьте его работу на примерах"
      ]
    },
    {
      "cell_type": "code",
      "metadata": {
        "id": "hQPn3USsIkEC"
      },
      "source": [
        "import random\n",
        "from itertools import groupby\n",
        "\n",
        "def groupByKey_sorted(iterable):\n",
        "    sorted_iterable = sorted(iterable, key=lambda x: x[0])\n",
        "    return ((key, [v for _, v in group]) for key, group in groupby(sorted_iterable, key=lambda x: x[0]))\n",
        "\n",
        "def MAP(key, value):\n",
        "    yield 1, value\n",
        "\n",
        "def REDUCE(key, values):\n",
        "    total = sum(values)\n",
        "    count = len(values)\n",
        "    yield total / count\n",
        "\n",
        "def RECORDREADER(count):\n",
        "    return ((1, random.randint(0, 100)) for _ in range(count))\n",
        "\n",
        "def MapReduce(RECORDREADER, MAP, REDUCE):\n",
        "    return flatten(map(lambda x: REDUCE(*x), groupByKey_sorted(flatten(map(lambda x: MAP(*x), RECORDREADER)))))"
      ],
      "execution_count": 11,
      "outputs": []
    },
    {
      "cell_type": "code",
      "source": [
        "array = list(RECORDREADER(100))\n",
        "print(\"Input Data:\", array)\n",
        "\n",
        "result = list(MapReduce(array, MAP, REDUCE))\n",
        "print(\"Average value:\", result[0])"
      ],
      "metadata": {
        "colab": {
          "base_uri": "https://localhost:8080/"
        },
        "id": "JmPCvAm00GGK",
        "outputId": "12969c2b-ed40-41b1-c9f0-2212b33ed1ff"
      },
      "execution_count": 12,
      "outputs": [
        {
          "output_type": "stream",
          "name": "stdout",
          "text": [
            "Input Data: [(1, 58), (1, 29), (1, 43), (1, 24), (1, 16), (1, 17), (1, 85), (1, 7), (1, 99), (1, 98), (1, 95), (1, 51), (1, 98), (1, 39), (1, 25), (1, 27), (1, 66), (1, 9), (1, 15), (1, 4), (1, 25), (1, 19), (1, 36), (1, 72), (1, 48), (1, 60), (1, 44), (1, 100), (1, 39), (1, 8), (1, 100), (1, 38), (1, 48), (1, 89), (1, 7), (1, 77), (1, 7), (1, 0), (1, 46), (1, 29), (1, 89), (1, 12), (1, 81), (1, 48), (1, 9), (1, 0), (1, 25), (1, 65), (1, 60), (1, 71), (1, 98), (1, 77), (1, 43), (1, 54), (1, 2), (1, 57), (1, 24), (1, 81), (1, 18), (1, 11), (1, 80), (1, 55), (1, 60), (1, 47), (1, 3), (1, 24), (1, 74), (1, 32), (1, 23), (1, 80), (1, 79), (1, 88), (1, 25), (1, 21), (1, 3), (1, 14), (1, 25), (1, 71), (1, 15), (1, 36), (1, 70), (1, 16), (1, 94), (1, 17), (1, 2), (1, 7), (1, 83), (1, 92), (1, 7), (1, 30), (1, 16), (1, 29), (1, 26), (1, 6), (1, 80), (1, 66), (1, 37), (1, 14), (1, 43), (1, 46)]\n",
            "Average value: 43.58\n"
          ]
        }
      ]
    },
    {
      "cell_type": "markdown",
      "metadata": {
        "id": "5SgEjCZyGnu6"
      },
      "source": [
        "### Drop duplicates (set construction, unique elements, distinct)\n",
        "\n",
        "Реализуйте распределённую операцию исключения дубликатов"
      ]
    },
    {
      "cell_type": "code",
      "metadata": {
        "id": "okjbyApjGhMt"
      },
      "source": [
        "import numpy as np\n",
        "from itertools import chain\n",
        "\n",
        "# d1 = \"it is where it is\\nit where it is is what it is\"\n",
        "# d2 = \"where is it is is\"\n",
        "# d3 = \"it is camera\"\n",
        "d1 = \"\"\"\n",
        "it is what it is\n",
        "it is what it is\n",
        "it is what it is\"\"\"\n",
        "d2 = \"\"\"\n",
        "what is it\n",
        "what is it\"\"\"\n",
        "d3 = \"\"\"\n",
        "it is a banana\"\"\"\n",
        "\n",
        "documents = [d1, d2, d3] * 2\n",
        "maps, reducers = 3, 2\n",
        "\n",
        "def groupbykey_distributed(map_partitions, PARTITIONER):\n",
        "    partitions = [{} for _ in range(reducers)]\n",
        "    for partition in map_partitions:\n",
        "        for k, v in partition:\n",
        "            partitions[PARTITIONER(k)].setdefault(k, []).append(v)\n",
        "    return list(enumerate(map(lambda p: sorted(p.items(), key=lambda x: x[0]), partitions)))\n",
        "\n",
        "def PARTITIONER(obj):\n",
        "    return hash(obj) % reducers\n",
        "\n",
        "def MapReduceDistributed(INPUTFORMAT, MAP, REDUCE, PARTITIONER=PARTITIONER, COMBINER=None):\n",
        "    def flatten(lst): return chain.from_iterable(lst)\n",
        "    def groupbykey(items):\n",
        "        groups = {}\n",
        "        for k, v in items:\n",
        "            groups.setdefault(k, []).append(v)\n",
        "        return groups.items()\n",
        "\n",
        "    map_partitions = [list(flatten(MAP(*kv) for kv in reader)) for reader in INPUTFORMAT()]\n",
        "    if COMBINER:\n",
        "        map_partitions = [list(flatten(COMBINER(*kv) for kv in groupbykey(partition))) for partition in map_partitions]\n",
        "\n",
        "    reduce_partitions = groupbykey_distributed(map_partitions, PARTITIONER)\n",
        "    reduce_outputs = [(pid, list(flatten(REDUCE(*group) for group in partition))) for pid, partition in reduce_partitions]\n",
        "\n",
        "    total_values = sum(len(vs) for _, partition in reduce_partitions for _, vs in partition)\n",
        "    print(f\"{total_values} key-value pairs were sent over a network.\")\n",
        "    return reduce_outputs\n",
        "\n",
        "def INPUTFORMAT():\n",
        "    def RECORDREADER(split):\n",
        "        return ((f\"{i}:{j}\", line) for i, doc in enumerate(split) for j, line in enumerate(doc.split('\\n')))\n",
        "\n",
        "    split_size = -(-len(documents) // maps)  # Ceiling division\n",
        "    return (RECORDREADER(documents[i:i+split_size]) for i in range(0, len(documents), split_size))\n",
        "\n",
        "def MAP(docId, line):\n",
        "    return ((word, word) for word in line.split())\n",
        "\n",
        "def REDUCE(key, value):\n",
        "    yield key"
      ],
      "execution_count": 1,
      "outputs": []
    },
    {
      "cell_type": "code",
      "source": [
        "partitioned_output = MapReduceDistributed(INPUTFORMAT, MAP, REDUCE)\n",
        "partitioned_output\n"
      ],
      "metadata": {
        "colab": {
          "base_uri": "https://localhost:8080/"
        },
        "id": "vjGJI-Mi0Y-_",
        "outputId": "67ccc530-c88e-4560-a518-06b9ec894de0"
      },
      "execution_count": 2,
      "outputs": [
        {
          "output_type": "stream",
          "name": "stdout",
          "text": [
            "50 key-value pairs were sent over a network.\n"
          ]
        },
        {
          "output_type": "execute_result",
          "data": {
            "text/plain": [
              "[(0, ['banana', 'it']), (1, ['a', 'is', 'what'])]"
            ]
          },
          "metadata": {},
          "execution_count": 2
        }
      ]
    },
    {
      "cell_type": "markdown",
      "metadata": {
        "id": "e7sRGoTXuJze"
      },
      "source": [
        "#Операторы реляционной алгебры\n",
        "### Selection (Выборка)\n",
        "\n",
        "**The Map Function**: Для  каждого кортежа $t \\in R$ вычисляется истинность предиката $C$. В случае истины создаётся пара ключ-значение $(t, t)$. В паре ключ и значение одинаковы, равны $t$.\n",
        "\n",
        "**The Reduce Function:** Роль функции Reduce выполняет функция идентичности, которая возвращает то же значение, что получила на вход.\n",
        "\n"
      ]
    },
    {
      "cell_type": "code",
      "metadata": {
        "id": "4nKIKe59uIfc"
      },
      "source": [
        "import random\n",
        "from itertools import chain\n",
        "\n",
        "def MAP(tuple_list):\n",
        "    return [(t, t) for t in tuple_list if is_even_first_element(t)]\n",
        "\n",
        "def REDUCE(mapped_items):\n",
        "    return list(chain.from_iterable(map(lambda x: [x[1]], mapped_items)))\n",
        "\n",
        "def is_even_first_element(t):\n",
        "    return t[0] % 2 == 0\n",
        "\n",
        "def RECORDREADER(count):\n",
        "    return [tuple(random.randint(0, 100) for _ in range(3)) for _ in range(count)]\n",
        "\n",
        "def process_data(data, partition_size):\n",
        "    partitioned_data = [data[i:i + partition_size] for i in range(0, len(data), partition_size)]\n",
        "    mapped_results = [item for partition in partitioned_data for item in MAP(partition)]\n",
        "    return REDUCE(mapped_results)"
      ],
      "execution_count": null,
      "outputs": []
    },
    {
      "cell_type": "code",
      "source": [
        "input_data = RECORDREADER(5)\n",
        "print(\"Input Data:\", input_data)\n",
        "\n",
        "result = process_data(input_data, 5)\n",
        "print(\"Filter value:\", result)"
      ],
      "metadata": {
        "id": "4-__YiI_1-sg"
      },
      "execution_count": null,
      "outputs": []
    },
    {
      "cell_type": "markdown",
      "metadata": {
        "id": "w27Ca-_Ku85V"
      },
      "source": [
        "### Projection (Проекция)\n",
        "\n",
        "Проекция на множество атрибутов $S$.\n",
        "\n",
        "**The Map Function:** Для каждого кортежа $t \\in R$ создайте кортеж $t′$, исключая  из $t$ те значения, атрибуты которых не принадлежат  $S$. Верните пару $(t′, t′)$.\n",
        "\n",
        "**The Reduce Function:** Для каждого ключа $t′$, созданного любой Map задачей, вы получаете одну или несколько пар $(t′, t′)$. Reduce функция преобразует $(t′, [t′, t′, . . . , t′])$ в $(t′, t′)$, так, что для ключа $t′$ возвращается одна пара  $(t′, t′)$."
      ]
    },
    {
      "cell_type": "code",
      "metadata": {
        "id": "BEvuY4GqvhS6"
      },
      "source": [
        "from typing import Iterator, NamedTuple\n",
        "\n",
        "S = {25, 90, 69}\n",
        "\n",
        "def MAP(t):\n",
        "    filtered = tuple(el for el in t if el in S)\n",
        "    return (filtered, filtered)\n",
        "\n",
        "def REDUCE(key, values: Iterator[NamedTuple]):\n",
        "    return key, key\n",
        "\n",
        "def RECORDREADER(count):\n",
        "    return [(random.randint(0, 100), random.randint(0, 100), random.randint(0, 100)) for _ in range(count)]\n",
        "\n",
        "def group_by_key(iterable):\n",
        "    t = {}\n",
        "    for (k2, v2) in iterable:\n",
        "        t[k2] = t.get(k2, []) + [v2]\n",
        "    return t.items()"
      ],
      "execution_count": 19,
      "outputs": []
    },
    {
      "cell_type": "code",
      "source": [
        "record = RECORDREADER(5)\n",
        "print(\"Input records:\", record)\n",
        "\n",
        "map_output = list(map(MAP, RECORDREADER(100)))\n",
        "print(\"MAP output:\", map_output)\n",
        "\n",
        "shuffle_output = group_by_key(map(MAP, RECORDREADER(100)))\n",
        "\n",
        "reduce_output = list(map(lambda x: REDUCE(*x)[0], list(shuffle_output)))\n",
        "print(\"Reduce output:\", reduce_output)"
      ],
      "metadata": {
        "colab": {
          "base_uri": "https://localhost:8080/"
        },
        "id": "Yy3QmN1N2-00",
        "outputId": "7b4777b3-7274-4807-a127-983f1c4b291d"
      },
      "execution_count": 20,
      "outputs": [
        {
          "output_type": "stream",
          "name": "stdout",
          "text": [
            "Input records: [(75, 22, 96), (12, 62, 44), (86, 29, 66), (54, 24, 96), (5, 62, 85)]\n",
            "MAP output: [((), ()), ((), ()), ((), ()), ((), ()), ((), ()), ((), ()), ((), ()), ((), ()), ((), ()), ((), ()), ((), ()), ((), ()), ((), ()), ((), ()), ((69,), (69,)), ((), ()), ((), ()), ((69,), (69,)), ((90,), (90,)), ((), ()), ((), ()), ((90,), (90,)), ((), ()), ((), ()), ((), ()), ((), ()), ((90,), (90,)), ((), ()), ((), ()), ((), ()), ((), ()), ((), ()), ((), ()), ((), ()), ((), ()), ((), ()), ((), ()), ((), ()), ((90,), (90,)), ((), ()), ((), ()), ((), ()), ((), ()), ((), ()), ((69,), (69,)), ((), ()), ((), ()), ((), ()), ((), ()), ((), ()), ((), ()), ((), ()), ((), ()), ((), ()), ((), ()), ((), ()), ((), ()), ((), ()), ((25,), (25,)), ((), ()), ((), ()), ((), ()), ((), ()), ((), ()), ((), ()), ((), ()), ((), ()), ((), ()), ((), ()), ((), ()), ((69,), (69,)), ((), ()), ((), ()), ((), ()), ((), ()), ((), ()), ((), ()), ((), ()), ((), ()), ((), ()), ((), ()), ((), ()), ((), ()), ((), ()), ((), ()), ((), ()), ((), ()), ((), ()), ((), ()), ((), ()), ((), ()), ((), ()), ((), ()), ((69,), (69,)), ((), ()), ((), ()), ((), ()), ((), ()), ((), ()), ((), ())]\n",
            "Reduce output: [(), (90,), (25,), (69,)]\n"
          ]
        }
      ]
    },
    {
      "cell_type": "markdown",
      "metadata": {
        "id": "7gau6lKXvn2R"
      },
      "source": [
        "### Union (Объединение)\n",
        "\n",
        "**The Map Function:** Превратите каждый входной кортеж $t$ в пару ключ-значение $(t, t)$.\n",
        "\n",
        "**The Reduce Function:** С каждым ключом $t$ будет ассоциировано одно или два значений. В обоих случаях создайте $(t, t)$ в качестве выходного значения."
      ]
    },
    {
      "cell_type": "code",
      "metadata": {
        "id": "Sns7a5agv3nw"
      },
      "source": [
        "import random\n",
        "from collections import defaultdict\n",
        "\n",
        "def MAP(t):\n",
        "    return t, t\n",
        "\n",
        "def REDUCE(key, values):\n",
        "    return key, key\n",
        "\n",
        "def group_by_key(iterable):\n",
        "    t = {}\n",
        "    for (k2, v2) in iterable:\n",
        "        t[k2] = t.get(k2, []) + [v2]\n",
        "    return t.items()\n",
        "\n",
        "def RECORDREADER(count):\n",
        "    return [(random.randint(0, 100), random.randint(0, 100), random.randint(0, 100)) for _ in range(count)]"
      ],
      "execution_count": 5,
      "outputs": []
    },
    {
      "cell_type": "code",
      "source": [
        "record = RECORDREADER(100)\n",
        "print(\"Input records:\", record)\n",
        "\n",
        "map_output = map(MAP, record)\n",
        "print(\"MAP output:\", list(map_output))\n",
        "\n",
        "shuffle_output = group_by_key(map(MAP, record))\n",
        "print(\"Shuffle output:\", list(shuffle_output))\n",
        "\n",
        "reduce_output = [REDUCE(k, v) for k, v in shuffle_output]\n",
        "print(\"Reduce output:\", reduce_output)"
      ],
      "metadata": {
        "colab": {
          "base_uri": "https://localhost:8080/"
        },
        "id": "pQvFUtVDcapJ",
        "outputId": "678acbaf-49ce-4ba0-d6c4-dbc675ac6d70"
      },
      "execution_count": 6,
      "outputs": [
        {
          "output_type": "stream",
          "name": "stdout",
          "text": [
            "Input records: [(85, 60, 57), (57, 20, 3), (43, 30, 58), (94, 98, 63), (45, 3, 51), (84, 72, 72), (2, 48, 89), (48, 5, 80), (75, 94, 91), (37, 15, 61), (7, 33, 36), (3, 80, 26), (68, 23, 22), (47, 0, 79), (100, 86, 76), (45, 52, 76), (70, 48, 73), (21, 90, 43), (70, 27, 11), (19, 95, 56), (93, 47, 33), (88, 53, 34), (29, 42, 26), (62, 24, 16), (53, 55, 71), (73, 58, 81), (0, 35, 37), (43, 62, 87), (50, 59, 84), (51, 85, 7), (89, 44, 46), (65, 87, 71), (48, 97, 78), (92, 85, 51), (89, 37, 42), (75, 48, 94), (40, 15, 61), (70, 66, 93), (46, 95, 83), (26, 93, 84), (100, 82, 33), (72, 59, 31), (76, 18, 70), (35, 41, 94), (13, 35, 50), (27, 84, 18), (59, 18, 70), (22, 52, 43), (31, 25, 61), (100, 94, 78), (12, 25, 43), (16, 34, 0), (65, 14, 100), (29, 85, 39), (62, 63, 57), (4, 96, 57), (73, 34, 29), (8, 54, 36), (76, 33, 38), (70, 68, 75), (0, 11, 40), (63, 71, 23), (36, 40, 90), (70, 43, 9), (47, 92, 65), (37, 19, 34), (3, 41, 81), (76, 71, 12), (42, 53, 16), (100, 57, 63), (21, 45, 49), (49, 48, 84), (37, 62, 79), (58, 23, 46), (29, 2, 12), (65, 68, 57), (12, 61, 31), (5, 54, 56), (2, 81, 85), (14, 75, 11), (30, 7, 51), (58, 73, 65), (66, 84, 88), (44, 73, 23), (7, 1, 17), (83, 81, 51), (99, 65, 45), (77, 47, 7), (37, 12, 65), (10, 59, 2), (46, 92, 2), (56, 80, 14), (51, 80, 86), (53, 53, 41), (98, 38, 83), (82, 52, 95), (97, 28, 4), (31, 20, 84), (67, 28, 67), (98, 92, 91)]\n",
            "MAP output: [((85, 60, 57), (85, 60, 57)), ((57, 20, 3), (57, 20, 3)), ((43, 30, 58), (43, 30, 58)), ((94, 98, 63), (94, 98, 63)), ((45, 3, 51), (45, 3, 51)), ((84, 72, 72), (84, 72, 72)), ((2, 48, 89), (2, 48, 89)), ((48, 5, 80), (48, 5, 80)), ((75, 94, 91), (75, 94, 91)), ((37, 15, 61), (37, 15, 61)), ((7, 33, 36), (7, 33, 36)), ((3, 80, 26), (3, 80, 26)), ((68, 23, 22), (68, 23, 22)), ((47, 0, 79), (47, 0, 79)), ((100, 86, 76), (100, 86, 76)), ((45, 52, 76), (45, 52, 76)), ((70, 48, 73), (70, 48, 73)), ((21, 90, 43), (21, 90, 43)), ((70, 27, 11), (70, 27, 11)), ((19, 95, 56), (19, 95, 56)), ((93, 47, 33), (93, 47, 33)), ((88, 53, 34), (88, 53, 34)), ((29, 42, 26), (29, 42, 26)), ((62, 24, 16), (62, 24, 16)), ((53, 55, 71), (53, 55, 71)), ((73, 58, 81), (73, 58, 81)), ((0, 35, 37), (0, 35, 37)), ((43, 62, 87), (43, 62, 87)), ((50, 59, 84), (50, 59, 84)), ((51, 85, 7), (51, 85, 7)), ((89, 44, 46), (89, 44, 46)), ((65, 87, 71), (65, 87, 71)), ((48, 97, 78), (48, 97, 78)), ((92, 85, 51), (92, 85, 51)), ((89, 37, 42), (89, 37, 42)), ((75, 48, 94), (75, 48, 94)), ((40, 15, 61), (40, 15, 61)), ((70, 66, 93), (70, 66, 93)), ((46, 95, 83), (46, 95, 83)), ((26, 93, 84), (26, 93, 84)), ((100, 82, 33), (100, 82, 33)), ((72, 59, 31), (72, 59, 31)), ((76, 18, 70), (76, 18, 70)), ((35, 41, 94), (35, 41, 94)), ((13, 35, 50), (13, 35, 50)), ((27, 84, 18), (27, 84, 18)), ((59, 18, 70), (59, 18, 70)), ((22, 52, 43), (22, 52, 43)), ((31, 25, 61), (31, 25, 61)), ((100, 94, 78), (100, 94, 78)), ((12, 25, 43), (12, 25, 43)), ((16, 34, 0), (16, 34, 0)), ((65, 14, 100), (65, 14, 100)), ((29, 85, 39), (29, 85, 39)), ((62, 63, 57), (62, 63, 57)), ((4, 96, 57), (4, 96, 57)), ((73, 34, 29), (73, 34, 29)), ((8, 54, 36), (8, 54, 36)), ((76, 33, 38), (76, 33, 38)), ((70, 68, 75), (70, 68, 75)), ((0, 11, 40), (0, 11, 40)), ((63, 71, 23), (63, 71, 23)), ((36, 40, 90), (36, 40, 90)), ((70, 43, 9), (70, 43, 9)), ((47, 92, 65), (47, 92, 65)), ((37, 19, 34), (37, 19, 34)), ((3, 41, 81), (3, 41, 81)), ((76, 71, 12), (76, 71, 12)), ((42, 53, 16), (42, 53, 16)), ((100, 57, 63), (100, 57, 63)), ((21, 45, 49), (21, 45, 49)), ((49, 48, 84), (49, 48, 84)), ((37, 62, 79), (37, 62, 79)), ((58, 23, 46), (58, 23, 46)), ((29, 2, 12), (29, 2, 12)), ((65, 68, 57), (65, 68, 57)), ((12, 61, 31), (12, 61, 31)), ((5, 54, 56), (5, 54, 56)), ((2, 81, 85), (2, 81, 85)), ((14, 75, 11), (14, 75, 11)), ((30, 7, 51), (30, 7, 51)), ((58, 73, 65), (58, 73, 65)), ((66, 84, 88), (66, 84, 88)), ((44, 73, 23), (44, 73, 23)), ((7, 1, 17), (7, 1, 17)), ((83, 81, 51), (83, 81, 51)), ((99, 65, 45), (99, 65, 45)), ((77, 47, 7), (77, 47, 7)), ((37, 12, 65), (37, 12, 65)), ((10, 59, 2), (10, 59, 2)), ((46, 92, 2), (46, 92, 2)), ((56, 80, 14), (56, 80, 14)), ((51, 80, 86), (51, 80, 86)), ((53, 53, 41), (53, 53, 41)), ((98, 38, 83), (98, 38, 83)), ((82, 52, 95), (82, 52, 95)), ((97, 28, 4), (97, 28, 4)), ((31, 20, 84), (31, 20, 84)), ((67, 28, 67), (67, 28, 67)), ((98, 92, 91), (98, 92, 91))]\n",
            "Shuffle output: [((85, 60, 57), [(85, 60, 57)]), ((57, 20, 3), [(57, 20, 3)]), ((43, 30, 58), [(43, 30, 58)]), ((94, 98, 63), [(94, 98, 63)]), ((45, 3, 51), [(45, 3, 51)]), ((84, 72, 72), [(84, 72, 72)]), ((2, 48, 89), [(2, 48, 89)]), ((48, 5, 80), [(48, 5, 80)]), ((75, 94, 91), [(75, 94, 91)]), ((37, 15, 61), [(37, 15, 61)]), ((7, 33, 36), [(7, 33, 36)]), ((3, 80, 26), [(3, 80, 26)]), ((68, 23, 22), [(68, 23, 22)]), ((47, 0, 79), [(47, 0, 79)]), ((100, 86, 76), [(100, 86, 76)]), ((45, 52, 76), [(45, 52, 76)]), ((70, 48, 73), [(70, 48, 73)]), ((21, 90, 43), [(21, 90, 43)]), ((70, 27, 11), [(70, 27, 11)]), ((19, 95, 56), [(19, 95, 56)]), ((93, 47, 33), [(93, 47, 33)]), ((88, 53, 34), [(88, 53, 34)]), ((29, 42, 26), [(29, 42, 26)]), ((62, 24, 16), [(62, 24, 16)]), ((53, 55, 71), [(53, 55, 71)]), ((73, 58, 81), [(73, 58, 81)]), ((0, 35, 37), [(0, 35, 37)]), ((43, 62, 87), [(43, 62, 87)]), ((50, 59, 84), [(50, 59, 84)]), ((51, 85, 7), [(51, 85, 7)]), ((89, 44, 46), [(89, 44, 46)]), ((65, 87, 71), [(65, 87, 71)]), ((48, 97, 78), [(48, 97, 78)]), ((92, 85, 51), [(92, 85, 51)]), ((89, 37, 42), [(89, 37, 42)]), ((75, 48, 94), [(75, 48, 94)]), ((40, 15, 61), [(40, 15, 61)]), ((70, 66, 93), [(70, 66, 93)]), ((46, 95, 83), [(46, 95, 83)]), ((26, 93, 84), [(26, 93, 84)]), ((100, 82, 33), [(100, 82, 33)]), ((72, 59, 31), [(72, 59, 31)]), ((76, 18, 70), [(76, 18, 70)]), ((35, 41, 94), [(35, 41, 94)]), ((13, 35, 50), [(13, 35, 50)]), ((27, 84, 18), [(27, 84, 18)]), ((59, 18, 70), [(59, 18, 70)]), ((22, 52, 43), [(22, 52, 43)]), ((31, 25, 61), [(31, 25, 61)]), ((100, 94, 78), [(100, 94, 78)]), ((12, 25, 43), [(12, 25, 43)]), ((16, 34, 0), [(16, 34, 0)]), ((65, 14, 100), [(65, 14, 100)]), ((29, 85, 39), [(29, 85, 39)]), ((62, 63, 57), [(62, 63, 57)]), ((4, 96, 57), [(4, 96, 57)]), ((73, 34, 29), [(73, 34, 29)]), ((8, 54, 36), [(8, 54, 36)]), ((76, 33, 38), [(76, 33, 38)]), ((70, 68, 75), [(70, 68, 75)]), ((0, 11, 40), [(0, 11, 40)]), ((63, 71, 23), [(63, 71, 23)]), ((36, 40, 90), [(36, 40, 90)]), ((70, 43, 9), [(70, 43, 9)]), ((47, 92, 65), [(47, 92, 65)]), ((37, 19, 34), [(37, 19, 34)]), ((3, 41, 81), [(3, 41, 81)]), ((76, 71, 12), [(76, 71, 12)]), ((42, 53, 16), [(42, 53, 16)]), ((100, 57, 63), [(100, 57, 63)]), ((21, 45, 49), [(21, 45, 49)]), ((49, 48, 84), [(49, 48, 84)]), ((37, 62, 79), [(37, 62, 79)]), ((58, 23, 46), [(58, 23, 46)]), ((29, 2, 12), [(29, 2, 12)]), ((65, 68, 57), [(65, 68, 57)]), ((12, 61, 31), [(12, 61, 31)]), ((5, 54, 56), [(5, 54, 56)]), ((2, 81, 85), [(2, 81, 85)]), ((14, 75, 11), [(14, 75, 11)]), ((30, 7, 51), [(30, 7, 51)]), ((58, 73, 65), [(58, 73, 65)]), ((66, 84, 88), [(66, 84, 88)]), ((44, 73, 23), [(44, 73, 23)]), ((7, 1, 17), [(7, 1, 17)]), ((83, 81, 51), [(83, 81, 51)]), ((99, 65, 45), [(99, 65, 45)]), ((77, 47, 7), [(77, 47, 7)]), ((37, 12, 65), [(37, 12, 65)]), ((10, 59, 2), [(10, 59, 2)]), ((46, 92, 2), [(46, 92, 2)]), ((56, 80, 14), [(56, 80, 14)]), ((51, 80, 86), [(51, 80, 86)]), ((53, 53, 41), [(53, 53, 41)]), ((98, 38, 83), [(98, 38, 83)]), ((82, 52, 95), [(82, 52, 95)]), ((97, 28, 4), [(97, 28, 4)]), ((31, 20, 84), [(31, 20, 84)]), ((67, 28, 67), [(67, 28, 67)]), ((98, 92, 91), [(98, 92, 91)])]\n",
            "Reduce output: [((85, 60, 57), (85, 60, 57)), ((57, 20, 3), (57, 20, 3)), ((43, 30, 58), (43, 30, 58)), ((94, 98, 63), (94, 98, 63)), ((45, 3, 51), (45, 3, 51)), ((84, 72, 72), (84, 72, 72)), ((2, 48, 89), (2, 48, 89)), ((48, 5, 80), (48, 5, 80)), ((75, 94, 91), (75, 94, 91)), ((37, 15, 61), (37, 15, 61)), ((7, 33, 36), (7, 33, 36)), ((3, 80, 26), (3, 80, 26)), ((68, 23, 22), (68, 23, 22)), ((47, 0, 79), (47, 0, 79)), ((100, 86, 76), (100, 86, 76)), ((45, 52, 76), (45, 52, 76)), ((70, 48, 73), (70, 48, 73)), ((21, 90, 43), (21, 90, 43)), ((70, 27, 11), (70, 27, 11)), ((19, 95, 56), (19, 95, 56)), ((93, 47, 33), (93, 47, 33)), ((88, 53, 34), (88, 53, 34)), ((29, 42, 26), (29, 42, 26)), ((62, 24, 16), (62, 24, 16)), ((53, 55, 71), (53, 55, 71)), ((73, 58, 81), (73, 58, 81)), ((0, 35, 37), (0, 35, 37)), ((43, 62, 87), (43, 62, 87)), ((50, 59, 84), (50, 59, 84)), ((51, 85, 7), (51, 85, 7)), ((89, 44, 46), (89, 44, 46)), ((65, 87, 71), (65, 87, 71)), ((48, 97, 78), (48, 97, 78)), ((92, 85, 51), (92, 85, 51)), ((89, 37, 42), (89, 37, 42)), ((75, 48, 94), (75, 48, 94)), ((40, 15, 61), (40, 15, 61)), ((70, 66, 93), (70, 66, 93)), ((46, 95, 83), (46, 95, 83)), ((26, 93, 84), (26, 93, 84)), ((100, 82, 33), (100, 82, 33)), ((72, 59, 31), (72, 59, 31)), ((76, 18, 70), (76, 18, 70)), ((35, 41, 94), (35, 41, 94)), ((13, 35, 50), (13, 35, 50)), ((27, 84, 18), (27, 84, 18)), ((59, 18, 70), (59, 18, 70)), ((22, 52, 43), (22, 52, 43)), ((31, 25, 61), (31, 25, 61)), ((100, 94, 78), (100, 94, 78)), ((12, 25, 43), (12, 25, 43)), ((16, 34, 0), (16, 34, 0)), ((65, 14, 100), (65, 14, 100)), ((29, 85, 39), (29, 85, 39)), ((62, 63, 57), (62, 63, 57)), ((4, 96, 57), (4, 96, 57)), ((73, 34, 29), (73, 34, 29)), ((8, 54, 36), (8, 54, 36)), ((76, 33, 38), (76, 33, 38)), ((70, 68, 75), (70, 68, 75)), ((0, 11, 40), (0, 11, 40)), ((63, 71, 23), (63, 71, 23)), ((36, 40, 90), (36, 40, 90)), ((70, 43, 9), (70, 43, 9)), ((47, 92, 65), (47, 92, 65)), ((37, 19, 34), (37, 19, 34)), ((3, 41, 81), (3, 41, 81)), ((76, 71, 12), (76, 71, 12)), ((42, 53, 16), (42, 53, 16)), ((100, 57, 63), (100, 57, 63)), ((21, 45, 49), (21, 45, 49)), ((49, 48, 84), (49, 48, 84)), ((37, 62, 79), (37, 62, 79)), ((58, 23, 46), (58, 23, 46)), ((29, 2, 12), (29, 2, 12)), ((65, 68, 57), (65, 68, 57)), ((12, 61, 31), (12, 61, 31)), ((5, 54, 56), (5, 54, 56)), ((2, 81, 85), (2, 81, 85)), ((14, 75, 11), (14, 75, 11)), ((30, 7, 51), (30, 7, 51)), ((58, 73, 65), (58, 73, 65)), ((66, 84, 88), (66, 84, 88)), ((44, 73, 23), (44, 73, 23)), ((7, 1, 17), (7, 1, 17)), ((83, 81, 51), (83, 81, 51)), ((99, 65, 45), (99, 65, 45)), ((77, 47, 7), (77, 47, 7)), ((37, 12, 65), (37, 12, 65)), ((10, 59, 2), (10, 59, 2)), ((46, 92, 2), (46, 92, 2)), ((56, 80, 14), (56, 80, 14)), ((51, 80, 86), (51, 80, 86)), ((53, 53, 41), (53, 53, 41)), ((98, 38, 83), (98, 38, 83)), ((82, 52, 95), (82, 52, 95)), ((97, 28, 4), (97, 28, 4)), ((31, 20, 84), (31, 20, 84)), ((67, 28, 67), (67, 28, 67)), ((98, 92, 91), (98, 92, 91))]\n"
          ]
        }
      ]
    },
    {
      "cell_type": "markdown",
      "metadata": {
        "id": "dQ8TuEbjv4J8"
      },
      "source": [
        "### Intersection (Пересечение)\n",
        "\n",
        "**The Map Function:** Превратите каждый кортеж $t$ в пары ключ-значение $(t, t)$.\n",
        "\n",
        "**The Reduce Function:** Если для ключа $t$ есть список из двух элементов $[t, t]$ $-$ создайте пару $(t, t)$. Иначе, ничего не создавайте."
      ]
    },
    {
      "cell_type": "code",
      "metadata": {
        "id": "XKlBZh4IwERR"
      },
      "source": [
        "import random\n",
        "\n",
        "def MAP(t):\n",
        "    return t, t\n",
        "\n",
        "def REDUCE(key, values):\n",
        "    if len(values) == 2:\n",
        "        return key, key\n",
        "    return None\n",
        "\n",
        "def RECORDREADER(count):\n",
        "    return [(random.randint(0, 3), random.randint(0, 3)) for _ in range(count)]\n",
        "\n",
        "def group_by_key(iterable):\n",
        "    t = {}\n",
        "    for (k2, v2) in iterable:\n",
        "        t[k2] = t.get(k2, []) + [v2]\n",
        "    return t.items()\n"
      ],
      "execution_count": 7,
      "outputs": []
    },
    {
      "cell_type": "code",
      "source": [
        "record = RECORDREADER(100)\n",
        "print(\"Input records:\", record)\n",
        "\n",
        "map_output = list(map(MAP, record))\n",
        "print(\"MAP output:\", map_output)\n",
        "\n",
        "shuffle_output = list(group_by_key(map_output))\n",
        "print(\"Shuffle output:\", shuffle_output)\n",
        "\n",
        "reduce_output = list(filter(None, map(lambda x: REDUCE(*x), shuffle_output)))\n",
        "print(\"Reduce output:\", reduce_output)"
      ],
      "metadata": {
        "colab": {
          "base_uri": "https://localhost:8080/"
        },
        "id": "0-evyNAaczWg",
        "outputId": "972b68cd-159f-4369-ef99-ac145cbeacda"
      },
      "execution_count": 8,
      "outputs": [
        {
          "output_type": "stream",
          "name": "stdout",
          "text": [
            "Input records: [(0, 3), (3, 0), (1, 1), (3, 0), (3, 0), (1, 2), (1, 1), (2, 3), (2, 3), (2, 0), (3, 3), (2, 2), (3, 1), (2, 0), (2, 2), (2, 0), (1, 0), (3, 3), (3, 1), (3, 1), (2, 1), (0, 0), (1, 1), (1, 3), (0, 2), (2, 0), (3, 2), (2, 1), (2, 0), (2, 3), (1, 2), (2, 1), (0, 3), (1, 3), (2, 2), (2, 1), (3, 0), (2, 1), (2, 2), (2, 3), (3, 0), (2, 3), (0, 0), (1, 2), (2, 0), (0, 0), (3, 0), (0, 3), (2, 3), (1, 0), (2, 3), (2, 3), (1, 1), (0, 3), (2, 1), (0, 3), (1, 3), (2, 0), (3, 0), (0, 1), (0, 2), (2, 3), (3, 0), (0, 1), (3, 1), (2, 1), (2, 0), (3, 2), (0, 2), (1, 3), (3, 1), (1, 2), (3, 0), (3, 2), (2, 3), (3, 0), (3, 3), (3, 2), (2, 3), (2, 0), (0, 0), (3, 0), (3, 2), (3, 3), (0, 3), (1, 1), (1, 1), (3, 3), (0, 1), (3, 2), (3, 3), (3, 0), (0, 2), (3, 1), (1, 2), (0, 1), (3, 2), (0, 0), (2, 0), (1, 2)]\n",
            "MAP output: [((0, 3), (0, 3)), ((3, 0), (3, 0)), ((1, 1), (1, 1)), ((3, 0), (3, 0)), ((3, 0), (3, 0)), ((1, 2), (1, 2)), ((1, 1), (1, 1)), ((2, 3), (2, 3)), ((2, 3), (2, 3)), ((2, 0), (2, 0)), ((3, 3), (3, 3)), ((2, 2), (2, 2)), ((3, 1), (3, 1)), ((2, 0), (2, 0)), ((2, 2), (2, 2)), ((2, 0), (2, 0)), ((1, 0), (1, 0)), ((3, 3), (3, 3)), ((3, 1), (3, 1)), ((3, 1), (3, 1)), ((2, 1), (2, 1)), ((0, 0), (0, 0)), ((1, 1), (1, 1)), ((1, 3), (1, 3)), ((0, 2), (0, 2)), ((2, 0), (2, 0)), ((3, 2), (3, 2)), ((2, 1), (2, 1)), ((2, 0), (2, 0)), ((2, 3), (2, 3)), ((1, 2), (1, 2)), ((2, 1), (2, 1)), ((0, 3), (0, 3)), ((1, 3), (1, 3)), ((2, 2), (2, 2)), ((2, 1), (2, 1)), ((3, 0), (3, 0)), ((2, 1), (2, 1)), ((2, 2), (2, 2)), ((2, 3), (2, 3)), ((3, 0), (3, 0)), ((2, 3), (2, 3)), ((0, 0), (0, 0)), ((1, 2), (1, 2)), ((2, 0), (2, 0)), ((0, 0), (0, 0)), ((3, 0), (3, 0)), ((0, 3), (0, 3)), ((2, 3), (2, 3)), ((1, 0), (1, 0)), ((2, 3), (2, 3)), ((2, 3), (2, 3)), ((1, 1), (1, 1)), ((0, 3), (0, 3)), ((2, 1), (2, 1)), ((0, 3), (0, 3)), ((1, 3), (1, 3)), ((2, 0), (2, 0)), ((3, 0), (3, 0)), ((0, 1), (0, 1)), ((0, 2), (0, 2)), ((2, 3), (2, 3)), ((3, 0), (3, 0)), ((0, 1), (0, 1)), ((3, 1), (3, 1)), ((2, 1), (2, 1)), ((2, 0), (2, 0)), ((3, 2), (3, 2)), ((0, 2), (0, 2)), ((1, 3), (1, 3)), ((3, 1), (3, 1)), ((1, 2), (1, 2)), ((3, 0), (3, 0)), ((3, 2), (3, 2)), ((2, 3), (2, 3)), ((3, 0), (3, 0)), ((3, 3), (3, 3)), ((3, 2), (3, 2)), ((2, 3), (2, 3)), ((2, 0), (2, 0)), ((0, 0), (0, 0)), ((3, 0), (3, 0)), ((3, 2), (3, 2)), ((3, 3), (3, 3)), ((0, 3), (0, 3)), ((1, 1), (1, 1)), ((1, 1), (1, 1)), ((3, 3), (3, 3)), ((0, 1), (0, 1)), ((3, 2), (3, 2)), ((3, 3), (3, 3)), ((3, 0), (3, 0)), ((0, 2), (0, 2)), ((3, 1), (3, 1)), ((1, 2), (1, 2)), ((0, 1), (0, 1)), ((3, 2), (3, 2)), ((0, 0), (0, 0)), ((2, 0), (2, 0)), ((1, 2), (1, 2))]\n",
            "Shuffle output: [((0, 3), [(0, 3), (0, 3), (0, 3), (0, 3), (0, 3), (0, 3)]), ((3, 0), [(3, 0), (3, 0), (3, 0), (3, 0), (3, 0), (3, 0), (3, 0), (3, 0), (3, 0), (3, 0), (3, 0), (3, 0)]), ((1, 1), [(1, 1), (1, 1), (1, 1), (1, 1), (1, 1), (1, 1)]), ((1, 2), [(1, 2), (1, 2), (1, 2), (1, 2), (1, 2), (1, 2)]), ((2, 3), [(2, 3), (2, 3), (2, 3), (2, 3), (2, 3), (2, 3), (2, 3), (2, 3), (2, 3), (2, 3), (2, 3)]), ((2, 0), [(2, 0), (2, 0), (2, 0), (2, 0), (2, 0), (2, 0), (2, 0), (2, 0), (2, 0), (2, 0)]), ((3, 3), [(3, 3), (3, 3), (3, 3), (3, 3), (3, 3), (3, 3)]), ((2, 2), [(2, 2), (2, 2), (2, 2), (2, 2)]), ((3, 1), [(3, 1), (3, 1), (3, 1), (3, 1), (3, 1), (3, 1)]), ((1, 0), [(1, 0), (1, 0)]), ((2, 1), [(2, 1), (2, 1), (2, 1), (2, 1), (2, 1), (2, 1), (2, 1)]), ((0, 0), [(0, 0), (0, 0), (0, 0), (0, 0), (0, 0)]), ((1, 3), [(1, 3), (1, 3), (1, 3), (1, 3)]), ((0, 2), [(0, 2), (0, 2), (0, 2), (0, 2)]), ((3, 2), [(3, 2), (3, 2), (3, 2), (3, 2), (3, 2), (3, 2), (3, 2)]), ((0, 1), [(0, 1), (0, 1), (0, 1), (0, 1)])]\n",
            "Reduce output: [((1, 0), (1, 0))]\n"
          ]
        }
      ]
    },
    {
      "cell_type": "markdown",
      "metadata": {
        "id": "AVOpqoY3wE5k"
      },
      "source": [
        "### Difference (Разница)\n",
        "\n",
        "**The Map Function:** Для кортежа $t \\in R$, создайте пару $(t, R)$, и для кортежа $t \\in S$, создайте пару $(t, S)$. Задумка заключается в том, чтобы значение пары было именем отношения $R$ or $S$, которому принадлежит кортеж (а лучше, единичный бит, по которому можно два отношения различить $R$ or $S$), а не весь набор атрибутов отношения.\n",
        "\n",
        "**The Reduce Function:** Для каждого ключа $t$, если соответствующее значение является списком $[R]$, создайте пару $(t, t)$. В иных случаях не предпринимайте действий."
      ]
    },
    {
      "cell_type": "code",
      "metadata": {
        "id": "QE_AC09lwZIZ"
      },
      "source": [
        "import random\n",
        "\n",
        "class Tuple:\n",
        "    def __init__(self, data: tuple, rel_id: int):\n",
        "        self.data = data\n",
        "        self.rel_id = rel_id\n",
        "\n",
        "def get_random_tuple(count):\n",
        "    data = tuple((random.randint(0, 3), random.randint(0, 3)) for _ in range(count))\n",
        "    rel_id = random.choice(rels)\n",
        "    return Tuple(data, rel_id)\n",
        "\n",
        "def RECORDREADER(count):\n",
        "    return [get_random_tuple(3) for _ in range(count)]\n",
        "\n",
        "def MAP(t: Tuple):\n",
        "    return t.data, t.rel_id\n",
        "\n",
        "def REDUCE(key, values):\n",
        "    if rels[0] in values:\n",
        "        return key, key\n",
        "    return None\n",
        "\n",
        "def group_by_key(iterable):\n",
        "    t = {}\n",
        "    for (k2, v2) in iterable:\n",
        "        t.setdefault(k2, []).append(v2)\n",
        "    return t.items()"
      ],
      "execution_count": 13,
      "outputs": []
    },
    {
      "cell_type": "code",
      "source": [
        "rels = [5, 3]\n",
        "record = RECORDREADER(100)\n",
        "\n",
        "map_output = [MAP(t) for t in record]\n",
        "print(\"MAP output:\", map_output)\n",
        "\n",
        "shuffle_output = list(group_by_key(map_output))\n",
        "print(\"Shuffle output:\", shuffle_output)\n",
        "\n",
        "reduce_output = [REDUCE(*x) for x in shuffle_output if REDUCE(*x) is not None]\n",
        "print(\"Reduce output:\", reduce_output)"
      ],
      "metadata": {
        "colab": {
          "base_uri": "https://localhost:8080/"
        },
        "id": "3oYdp8-VdMU_",
        "outputId": "db104ed7-3f57-465a-b231-2852fbbe2a29"
      },
      "execution_count": 14,
      "outputs": [
        {
          "output_type": "stream",
          "name": "stdout",
          "text": [
            "MAP output: [(((2, 1), (0, 2), (0, 3)), 5), (((1, 0), (2, 1), (0, 1)), 3), (((2, 1), (3, 2), (1, 1)), 3), (((1, 1), (1, 1), (0, 0)), 3), (((0, 2), (1, 3), (1, 3)), 5), (((3, 0), (2, 3), (1, 0)), 3), (((3, 2), (2, 0), (2, 0)), 5), (((2, 2), (3, 3), (0, 2)), 5), (((0, 3), (3, 2), (3, 3)), 3), (((2, 3), (3, 2), (1, 3)), 5), (((1, 3), (0, 0), (2, 0)), 3), (((2, 2), (2, 2), (0, 1)), 5), (((2, 3), (1, 2), (2, 1)), 3), (((3, 3), (0, 0), (1, 2)), 5), (((0, 2), (2, 1), (3, 3)), 5), (((2, 0), (0, 1), (1, 1)), 5), (((0, 3), (3, 3), (3, 3)), 3), (((0, 2), (2, 2), (1, 1)), 3), (((2, 0), (0, 0), (1, 2)), 5), (((0, 2), (0, 3), (0, 2)), 5), (((1, 3), (1, 1), (1, 1)), 5), (((0, 0), (1, 1), (3, 0)), 3), (((3, 1), (3, 0), (2, 1)), 5), (((0, 1), (2, 1), (0, 1)), 5), (((3, 3), (0, 2), (2, 3)), 5), (((0, 0), (2, 1), (1, 3)), 3), (((2, 1), (1, 3), (1, 0)), 3), (((0, 0), (3, 1), (2, 2)), 5), (((2, 2), (2, 2), (2, 1)), 5), (((3, 2), (3, 3), (3, 2)), 5), (((2, 2), (2, 2), (1, 0)), 3), (((0, 0), (1, 1), (2, 2)), 5), (((0, 1), (1, 1), (1, 0)), 3), (((1, 0), (2, 3), (1, 0)), 3), (((3, 2), (1, 1), (2, 1)), 3), (((3, 3), (1, 0), (3, 1)), 3), (((2, 1), (1, 1), (3, 1)), 5), (((2, 3), (2, 3), (3, 2)), 5), (((1, 0), (1, 3), (1, 1)), 3), (((3, 1), (2, 2), (1, 3)), 3), (((0, 2), (3, 3), (0, 0)), 5), (((1, 3), (0, 1), (1, 3)), 5), (((2, 2), (3, 0), (3, 1)), 5), (((1, 2), (0, 2), (3, 3)), 3), (((0, 1), (1, 0), (0, 2)), 5), (((3, 3), (0, 1), (0, 2)), 5), (((0, 3), (3, 1), (2, 3)), 3), (((2, 1), (3, 3), (3, 1)), 5), (((3, 2), (2, 3), (0, 2)), 3), (((0, 1), (3, 0), (0, 0)), 3), (((0, 1), (0, 1), (1, 0)), 3), (((2, 1), (3, 1), (0, 2)), 5), (((0, 1), (1, 2), (3, 0)), 3), (((1, 1), (3, 0), (3, 0)), 5), (((2, 2), (3, 0), (0, 1)), 3), (((1, 3), (0, 2), (0, 2)), 5), (((1, 1), (3, 2), (0, 2)), 3), (((3, 1), (3, 1), (0, 3)), 5), (((3, 3), (2, 3), (3, 0)), 5), (((0, 0), (2, 3), (2, 1)), 3), (((0, 2), (0, 3), (1, 1)), 5), (((2, 0), (0, 2), (0, 1)), 3), (((3, 0), (1, 0), (2, 2)), 5), (((1, 2), (3, 2), (2, 1)), 3), (((3, 0), (0, 1), (2, 0)), 3), (((1, 2), (1, 0), (2, 1)), 5), (((1, 0), (2, 1), (3, 2)), 5), (((3, 2), (3, 0), (0, 0)), 3), (((3, 1), (2, 3), (3, 1)), 3), (((1, 3), (0, 2), (1, 1)), 5), (((3, 0), (0, 2), (0, 3)), 3), (((3, 1), (2, 2), (3, 2)), 3), (((1, 3), (0, 0), (1, 1)), 5), (((0, 0), (3, 2), (1, 3)), 3), (((1, 1), (0, 1), (1, 1)), 3), (((2, 1), (0, 1), (2, 3)), 3), (((2, 1), (2, 1), (1, 2)), 3), (((2, 0), (1, 3), (3, 0)), 3), (((0, 2), (2, 2), (1, 0)), 3), (((3, 2), (2, 3), (1, 2)), 3), (((0, 1), (3, 2), (0, 0)), 3), (((0, 0), (2, 0), (2, 1)), 5), (((1, 0), (1, 3), (1, 0)), 3), (((2, 1), (3, 0), (3, 2)), 5), (((1, 0), (1, 2), (2, 1)), 3), (((1, 1), (0, 0), (2, 3)), 3), (((0, 0), (2, 3), (1, 2)), 5), (((3, 2), (3, 1), (3, 1)), 5), (((0, 1), (2, 1), (2, 1)), 3), (((3, 1), (1, 1), (3, 2)), 5), (((1, 2), (3, 1), (0, 1)), 3), (((0, 2), (2, 0), (2, 2)), 3), (((1, 3), (3, 2), (3, 0)), 5), (((3, 2), (2, 1), (0, 0)), 3), (((2, 3), (3, 3), (0, 3)), 5), (((3, 0), (1, 1), (2, 1)), 5), (((3, 0), (2, 3), (0, 3)), 3), (((1, 0), (2, 1), (3, 0)), 3), (((3, 1), (1, 1), (0, 3)), 3), (((3, 0), (0, 1), (1, 2)), 5)]\n",
            "Shuffle output: [(((2, 1), (0, 2), (0, 3)), [5]), (((1, 0), (2, 1), (0, 1)), [3]), (((2, 1), (3, 2), (1, 1)), [3]), (((1, 1), (1, 1), (0, 0)), [3]), (((0, 2), (1, 3), (1, 3)), [5]), (((3, 0), (2, 3), (1, 0)), [3]), (((3, 2), (2, 0), (2, 0)), [5]), (((2, 2), (3, 3), (0, 2)), [5]), (((0, 3), (3, 2), (3, 3)), [3]), (((2, 3), (3, 2), (1, 3)), [5]), (((1, 3), (0, 0), (2, 0)), [3]), (((2, 2), (2, 2), (0, 1)), [5]), (((2, 3), (1, 2), (2, 1)), [3]), (((3, 3), (0, 0), (1, 2)), [5]), (((0, 2), (2, 1), (3, 3)), [5]), (((2, 0), (0, 1), (1, 1)), [5]), (((0, 3), (3, 3), (3, 3)), [3]), (((0, 2), (2, 2), (1, 1)), [3]), (((2, 0), (0, 0), (1, 2)), [5]), (((0, 2), (0, 3), (0, 2)), [5]), (((1, 3), (1, 1), (1, 1)), [5]), (((0, 0), (1, 1), (3, 0)), [3]), (((3, 1), (3, 0), (2, 1)), [5]), (((0, 1), (2, 1), (0, 1)), [5]), (((3, 3), (0, 2), (2, 3)), [5]), (((0, 0), (2, 1), (1, 3)), [3]), (((2, 1), (1, 3), (1, 0)), [3]), (((0, 0), (3, 1), (2, 2)), [5]), (((2, 2), (2, 2), (2, 1)), [5]), (((3, 2), (3, 3), (3, 2)), [5]), (((2, 2), (2, 2), (1, 0)), [3]), (((0, 0), (1, 1), (2, 2)), [5]), (((0, 1), (1, 1), (1, 0)), [3]), (((1, 0), (2, 3), (1, 0)), [3]), (((3, 2), (1, 1), (2, 1)), [3]), (((3, 3), (1, 0), (3, 1)), [3]), (((2, 1), (1, 1), (3, 1)), [5]), (((2, 3), (2, 3), (3, 2)), [5]), (((1, 0), (1, 3), (1, 1)), [3]), (((3, 1), (2, 2), (1, 3)), [3]), (((0, 2), (3, 3), (0, 0)), [5]), (((1, 3), (0, 1), (1, 3)), [5]), (((2, 2), (3, 0), (3, 1)), [5]), (((1, 2), (0, 2), (3, 3)), [3]), (((0, 1), (1, 0), (0, 2)), [5]), (((3, 3), (0, 1), (0, 2)), [5]), (((0, 3), (3, 1), (2, 3)), [3]), (((2, 1), (3, 3), (3, 1)), [5]), (((3, 2), (2, 3), (0, 2)), [3]), (((0, 1), (3, 0), (0, 0)), [3]), (((0, 1), (0, 1), (1, 0)), [3]), (((2, 1), (3, 1), (0, 2)), [5]), (((0, 1), (1, 2), (3, 0)), [3]), (((1, 1), (3, 0), (3, 0)), [5]), (((2, 2), (3, 0), (0, 1)), [3]), (((1, 3), (0, 2), (0, 2)), [5]), (((1, 1), (3, 2), (0, 2)), [3]), (((3, 1), (3, 1), (0, 3)), [5]), (((3, 3), (2, 3), (3, 0)), [5]), (((0, 0), (2, 3), (2, 1)), [3]), (((0, 2), (0, 3), (1, 1)), [5]), (((2, 0), (0, 2), (0, 1)), [3]), (((3, 0), (1, 0), (2, 2)), [5]), (((1, 2), (3, 2), (2, 1)), [3]), (((3, 0), (0, 1), (2, 0)), [3]), (((1, 2), (1, 0), (2, 1)), [5]), (((1, 0), (2, 1), (3, 2)), [5]), (((3, 2), (3, 0), (0, 0)), [3]), (((3, 1), (2, 3), (3, 1)), [3]), (((1, 3), (0, 2), (1, 1)), [5]), (((3, 0), (0, 2), (0, 3)), [3]), (((3, 1), (2, 2), (3, 2)), [3]), (((1, 3), (0, 0), (1, 1)), [5]), (((0, 0), (3, 2), (1, 3)), [3]), (((1, 1), (0, 1), (1, 1)), [3]), (((2, 1), (0, 1), (2, 3)), [3]), (((2, 1), (2, 1), (1, 2)), [3]), (((2, 0), (1, 3), (3, 0)), [3]), (((0, 2), (2, 2), (1, 0)), [3]), (((3, 2), (2, 3), (1, 2)), [3]), (((0, 1), (3, 2), (0, 0)), [3]), (((0, 0), (2, 0), (2, 1)), [5]), (((1, 0), (1, 3), (1, 0)), [3]), (((2, 1), (3, 0), (3, 2)), [5]), (((1, 0), (1, 2), (2, 1)), [3]), (((1, 1), (0, 0), (2, 3)), [3]), (((0, 0), (2, 3), (1, 2)), [5]), (((3, 2), (3, 1), (3, 1)), [5]), (((0, 1), (2, 1), (2, 1)), [3]), (((3, 1), (1, 1), (3, 2)), [5]), (((1, 2), (3, 1), (0, 1)), [3]), (((0, 2), (2, 0), (2, 2)), [3]), (((1, 3), (3, 2), (3, 0)), [5]), (((3, 2), (2, 1), (0, 0)), [3]), (((2, 3), (3, 3), (0, 3)), [5]), (((3, 0), (1, 1), (2, 1)), [5]), (((3, 0), (2, 3), (0, 3)), [3]), (((1, 0), (2, 1), (3, 0)), [3]), (((3, 1), (1, 1), (0, 3)), [3]), (((3, 0), (0, 1), (1, 2)), [5])]\n",
            "Reduce output: [(((2, 1), (0, 2), (0, 3)), ((2, 1), (0, 2), (0, 3))), (((0, 2), (1, 3), (1, 3)), ((0, 2), (1, 3), (1, 3))), (((3, 2), (2, 0), (2, 0)), ((3, 2), (2, 0), (2, 0))), (((2, 2), (3, 3), (0, 2)), ((2, 2), (3, 3), (0, 2))), (((2, 3), (3, 2), (1, 3)), ((2, 3), (3, 2), (1, 3))), (((2, 2), (2, 2), (0, 1)), ((2, 2), (2, 2), (0, 1))), (((3, 3), (0, 0), (1, 2)), ((3, 3), (0, 0), (1, 2))), (((0, 2), (2, 1), (3, 3)), ((0, 2), (2, 1), (3, 3))), (((2, 0), (0, 1), (1, 1)), ((2, 0), (0, 1), (1, 1))), (((2, 0), (0, 0), (1, 2)), ((2, 0), (0, 0), (1, 2))), (((0, 2), (0, 3), (0, 2)), ((0, 2), (0, 3), (0, 2))), (((1, 3), (1, 1), (1, 1)), ((1, 3), (1, 1), (1, 1))), (((3, 1), (3, 0), (2, 1)), ((3, 1), (3, 0), (2, 1))), (((0, 1), (2, 1), (0, 1)), ((0, 1), (2, 1), (0, 1))), (((3, 3), (0, 2), (2, 3)), ((3, 3), (0, 2), (2, 3))), (((0, 0), (3, 1), (2, 2)), ((0, 0), (3, 1), (2, 2))), (((2, 2), (2, 2), (2, 1)), ((2, 2), (2, 2), (2, 1))), (((3, 2), (3, 3), (3, 2)), ((3, 2), (3, 3), (3, 2))), (((0, 0), (1, 1), (2, 2)), ((0, 0), (1, 1), (2, 2))), (((2, 1), (1, 1), (3, 1)), ((2, 1), (1, 1), (3, 1))), (((2, 3), (2, 3), (3, 2)), ((2, 3), (2, 3), (3, 2))), (((0, 2), (3, 3), (0, 0)), ((0, 2), (3, 3), (0, 0))), (((1, 3), (0, 1), (1, 3)), ((1, 3), (0, 1), (1, 3))), (((2, 2), (3, 0), (3, 1)), ((2, 2), (3, 0), (3, 1))), (((0, 1), (1, 0), (0, 2)), ((0, 1), (1, 0), (0, 2))), (((3, 3), (0, 1), (0, 2)), ((3, 3), (0, 1), (0, 2))), (((2, 1), (3, 3), (3, 1)), ((2, 1), (3, 3), (3, 1))), (((2, 1), (3, 1), (0, 2)), ((2, 1), (3, 1), (0, 2))), (((1, 1), (3, 0), (3, 0)), ((1, 1), (3, 0), (3, 0))), (((1, 3), (0, 2), (0, 2)), ((1, 3), (0, 2), (0, 2))), (((3, 1), (3, 1), (0, 3)), ((3, 1), (3, 1), (0, 3))), (((3, 3), (2, 3), (3, 0)), ((3, 3), (2, 3), (3, 0))), (((0, 2), (0, 3), (1, 1)), ((0, 2), (0, 3), (1, 1))), (((3, 0), (1, 0), (2, 2)), ((3, 0), (1, 0), (2, 2))), (((1, 2), (1, 0), (2, 1)), ((1, 2), (1, 0), (2, 1))), (((1, 0), (2, 1), (3, 2)), ((1, 0), (2, 1), (3, 2))), (((1, 3), (0, 2), (1, 1)), ((1, 3), (0, 2), (1, 1))), (((1, 3), (0, 0), (1, 1)), ((1, 3), (0, 0), (1, 1))), (((0, 0), (2, 0), (2, 1)), ((0, 0), (2, 0), (2, 1))), (((2, 1), (3, 0), (3, 2)), ((2, 1), (3, 0), (3, 2))), (((0, 0), (2, 3), (1, 2)), ((0, 0), (2, 3), (1, 2))), (((3, 2), (3, 1), (3, 1)), ((3, 2), (3, 1), (3, 1))), (((3, 1), (1, 1), (3, 2)), ((3, 1), (1, 1), (3, 2))), (((1, 3), (3, 2), (3, 0)), ((1, 3), (3, 2), (3, 0))), (((2, 3), (3, 3), (0, 3)), ((2, 3), (3, 3), (0, 3))), (((3, 0), (1, 1), (2, 1)), ((3, 0), (1, 1), (2, 1))), (((3, 0), (0, 1), (1, 2)), ((3, 0), (0, 1), (1, 2)))]\n"
          ]
        }
      ]
    },
    {
      "cell_type": "markdown",
      "metadata": {
        "id": "j8I58V2VwhSm"
      },
      "source": [
        "### Natural Join\n",
        "\n",
        "**The Map Function:** Для каждого кортежа $(a, b)$ отношения $R$, создайте пару $(b,(R, a))$. Для каждого кортежа $(b, c)$ отношения $S$, создайте пару $(b,(S, c))$.\n",
        "\n",
        "**The Reduce Function:** Каждый ключ $b$ будет асоциирован со списком пар, которые принимают форму либо $(R, a)$, либо $(S, c)$. Создайте все пары, одни, состоящие из  первого компонента $R$, а другие, из первого компонента $S$, то есть $(R, a)$ и $(S, c)$. На выходе вы получаете последовательность пар ключ-значение из списков ключей и значений. Ключ не нужен. Каждое значение, это тройка $(a, b, c)$ такая, что $(R, a)$ и $(S, c)$ это принадлежат входному списку значений."
      ]
    },
    {
      "cell_type": "code",
      "metadata": {
        "id": "yHiuuTctw86I"
      },
      "source": [
        "import random\n",
        "\n",
        "rels = [5, 7]\n",
        "\n",
        "class Tuple:\n",
        "    def __init__(self, data, rel_id):\n",
        "        self.data = data\n",
        "        self.rel_id = rel_id\n",
        "\n",
        "def generate_random_data(count):\n",
        "    return [(random.randint(0, 3), random.randint(0, 3)) for _ in range(count)]\n",
        "\n",
        "def generate_tuple():\n",
        "    data = generate_random_data(3)\n",
        "    rel_id = random.choice(rels)\n",
        "    return Tuple(data, rel_id)\n",
        "\n",
        "def RECORDREADER(count):\n",
        "    return [generate_tuple() for _ in range(count)]\n",
        "\n",
        "def MAP(t: Tuple):\n",
        "    return (tuple(t.data), t.rel_id)\n",
        "\n",
        "def REDUCE(key, values):\n",
        "    if rels[0] in values:\n",
        "        return key, key\n",
        "    return None\n",
        "\n",
        "def group_by_key(iterable):\n",
        "    grouped = {}\n",
        "    for key, value in iterable:\n",
        "        grouped.setdefault(key, []).append(value)\n",
        "    return grouped.items()"
      ],
      "execution_count": 15,
      "outputs": []
    },
    {
      "cell_type": "code",
      "source": [
        "record = RECORDREADER(100)\n",
        "\n",
        "map_output = []\n",
        "for t in record:\n",
        "    result = MAP(t)\n",
        "    map_output.append(result)\n",
        "print(\"MAP output:\", map_output)\n",
        "\n",
        "shuffle_output = group_by_key(map_output)\n",
        "print(\"Shuffle output:\", shuffle_output)\n",
        "\n",
        "reduce_output = []\n",
        "for key, values in shuffle_output:\n",
        "    result = REDUCE(key, values)\n",
        "    if result:\n",
        "        reduce_output.append(result)\n",
        "print(\"Reduce output:\", reduce_output)"
      ],
      "metadata": {
        "colab": {
          "base_uri": "https://localhost:8080/"
        },
        "id": "PawTs6fmd_jk",
        "outputId": "7044cf14-791d-406b-a41d-cd417f313524"
      },
      "execution_count": 16,
      "outputs": [
        {
          "output_type": "stream",
          "name": "stdout",
          "text": [
            "MAP output: [(((0, 0), (0, 0), (2, 1)), 7), (((2, 3), (2, 1), (3, 1)), 7), (((2, 3), (3, 3), (2, 2)), 7), (((1, 3), (3, 0), (1, 2)), 5), (((1, 0), (0, 1), (0, 3)), 7), (((0, 0), (1, 3), (3, 2)), 5), (((1, 2), (1, 1), (1, 3)), 5), (((1, 1), (1, 3), (1, 3)), 7), (((2, 1), (0, 0), (0, 2)), 7), (((2, 2), (3, 1), (2, 3)), 5), (((3, 1), (1, 2), (2, 1)), 5), (((3, 1), (0, 1), (0, 3)), 5), (((2, 2), (3, 0), (3, 3)), 7), (((3, 3), (3, 0), (3, 0)), 7), (((3, 0), (3, 3), (0, 2)), 5), (((3, 2), (1, 2), (0, 0)), 7), (((3, 2), (1, 3), (0, 2)), 5), (((0, 1), (2, 3), (2, 1)), 5), (((1, 3), (3, 1), (2, 0)), 5), (((0, 3), (3, 1), (2, 2)), 5), (((2, 3), (0, 3), (2, 0)), 5), (((2, 3), (2, 1), (3, 2)), 7), (((2, 3), (3, 2), (1, 1)), 5), (((1, 0), (3, 1), (1, 1)), 7), (((0, 2), (0, 1), (3, 2)), 5), (((0, 3), (1, 1), (3, 2)), 7), (((2, 0), (2, 2), (2, 0)), 7), (((3, 3), (3, 0), (1, 2)), 5), (((0, 0), (2, 2), (2, 1)), 7), (((3, 3), (2, 0), (2, 3)), 7), (((1, 3), (1, 3), (2, 0)), 7), (((3, 0), (0, 3), (1, 3)), 5), (((3, 2), (2, 3), (1, 0)), 5), (((0, 0), (1, 0), (1, 2)), 7), (((2, 3), (3, 3), (3, 0)), 7), (((0, 3), (3, 3), (1, 0)), 5), (((3, 0), (3, 0), (0, 2)), 5), (((3, 3), (2, 3), (3, 2)), 5), (((1, 2), (2, 0), (2, 3)), 7), (((1, 1), (0, 0), (0, 1)), 7), (((0, 1), (3, 3), (2, 3)), 5), (((1, 1), (1, 3), (2, 2)), 5), (((0, 1), (1, 0), (1, 1)), 7), (((1, 1), (0, 3), (1, 3)), 7), (((1, 2), (1, 3), (2, 1)), 7), (((0, 3), (2, 1), (0, 0)), 7), (((1, 3), (0, 1), (3, 1)), 5), (((3, 1), (3, 1), (0, 2)), 5), (((1, 0), (0, 1), (0, 3)), 7), (((0, 0), (3, 1), (3, 0)), 5), (((2, 0), (0, 2), (2, 2)), 7), (((0, 0), (1, 3), (1, 0)), 5), (((1, 0), (2, 3), (2, 2)), 7), (((3, 0), (3, 3), (1, 1)), 7), (((1, 2), (3, 3), (2, 3)), 5), (((0, 2), (2, 3), (3, 3)), 7), (((0, 2), (3, 0), (3, 3)), 5), (((1, 1), (3, 0), (2, 0)), 7), (((2, 0), (2, 3), (1, 0)), 5), (((1, 0), (2, 2), (2, 3)), 5), (((2, 0), (3, 2), (2, 1)), 7), (((3, 1), (2, 0), (3, 0)), 7), (((3, 2), (0, 0), (3, 2)), 7), (((3, 0), (0, 3), (2, 1)), 5), (((2, 0), (1, 1), (1, 0)), 5), (((2, 0), (1, 2), (2, 0)), 5), (((2, 2), (0, 2), (2, 1)), 7), (((2, 3), (1, 3), (3, 3)), 5), (((1, 1), (0, 3), (0, 3)), 7), (((0, 0), (2, 1), (1, 2)), 5), (((2, 0), (3, 2), (2, 2)), 5), (((0, 2), (2, 1), (0, 0)), 7), (((0, 2), (1, 3), (2, 0)), 7), (((0, 2), (2, 1), (0, 3)), 5), (((0, 0), (1, 0), (2, 0)), 7), (((2, 2), (0, 2), (1, 2)), 7), (((2, 1), (2, 3), (2, 0)), 5), (((3, 1), (1, 1), (0, 0)), 7), (((0, 3), (0, 3), (3, 3)), 5), (((2, 2), (2, 3), (2, 0)), 5), (((1, 2), (1, 1), (0, 2)), 5), (((3, 2), (1, 3), (2, 1)), 7), (((0, 0), (3, 2), (2, 0)), 7), (((0, 2), (3, 2), (2, 0)), 7), (((1, 1), (1, 0), (0, 3)), 7), (((1, 0), (0, 0), (1, 1)), 5), (((3, 2), (1, 1), (1, 0)), 7), (((0, 1), (0, 0), (2, 3)), 7), (((2, 0), (1, 1), (3, 1)), 5), (((1, 1), (3, 2), (3, 2)), 7), (((1, 3), (2, 1), (0, 3)), 5), (((0, 3), (1, 2), (3, 0)), 5), (((3, 2), (2, 2), (1, 0)), 5), (((1, 0), (3, 3), (0, 1)), 7), (((1, 3), (3, 1), (1, 1)), 5), (((1, 3), (3, 1), (2, 1)), 7), (((2, 3), (2, 3), (1, 1)), 5), (((2, 3), (2, 0), (2, 2)), 7), (((2, 1), (1, 1), (1, 1)), 7), (((1, 1), (3, 0), (1, 1)), 7)]\n",
            "Shuffle output: dict_items([(((0, 0), (0, 0), (2, 1)), [7]), (((2, 3), (2, 1), (3, 1)), [7]), (((2, 3), (3, 3), (2, 2)), [7]), (((1, 3), (3, 0), (1, 2)), [5]), (((1, 0), (0, 1), (0, 3)), [7, 7]), (((0, 0), (1, 3), (3, 2)), [5]), (((1, 2), (1, 1), (1, 3)), [5]), (((1, 1), (1, 3), (1, 3)), [7]), (((2, 1), (0, 0), (0, 2)), [7]), (((2, 2), (3, 1), (2, 3)), [5]), (((3, 1), (1, 2), (2, 1)), [5]), (((3, 1), (0, 1), (0, 3)), [5]), (((2, 2), (3, 0), (3, 3)), [7]), (((3, 3), (3, 0), (3, 0)), [7]), (((3, 0), (3, 3), (0, 2)), [5]), (((3, 2), (1, 2), (0, 0)), [7]), (((3, 2), (1, 3), (0, 2)), [5]), (((0, 1), (2, 3), (2, 1)), [5]), (((1, 3), (3, 1), (2, 0)), [5]), (((0, 3), (3, 1), (2, 2)), [5]), (((2, 3), (0, 3), (2, 0)), [5]), (((2, 3), (2, 1), (3, 2)), [7]), (((2, 3), (3, 2), (1, 1)), [5]), (((1, 0), (3, 1), (1, 1)), [7]), (((0, 2), (0, 1), (3, 2)), [5]), (((0, 3), (1, 1), (3, 2)), [7]), (((2, 0), (2, 2), (2, 0)), [7]), (((3, 3), (3, 0), (1, 2)), [5]), (((0, 0), (2, 2), (2, 1)), [7]), (((3, 3), (2, 0), (2, 3)), [7]), (((1, 3), (1, 3), (2, 0)), [7]), (((3, 0), (0, 3), (1, 3)), [5]), (((3, 2), (2, 3), (1, 0)), [5]), (((0, 0), (1, 0), (1, 2)), [7]), (((2, 3), (3, 3), (3, 0)), [7]), (((0, 3), (3, 3), (1, 0)), [5]), (((3, 0), (3, 0), (0, 2)), [5]), (((3, 3), (2, 3), (3, 2)), [5]), (((1, 2), (2, 0), (2, 3)), [7]), (((1, 1), (0, 0), (0, 1)), [7]), (((0, 1), (3, 3), (2, 3)), [5]), (((1, 1), (1, 3), (2, 2)), [5]), (((0, 1), (1, 0), (1, 1)), [7]), (((1, 1), (0, 3), (1, 3)), [7]), (((1, 2), (1, 3), (2, 1)), [7]), (((0, 3), (2, 1), (0, 0)), [7]), (((1, 3), (0, 1), (3, 1)), [5]), (((3, 1), (3, 1), (0, 2)), [5]), (((0, 0), (3, 1), (3, 0)), [5]), (((2, 0), (0, 2), (2, 2)), [7]), (((0, 0), (1, 3), (1, 0)), [5]), (((1, 0), (2, 3), (2, 2)), [7]), (((3, 0), (3, 3), (1, 1)), [7]), (((1, 2), (3, 3), (2, 3)), [5]), (((0, 2), (2, 3), (3, 3)), [7]), (((0, 2), (3, 0), (3, 3)), [5]), (((1, 1), (3, 0), (2, 0)), [7]), (((2, 0), (2, 3), (1, 0)), [5]), (((1, 0), (2, 2), (2, 3)), [5]), (((2, 0), (3, 2), (2, 1)), [7]), (((3, 1), (2, 0), (3, 0)), [7]), (((3, 2), (0, 0), (3, 2)), [7]), (((3, 0), (0, 3), (2, 1)), [5]), (((2, 0), (1, 1), (1, 0)), [5]), (((2, 0), (1, 2), (2, 0)), [5]), (((2, 2), (0, 2), (2, 1)), [7]), (((2, 3), (1, 3), (3, 3)), [5]), (((1, 1), (0, 3), (0, 3)), [7]), (((0, 0), (2, 1), (1, 2)), [5]), (((2, 0), (3, 2), (2, 2)), [5]), (((0, 2), (2, 1), (0, 0)), [7]), (((0, 2), (1, 3), (2, 0)), [7]), (((0, 2), (2, 1), (0, 3)), [5]), (((0, 0), (1, 0), (2, 0)), [7]), (((2, 2), (0, 2), (1, 2)), [7]), (((2, 1), (2, 3), (2, 0)), [5]), (((3, 1), (1, 1), (0, 0)), [7]), (((0, 3), (0, 3), (3, 3)), [5]), (((2, 2), (2, 3), (2, 0)), [5]), (((1, 2), (1, 1), (0, 2)), [5]), (((3, 2), (1, 3), (2, 1)), [7]), (((0, 0), (3, 2), (2, 0)), [7]), (((0, 2), (3, 2), (2, 0)), [7]), (((1, 1), (1, 0), (0, 3)), [7]), (((1, 0), (0, 0), (1, 1)), [5]), (((3, 2), (1, 1), (1, 0)), [7]), (((0, 1), (0, 0), (2, 3)), [7]), (((2, 0), (1, 1), (3, 1)), [5]), (((1, 1), (3, 2), (3, 2)), [7]), (((1, 3), (2, 1), (0, 3)), [5]), (((0, 3), (1, 2), (3, 0)), [5]), (((3, 2), (2, 2), (1, 0)), [5]), (((1, 0), (3, 3), (0, 1)), [7]), (((1, 3), (3, 1), (1, 1)), [5]), (((1, 3), (3, 1), (2, 1)), [7]), (((2, 3), (2, 3), (1, 1)), [5]), (((2, 3), (2, 0), (2, 2)), [7]), (((2, 1), (1, 1), (1, 1)), [7]), (((1, 1), (3, 0), (1, 1)), [7])])\n",
            "Reduce output: [(((1, 3), (3, 0), (1, 2)), ((1, 3), (3, 0), (1, 2))), (((0, 0), (1, 3), (3, 2)), ((0, 0), (1, 3), (3, 2))), (((1, 2), (1, 1), (1, 3)), ((1, 2), (1, 1), (1, 3))), (((2, 2), (3, 1), (2, 3)), ((2, 2), (3, 1), (2, 3))), (((3, 1), (1, 2), (2, 1)), ((3, 1), (1, 2), (2, 1))), (((3, 1), (0, 1), (0, 3)), ((3, 1), (0, 1), (0, 3))), (((3, 0), (3, 3), (0, 2)), ((3, 0), (3, 3), (0, 2))), (((3, 2), (1, 3), (0, 2)), ((3, 2), (1, 3), (0, 2))), (((0, 1), (2, 3), (2, 1)), ((0, 1), (2, 3), (2, 1))), (((1, 3), (3, 1), (2, 0)), ((1, 3), (3, 1), (2, 0))), (((0, 3), (3, 1), (2, 2)), ((0, 3), (3, 1), (2, 2))), (((2, 3), (0, 3), (2, 0)), ((2, 3), (0, 3), (2, 0))), (((2, 3), (3, 2), (1, 1)), ((2, 3), (3, 2), (1, 1))), (((0, 2), (0, 1), (3, 2)), ((0, 2), (0, 1), (3, 2))), (((3, 3), (3, 0), (1, 2)), ((3, 3), (3, 0), (1, 2))), (((3, 0), (0, 3), (1, 3)), ((3, 0), (0, 3), (1, 3))), (((3, 2), (2, 3), (1, 0)), ((3, 2), (2, 3), (1, 0))), (((0, 3), (3, 3), (1, 0)), ((0, 3), (3, 3), (1, 0))), (((3, 0), (3, 0), (0, 2)), ((3, 0), (3, 0), (0, 2))), (((3, 3), (2, 3), (3, 2)), ((3, 3), (2, 3), (3, 2))), (((0, 1), (3, 3), (2, 3)), ((0, 1), (3, 3), (2, 3))), (((1, 1), (1, 3), (2, 2)), ((1, 1), (1, 3), (2, 2))), (((1, 3), (0, 1), (3, 1)), ((1, 3), (0, 1), (3, 1))), (((3, 1), (3, 1), (0, 2)), ((3, 1), (3, 1), (0, 2))), (((0, 0), (3, 1), (3, 0)), ((0, 0), (3, 1), (3, 0))), (((0, 0), (1, 3), (1, 0)), ((0, 0), (1, 3), (1, 0))), (((1, 2), (3, 3), (2, 3)), ((1, 2), (3, 3), (2, 3))), (((0, 2), (3, 0), (3, 3)), ((0, 2), (3, 0), (3, 3))), (((2, 0), (2, 3), (1, 0)), ((2, 0), (2, 3), (1, 0))), (((1, 0), (2, 2), (2, 3)), ((1, 0), (2, 2), (2, 3))), (((3, 0), (0, 3), (2, 1)), ((3, 0), (0, 3), (2, 1))), (((2, 0), (1, 1), (1, 0)), ((2, 0), (1, 1), (1, 0))), (((2, 0), (1, 2), (2, 0)), ((2, 0), (1, 2), (2, 0))), (((2, 3), (1, 3), (3, 3)), ((2, 3), (1, 3), (3, 3))), (((0, 0), (2, 1), (1, 2)), ((0, 0), (2, 1), (1, 2))), (((2, 0), (3, 2), (2, 2)), ((2, 0), (3, 2), (2, 2))), (((0, 2), (2, 1), (0, 3)), ((0, 2), (2, 1), (0, 3))), (((2, 1), (2, 3), (2, 0)), ((2, 1), (2, 3), (2, 0))), (((0, 3), (0, 3), (3, 3)), ((0, 3), (0, 3), (3, 3))), (((2, 2), (2, 3), (2, 0)), ((2, 2), (2, 3), (2, 0))), (((1, 2), (1, 1), (0, 2)), ((1, 2), (1, 1), (0, 2))), (((1, 0), (0, 0), (1, 1)), ((1, 0), (0, 0), (1, 1))), (((2, 0), (1, 1), (3, 1)), ((2, 0), (1, 1), (3, 1))), (((1, 3), (2, 1), (0, 3)), ((1, 3), (2, 1), (0, 3))), (((0, 3), (1, 2), (3, 0)), ((0, 3), (1, 2), (3, 0))), (((3, 2), (2, 2), (1, 0)), ((3, 2), (2, 2), (1, 0))), (((1, 3), (3, 1), (1, 1)), ((1, 3), (3, 1), (1, 1))), (((2, 3), (2, 3), (1, 1)), ((2, 3), (2, 3), (1, 1)))]\n"
          ]
        }
      ]
    },
    {
      "cell_type": "markdown",
      "metadata": {
        "id": "kYdlr0YUxE27"
      },
      "source": [
        "### Grouping and Aggregation (Группировка и аггрегация)\n",
        "\n",
        "**The Map Function:** Для каждого кортежа $(a, b, c$) создайте пару $(a, b)$.\n",
        "\n",
        "**The Reduce Function:** Ключ представляет ту или иную группу. Примение аггрегирующую операцию $\\theta$ к списку значений $[b1, b2, . . . , bn]$ ассоциированных с ключом $a$. Возвращайте в выходной поток $(a, x)$, где $x$ результат применения  $\\theta$ к списку. Например, если $\\theta$ это $SUM$, тогда $x = b1 + b2 + · · · + bn$, а если $\\theta$ is $MAX$, тогда $x$ это максимальное из значений $b1, b2, . . . , bn$."
      ]
    },
    {
      "cell_type": "code",
      "metadata": {
        "id": "MLPckfEGxico"
      },
      "source": [
        "import random\n",
        "\n",
        "def get_random_tuple():\n",
        "    return tuple(random.choices(range(4), k=3))\n",
        "\n",
        "def RECORDREADER(count):\n",
        "    return [get_random_tuple() for _ in range(count)]\n",
        "\n",
        "def MAP(t):\n",
        "    return t[:2]\n",
        "\n",
        "def REDUCE(key, values):\n",
        "    return key, sum(values)\n",
        "\n",
        "def group_by_key(iterable):\n",
        "    t = {}\n",
        "    for (k2, v2) in iterable:\n",
        "        t[k2] = t.get(k2, []) + [v2]\n",
        "    return t.items()"
      ],
      "execution_count": 17,
      "outputs": []
    },
    {
      "cell_type": "code",
      "source": [
        "record = RECORDREADER(100)\n",
        "\n",
        "map_output = [MAP(t) for t in record]\n",
        "print(\"MAP output:\", map_output)\n",
        "\n",
        "shuffle_output = list(group_by_key(map_output))\n",
        "print(\"Shuffle output:\", shuffle_output)\n",
        "\n",
        "reduce_output = [REDUCE(k, v) for k, v in shuffle_output]\n",
        "print(\"Reduce output:\", reduce_output)"
      ],
      "metadata": {
        "colab": {
          "base_uri": "https://localhost:8080/"
        },
        "id": "1H8xKIAFeJ1Q",
        "outputId": "aa5d6621-345f-4805-f567-c64ecf6b76f4"
      },
      "execution_count": 18,
      "outputs": [
        {
          "output_type": "stream",
          "name": "stdout",
          "text": [
            "MAP output: [(0, 1), (0, 1), (2, 2), (1, 0), (0, 3), (3, 2), (0, 3), (3, 0), (0, 0), (1, 2), (0, 0), (1, 1), (0, 3), (0, 3), (1, 3), (3, 2), (1, 0), (2, 1), (2, 2), (3, 3), (3, 2), (0, 2), (1, 2), (1, 0), (3, 2), (2, 1), (3, 2), (0, 3), (3, 3), (0, 3), (3, 3), (1, 0), (3, 3), (3, 0), (3, 1), (0, 0), (0, 2), (0, 3), (2, 2), (1, 3), (0, 1), (1, 1), (1, 3), (0, 1), (2, 2), (2, 3), (3, 2), (0, 2), (1, 0), (1, 2), (2, 3), (1, 2), (3, 1), (3, 2), (3, 2), (2, 3), (2, 2), (2, 0), (2, 2), (0, 3), (3, 1), (1, 1), (2, 2), (2, 1), (0, 2), (3, 1), (1, 3), (1, 3), (2, 3), (0, 0), (2, 2), (0, 0), (3, 3), (0, 0), (2, 1), (3, 2), (0, 1), (1, 0), (1, 2), (1, 0), (3, 1), (1, 3), (1, 2), (0, 0), (2, 0), (2, 0), (0, 2), (2, 3), (1, 1), (0, 2), (0, 2), (0, 0), (1, 3), (1, 1), (2, 3), (3, 2), (2, 1), (3, 1), (0, 3), (2, 2)]\n",
            "Shuffle output: [(0, [1, 1, 3, 3, 0, 0, 3, 3, 2, 3, 3, 0, 2, 3, 1, 1, 2, 3, 2, 0, 0, 0, 1, 0, 2, 2, 2, 0, 3]), (2, [2, 1, 2, 1, 2, 2, 3, 3, 3, 2, 0, 2, 2, 1, 3, 2, 1, 0, 0, 3, 3, 1, 2]), (1, [0, 2, 1, 3, 0, 2, 0, 0, 3, 1, 3, 0, 2, 2, 1, 3, 3, 0, 2, 0, 3, 2, 1, 3, 1]), (3, [2, 0, 2, 3, 2, 2, 2, 3, 3, 3, 0, 1, 2, 1, 2, 2, 1, 1, 3, 2, 1, 2, 1])]\n",
            "Reduce output: [(0, 46), (2, 41), (1, 38), (3, 41)]\n"
          ]
        }
      ]
    },
    {
      "cell_type": "markdown",
      "metadata": {
        "id": "03IffTEOJgOb"
      },
      "source": [
        "#"
      ]
    },
    {
      "cell_type": "markdown",
      "metadata": {
        "id": "IIrRgvG4RIS4"
      },
      "source": [
        "### Matrix-Vector multiplication\n",
        "\n",
        "Случай, когда вектор не помещается в памяти Map задачи\n"
      ]
    },
    {
      "cell_type": "code",
      "metadata": {
        "id": "KQhDbiL3zS9r"
      },
      "source": [],
      "execution_count": null,
      "outputs": []
    },
    {
      "cell_type": "markdown",
      "metadata": {
        "id": "GIo2t7nNxvA9"
      },
      "source": [
        "## Matrix multiplication (Перемножение матриц)\n",
        "\n",
        "Если у нас есть матрица $M$ с элементами $m_{ij}$ в строке $i$ и столбце $j$, и матрица $N$ с элементами $n_{jk}$ в строке $j$ и столбце $k$, тогда их произведение $P = MN$ есть матрица $P$ с элементами $p_{ik}$ в строке $i$ и столбце $k$, где\n",
        "\n",
        "$$p_{ik} =\\sum_{j} m_{ij}n_{jk}$$\n",
        "\n",
        "Необходимым требованием является одинаковое количество столбцов в $M$ и строк в $N$, чтобы операция суммирования по  $j$ была осмысленной. Мы можем размышлять о матрице, как об отношении с тремя атрибутами: номер строки, номер столбца, само значение. Таким образом матрица $M$ предстваляется как отношение $ M(I, J, V )$, с кортежами $(i, j, m_{ij})$, и, аналогично, матрица $N$ представляется как отношение $N(J, K, W)$, с кортежами $(j, k, n_{jk})$. Так как большие матрицы как правило разреженные (большинство значений равно 0), и так как мы можем нулевыми значениями пренебречь (не хранить), такое реляционное представление достаточно эффективно для больших матриц. Однако, возможно, что координаты $i$, $j$, и $k$ неявно закодированы в смещение позиции элемента относительно начала файла, вместо явного хранения. Тогда, функция Map (или Reader) должна быть разработана таким образом, чтобы реконструировать компоненты $I$, $J$, и $K$ кортежей из смещения.\n",
        "\n",
        "Произведение $MN$ это фактически join, за которым следуют группировка по ключу и аггрегация. Таким образом join отношений $M(I, J, V )$ и $N(J, K, W)$, имеющих общим только атрибут $J$, создаст кортежи $(i, j, k, v, w)$ из каждого кортежа $(i, j, v) \\in M$ и кортежа $(j, k, w) \\in N$. Такой 5 компонентный кортеж представляет пару элементов матрицы $(m_{ij} , n_{jk})$. Что нам хотелось бы получить на самом деле, это произведение этих элементов, то есть, 4 компонентный кортеж$(i, j, k, v \\times w)$, так как он представляет произведение $m_{ij}n_{jk}$. Мы представляем отношение как результат одной MapReduce операции, в которой мы можем произвести группировку и аггрегацию, с $I$ и $K$  атрибутами, по которым идёт группировка, и суммой  $V \\times W$.\n",
        "\n",
        "\n",
        "\n"
      ]
    },
    {
      "cell_type": "code",
      "metadata": {
        "id": "1MBkGaLAYVCt"
      },
      "source": [
        "# MapReduce model\n",
        "def flatten(nested_iterable):\n",
        "  for iterable in nested_iterable:\n",
        "    for element in iterable:\n",
        "      yield element\n",
        "\n",
        "def groupbykey(iterable):\n",
        "  t = {}\n",
        "  for (k2, v2) in iterable:\n",
        "    t[k2] = t.get(k2, []) + [v2]\n",
        "  return t.items()\n",
        "\n",
        "def MapReduce(RECORDREADER, MAP, REDUCE):\n",
        "  return flatten(map(lambda x: REDUCE(*x), groupbykey(flatten(map(lambda x: MAP(*x), RECORDREADER())))))"
      ],
      "execution_count": null,
      "outputs": []
    },
    {
      "cell_type": "markdown",
      "metadata": {
        "id": "sMspsOT0ZB35"
      },
      "source": [
        "Реализуйте перемножение матриц с использованием модельного кода MapReduce для одной машины в случае, когда одна матрица хранится в памяти, а другая генерируется RECORDREADER-ом."
      ]
    },
    {
      "cell_type": "code",
      "metadata": {
        "id": "psP1XekbsEjS"
      },
      "source": [
        "import numpy as np\n",
        "I = 2\n",
        "J = 3\n",
        "K = 4*10\n",
        "small_mat = np.random.rand(I,J) # it is legal to access this from RECORDREADER, MAP, REDUCE\n",
        "big_mat = np.random.rand(J,K)\n",
        "\n",
        "def RECORDREADER():\n",
        "  for j in range(big_mat.shape[0]):\n",
        "    for k in range(big_mat.shape[1]):\n",
        "      yield ((j,k), big_mat[j,k])\n",
        "\n",
        "def MAP(k1, v1):\n",
        "  (j, k) = k1\n",
        "  w = v1\n",
        "  # solution code that yield(k2,v2) pairs\n",
        "\n",
        "def REDUCE(key, values):\n",
        "  (i, k) = key\n",
        "  # solution code that yield(k3,v3) pairs"
      ],
      "execution_count": null,
      "outputs": []
    },
    {
      "cell_type": "markdown",
      "metadata": {
        "id": "rnt306LHhHrm"
      },
      "source": [
        "Проверьте своё решение"
      ]
    },
    {
      "cell_type": "code",
      "metadata": {
        "id": "Ewy_ZNYqW5a2",
        "colab": {
          "base_uri": "https://localhost:8080/",
          "height": 34
        },
        "outputId": "9ce264f2-9412-44e2-9b0a-cc780573ab3a"
      },
      "source": [
        "# CHECK THE SOLUTION\n",
        "reference_solution = np.matmul(small_mat, big_mat)\n",
        "solution = MapReduce(RECORDREADER, MAP, REDUCE)\n",
        "\n",
        "def asmatrix(reduce_output):\n",
        "  reduce_output = list(reduce_output)\n",
        "  I = max(i for ((i,k), vw) in reduce_output)+1\n",
        "  K = max(k for ((i,k), vw) in reduce_output)+1\n",
        "  mat = np.empty(shape=(I,K))\n",
        "  for ((i,k), vw) in reduce_output:\n",
        "    mat[i,k] = vw\n",
        "  return mat\n",
        "\n",
        "np.allclose(reference_solution, asmatrix(solution)) # should return true"
      ],
      "execution_count": null,
      "outputs": [
        {
          "output_type": "execute_result",
          "data": {
            "text/plain": [
              "True"
            ]
          },
          "metadata": {
            "tags": []
          },
          "execution_count": 33
        }
      ]
    },
    {
      "cell_type": "code",
      "metadata": {
        "id": "TK7v4CEcfxqf",
        "colab": {
          "base_uri": "https://localhost:8080/",
          "height": 34
        },
        "outputId": "2c865d0a-4065-4e6b-c83f-5508ed5eb4fa"
      },
      "source": [
        "reduce_output = list(MapReduce(RECORDREADER, MAP, REDUCE))\n",
        "max(i for ((i,k), vw) in reduce_output)"
      ],
      "execution_count": null,
      "outputs": [
        {
          "output_type": "execute_result",
          "data": {
            "text/plain": [
              "1"
            ]
          },
          "metadata": {
            "tags": []
          },
          "execution_count": 32
        }
      ]
    },
    {
      "cell_type": "markdown",
      "metadata": {
        "id": "i4yyg3kOZqJJ"
      },
      "source": [
        "Реализуйте перемножение матриц  с использованием модельного кода MapReduce для одной машины в случае, когда обе матрицы генерируются в RECORDREADER. Например, сначала одна, а потом другая."
      ]
    },
    {
      "cell_type": "code",
      "metadata": {
        "id": "3B7rIAJCaHZq"
      },
      "source": [
        "import numpy as np\n",
        "\n",
        "dim1, dim2, dim3 = 5, 8, 20\n",
        "matrix_a = np.random.rand(dim1, dim2)\n",
        "matrix_b = np.random.rand(dim2, dim3)\n",
        "\n",
        "expected_result = np.matmul(matrix_a, matrix_b)\n",
        "\n",
        "def traverse_nested(iterable):\n",
        "    for sublist in iterable:\n",
        "        yield from sublist\n",
        "\n",
        "def collect_by_key(iterable):\n",
        "    collection = {}\n",
        "    for key, value in iterable:\n",
        "        collection.setdefault(key, []).append(value)\n",
        "    return collection.items()\n",
        "\n",
        "def generate_records():\n",
        "    yield [((0, x, y), matrix_a[x, y]) for x in range(dim1) for y in range(dim2)]\n",
        "    yield [((1, y, z), matrix_b[y, z]) for y in range(dim2) for z in range(dim3)]\n",
        "\n",
        "def map_and_join(idx, val):\n",
        "    matrix_id, x, y = idx\n",
        "    yield y if matrix_id == 0 else x, (matrix_id, x if matrix_id == 0 else y, val)\n",
        "\n",
        "def reduce_and_join(key, values):\n",
        "    part_a = [v for v in values if v[0] == 0]\n",
        "    part_b = [v for v in values if v[0] == 1]\n",
        "    for a in part_a:\n",
        "        for b in part_b:\n",
        "            yield (a[1], b[1]), a[2] * b[2]\n",
        "\n",
        "def map_only(idx, val):\n",
        "    yield idx, val\n",
        "\n",
        "def reduce_and_sum(key, values):\n",
        "    yield key, sum(values)\n",
        "\n",
        "def reconstruct_matrix(reduced_data):\n",
        "    reduced_data = list(reduced_data)\n",
        "    rows = max(i for ((i, _), _) in reduced_data) + 1\n",
        "    cols = max(k for ((_, k), _) in reduced_data) + 1\n",
        "    result_matrix = np.zeros((rows, cols))\n",
        "    for (i, k), value in reduced_data:\n",
        "        result_matrix[i, k] = value\n",
        "    return result_matrix\n",
        "\n",
        "def execute_map_reduce(record_function, map_function, reduce_function):\n",
        "    mapped_data = traverse_nested(map(lambda pair: map_function(*pair), traverse_nested(record_function())))\n",
        "    reduced_data = traverse_nested(map(lambda pair: reduce_function(*pair), collect_by_key(mapped_data)))\n",
        "    return reduced_data"
      ],
      "execution_count": 25,
      "outputs": []
    },
    {
      "cell_type": "code",
      "source": [
        "intermediate_results = execute_map_reduce(generate_records, map_and_join, reduce_and_join)\n",
        "final_results = execute_map_reduce(lambda: [intermediate_results], map_only, reduce_and_sum)\n",
        "\n",
        "assert np.allclose(expected_result, reconstruct_matrix(final_results)), \"Ошибка в вычислениях!\"\n",
        "print(\"MapReduce успешно завершен!\")"
      ],
      "metadata": {
        "colab": {
          "base_uri": "https://localhost:8080/"
        },
        "id": "w0t9OqhRgEYo",
        "outputId": "36d53c51-9a5c-4ec9-fc88-7bdd3891d2ea"
      },
      "execution_count": 26,
      "outputs": [
        {
          "output_type": "stream",
          "name": "stdout",
          "text": [
            "MapReduce успешно завершен!\n"
          ]
        }
      ]
    },
    {
      "cell_type": "markdown",
      "metadata": {
        "id": "mXyzQi1DaIwo"
      },
      "source": [
        "Реализуйте перемножение матриц с использованием модельного кода MapReduce Distributed, когда каждая матрица генерируется в своём RECORDREADER."
      ]
    },
    {
      "cell_type": "code",
      "metadata": {
        "id": "TDM_s78Rb5eR",
        "colab": {
          "base_uri": "https://localhost:8080/"
        },
        "outputId": "217d456c-7756-4ffe-c8d8-7fb22fa3a436"
      },
      "source": [
        "import numpy as np\n",
        "from collections import defaultdict\n",
        "\n",
        "dim1, dim2, dim3 = 5, 8, 20\n",
        "matrix_a = np.random.rand(dim1, dim2)\n",
        "matrix_b = np.random.rand(dim2, dim3)\n",
        "expected_result = np.matmul(matrix_a, matrix_b)\n",
        "\n",
        "def flatten(nested_iterable):\n",
        "    for iterable in nested_iterable:\n",
        "        yield from iterable\n",
        "\n",
        "def group_by_key(iterable):\n",
        "    t = {}\n",
        "    for (k2, v2) in iterable:\n",
        "        t[k2] = t.get(k2, []) + [v2]\n",
        "    return t.items()\n",
        "\n",
        "def groupbykey_distributed(map_partitions, PARTITIONER):\n",
        "    partitions = defaultdict(dict)\n",
        "    for map_partition in map_partitions:\n",
        "        for k2, v2 in map_partition:\n",
        "            partitions[PARTITIONER(k2)][k2] = partitions[PARTITIONER(k2)].get(k2, []) + [v2]\n",
        "    return [(partition_id, sorted(partition.items(), key=lambda x: x[0])) for partition_id, partition in partitions.items()]\n",
        "\n",
        "def PARTITIONER(obj):\n",
        "    global reducers\n",
        "    return hash(obj) % reducers\n",
        "\n",
        "def MapReduceDistributed(INPUTFORMAT, MAP, REDUCE, PARTITIONER=PARTITIONER, COMBINER=None):\n",
        "    map_partitions = map(lambda record_reader: flatten(map(lambda k1v1: MAP(*k1v1), record_reader)), INPUTFORMAT())\n",
        "\n",
        "    if COMBINER:\n",
        "        map_partitions = map(lambda map_partition: flatten(map(lambda k2v2: COMBINER(*k2v2), groupbykey(map_partition))), map_partitions)\n",
        "\n",
        "    reduce_partitions = groupbykey_distributed(map_partitions, PARTITIONER)\n",
        "\n",
        "    reduce_outputs = map(lambda reduce_partition: (reduce_partition[0], flatten(map(lambda reduce_input_group: REDUCE(*reduce_input_group), reduce_partition[1]))), reduce_partitions)\n",
        "\n",
        "    print(f\"{sum(len(vs) for _, vs in flatten([partition for _, partition in reduce_partitions]))} key-value pairs were sent over a network.\")\n",
        "    return reduce_outputs\n",
        "\n",
        "def asmatrix(reduce_output):\n",
        "    reduce_output = list(reduce_output)\n",
        "    I_max = max(i for ((i, _), _) in reduce_output) + 1\n",
        "    K_max = max(k for ((_, k), _) in reduce_output) + 1\n",
        "    mat = np.zeros((I_max, K_max))\n",
        "    for (i, k), value in reduce_output:\n",
        "        mat[i, k] = value\n",
        "    return mat\n",
        "\n",
        "def INPUTFORMAT():\n",
        "    first_mat = [((0, i, j), val) for i in range(matrix_a.shape[0]) for j in range(matrix_a.shape[1]) for val in [matrix_a[i, j]]]\n",
        "    second_mat = [((1, j, k), val) for j in range(matrix_b.shape[0]) for k in range(matrix_b.shape[1]) for val in [matrix_b[j, k]]]\n",
        "    yield first_mat\n",
        "    yield second_mat\n",
        "\n",
        "def MAP_JOIN(k1, v1):\n",
        "    mat_num, i, j = k1\n",
        "    if mat_num == 0:\n",
        "        yield j, (mat_num, i, v1)\n",
        "    else:\n",
        "        yield i, (mat_num, j, v1)\n",
        "\n",
        "def REDUCE_JOIN(key, values):\n",
        "    from_first_mat = [v for v in values if v[0] == 0]\n",
        "    from_second_mat = [v for v in values if v[0] == 1]\n",
        "    for f in from_first_mat:\n",
        "        for s in from_second_mat:\n",
        "            yield (f[1], s[1]), f[2] * s[2]\n",
        "\n",
        "def GET_JOINED():\n",
        "    for j in joined:\n",
        "        yield j[1]\n",
        "\n",
        "def MAP_MUL(k1, v1):\n",
        "    yield k1, v1\n",
        "\n",
        "def REDUCE_MUL(key, values):\n",
        "    yield key, sum(values)\n",
        "\n",
        "\n",
        "partitioned_output = MapReduceDistributed(INPUTFORMAT, MAP_JOIN, REDUCE_JOIN)\n",
        "joined = [(partition_id, list(partition)) for partition_id, partition in partitioned_output]\n",
        "print(joined)\n",
        "\n",
        "mul_output = MapReduceDistributed(GET_JOINED, MAP_MUL, REDUCE_MUL)\n",
        "pre_result = [(partition_id, list(partition)) for partition_id, partition in mul_output]\n",
        "print(pre_result)\n",
        "\n",
        "solution = [v for p in pre_result for v in p[1]]\n",
        "print(solution)\n",
        "\n",
        "assert np.allclose(expected_result, asmatrix(solution)), \"Результат неверный!\"\n",
        "print(\"MapReduce успешно выполнен!\")"
      ],
      "execution_count": 45,
      "outputs": [
        {
          "output_type": "stream",
          "name": "stdout",
          "text": [
            "200 key-value pairs were sent over a network.\n",
            "[(0, [((0, 0), 0.21137974436587442), ((0, 1), 0.05242211928385842), ((0, 2), 0.13003302325742908), ((0, 3), 0.2364188626613045), ((0, 4), 0.050585312546854624), ((0, 5), 0.220939448732282), ((0, 6), 0.11557593468459051), ((0, 7), 0.02025159132721352), ((0, 8), 0.2831917723338421), ((0, 9), 0.25699207914898164), ((0, 10), 0.0307169422559107), ((0, 11), 0.13852709159034146), ((0, 12), 0.27094596854112946), ((0, 13), 0.24834299174787125), ((0, 14), 0.25009370451833696), ((0, 15), 0.0026145072226255095), ((0, 16), 0.010109573831910763), ((0, 17), 0.014948781202788437), ((0, 18), 0.045578012628815424), ((0, 19), 0.1735768515183545), ((1, 0), 0.43240550477317374), ((1, 1), 0.10723644793032416), ((1, 2), 0.2659999198479864), ((1, 3), 0.4836263661574615), ((1, 4), 0.10347901437552648), ((1, 5), 0.4519611571108162), ((1, 6), 0.2364260138872128), ((1, 7), 0.04142733541746832), ((1, 8), 0.579306601164543), ((1, 9), 0.5257116288057307), ((1, 10), 0.06283560878125367), ((1, 11), 0.28337567132355573), ((1, 12), 0.5542561736213256), ((1, 13), 0.5080187651175664), ((1, 14), 0.5116000819627402), ((1, 15), 0.005348323789131266), ((1, 16), 0.0206804837849675), ((1, 17), 0.03057972891928152), ((1, 18), 0.09323591348094538), ((1, 19), 0.35507463746298973), ((2, 0), 0.3650652020811489), ((2, 1), 0.09053607112306386), ((2, 2), 0.22457464907578822), ((2, 3), 0.40830922627976407), ((2, 4), 0.08736379827998741), ((2, 5), 0.381575371571741), ((2, 6), 0.19960641015024042), ((2, 7), 0.034975684649979216), ((2, 8), 0.48908878144836665), ((2, 9), 0.44384037642408986), ((2, 10), 0.05304995881043076), ((2, 11), 0.23924440270685737), ((2, 12), 0.46793956088494887), ((2, 13), 0.4289028957805394), ((2, 14), 0.43192647929963884), ((2, 15), 0.004515407142882778), ((2, 16), 0.0174598262713039), ((2, 17), 0.025817420903002448), ((2, 18), 0.07871589797173528), ((2, 19), 0.29977739147265114), ((3, 0), 0.6823825222969163), ((3, 1), 0.16923068049108786), ((3, 2), 0.41977656212277614), ((3, 3), 0.7632145658296782), ((3, 4), 0.1633010450951858), ((3, 5), 0.7132434508004101), ((3, 6), 0.37310574891407133), ((3, 7), 0.0653768033065203), ((3, 8), 0.9142082959681123), ((3, 9), 0.8296296492651187), ((3, 10), 0.0991613675980063), ((3, 11), 0.44719737195942044), ((3, 12), 0.8746760195681534), ((3, 13), 0.8017084021558378), ((3, 14), 0.8073601063894279), ((3, 15), 0.008440231766250202), ((3, 16), 0.0326360338426064), ((3, 17), 0.04825811031716973), ((3, 18), 0.14713632714541633), ((3, 19), 0.5603460733987632), ((4, 0), 0.2745402371792228), ((4, 1), 0.06808590437462687), ((4, 2), 0.16888702913953063), ((4, 3), 0.3070610706971565), ((4, 4), 0.06570025782773461), ((4, 5), 0.2869563913948984), ((4, 6), 0.15011014709903509), ((4, 7), 0.026302788391144864), ((4, 8), 0.3678097756101232), ((4, 9), 0.3337815861893601), ((4, 10), 0.039895197326767426), ((4, 11), 0.17991913413961017), ((4, 12), 0.35190491259788315), ((4, 13), 0.32254814225835293), ((4, 14), 0.3248219698697839), ((4, 15), 0.0033957247661535136), ((4, 16), 0.013130325263283482), ((4, 17), 0.019415492952107146), ((4, 18), 0.05919677135957745), ((4, 19), 0.2254417996749414), ((0, 0), 0.3713245240035733), ((0, 1), 0.047718216323726394), ((0, 2), 0.3677197942159028), ((0, 3), 0.13546496759871587), ((0, 4), 0.2923655947991874), ((0, 5), 0.18974579663926547), ((0, 6), 0.3459963515739762), ((0, 7), 0.3096795370155528), ((0, 8), 0.25077137425900525), ((0, 9), 0.004979837536181487), ((0, 10), 0.2772326525789848), ((0, 11), 0.22874391215958378), ((0, 12), 0.21887033427017852), ((0, 13), 0.21829088281931988), ((0, 14), 0.36273916827715996), ((0, 15), 0.2266897980174351), ((0, 16), 0.20063658740624885), ((0, 17), 0.2827291771216333), ((0, 18), 0.2721369739447324), ((0, 19), 0.37139299869459425), ((1, 0), 0.23149404081464312), ((1, 1), 0.029748863872886524), ((1, 2), 0.22924675195907396), ((1, 3), 0.08445263027644698), ((1, 4), 0.1822688472215996), ((1, 5), 0.11829280952958118), ((1, 6), 0.21570375333521705), ((1, 7), 0.1930628405805168), ((1, 8), 0.15633785272771172), ((1, 9), 0.003104569290015424), ((1, 10), 0.1728345499492344), ((1, 11), 0.14260531991434602), ((1, 12), 0.1364498567139285), ((1, 13), 0.13608861055553073), ((1, 14), 0.22614169115696353), ((1, 15), 0.14132472799993767), ((1, 16), 0.1250824315430508), ((1, 17), 0.17626123629651785), ((1, 18), 0.16965776209526393), ((1, 19), 0.23153672984241605), ((2, 0), 0.025558345588637472), ((2, 1), 0.003284454930489387), ((2, 2), 0.025310231274307798), ((2, 3), 0.00932408239486019), ((2, 4), 0.020123585777580565), ((2, 5), 0.013060243347813475), ((2, 6), 0.02381500211887512), ((2, 7), 0.021315308085324797), ((2, 8), 0.01726064677319165), ((2, 9), 0.00034276327174062604), ((2, 10), 0.01908198216124334), ((2, 11), 0.015744491894145174), ((2, 12), 0.015064891437991836), ((2, 13), 0.01502500767197174), ((2, 14), 0.024967413736651987), ((2, 15), 0.015603106782928988), ((2, 16), 0.013809858781652756), ((2, 17), 0.0194603091090107), ((2, 18), 0.01873124552220141), ((2, 19), 0.02556305871611507), ((3, 0), 0.8236427713751746), ((3, 1), 0.10584478373309888), ((3, 2), 0.8156470440788353), ((3, 3), 0.30047770649315064), ((3, 4), 0.6485023024033735), ((3, 5), 0.4208791601366221), ((3, 6), 0.7674618170205926), ((3, 7), 0.6869067234116115), ((3, 8), 0.5562412830946242), ((3, 9), 0.011045882844137628), ((3, 10), 0.6149356035629054), ((3, 11), 0.5073817040549308), ((3, 12), 0.48548091234708185), ((3, 13), 0.48419561884231466), ((3, 14), 0.8045994124623204), ((3, 15), 0.5028254300805677), ((3, 16), 0.445036253218088), ((3, 17), 0.62712756077173), ((3, 18), 0.6036327711318527), ((3, 19), 0.8237946565339392), ((4, 0), 0.7613234503672424), ((4, 1), 0.09783624497853054), ((4, 2), 0.7539327041541953), ((4, 3), 0.2777426479247263), ((4, 4), 0.5994346427790653), ((4, 5), 0.38903416082665343), ((4, 6), 0.7093933181538047), ((4, 7), 0.6349332683088337), ((4, 8), 0.5141543732305806), ((4, 9), 0.010210117700918436), ((4, 10), 0.5684077026215067), ((4, 11), 0.468991658773822), ((4, 12), 0.44874794767932014), ((4, 13), 0.44755990339629903), ((4, 14), 0.7437209699983446), ((4, 15), 0.4647801263673771), ((4, 16), 0.4113634546598496), ((4, 17), 0.5796771792095846), ((4, 18), 0.5579600769221218), ((4, 19), 0.7614638434322324), ((0, 0), 0.08499019988631576), ((0, 1), 0.12064695843093948), ((0, 2), 0.309552388472849), ((0, 3), 0.061813392319292906), ((0, 4), 0.02389242405419014), ((0, 5), 0.2942588985022278), ((0, 6), 0.11719612767036335), ((0, 7), 0.2093437897594212), ((0, 8), 0.3343558073451429), ((0, 9), 0.026567935374917633), ((0, 10), 0.12287271762926609), ((0, 11), 0.165413325516478), ((0, 12), 0.1284925755999312), ((0, 13), 0.27816019150729787), ((0, 14), 0.016918137385249842), ((0, 15), 0.2982176380319292), ((0, 16), 0.12854278682588235), ((0, 17), 0.2614773956124631), ((0, 18), 0.2243181225322961), ((0, 19), 0.30084195220926807), ((1, 0), 0.2255073526663107), ((1, 1), 0.32011662802765267), ((1, 2), 0.8213457519739878), ((1, 3), 0.1640115505069212), ((1, 4), 0.06339457142644993), ((1, 5), 0.7807670212389535), ((1, 6), 0.3109604228374318), ((1, 7), 0.5554589104264577), ((1, 8), 0.8871574965568501), ((1, 9), 0.07049359549949656), ((1, 10), 0.32602230968458146), ((1, 11), 0.43889673377456806), ((1, 12), 0.34093366764138755), ((1, 13), 0.7380517811214656), ((1, 14), 0.04488946230148719), ((1, 15), 0.7912708778298612), ((1, 16), 0.34106689477408664), ((1, 17), 0.6937867583029664), ((1, 18), 0.5951908106463922), ((1, 19), 0.7982340588023493), ((2, 0), 0.2302688821124311), ((2, 1), 0.32687580786158876), ((2, 2), 0.8386882551661435), ((2, 3), 0.16747461199032285), ((2, 4), 0.06473313141131165), ((2, 5), 0.7972527150233601), ((2, 6), 0.3175262717661337), ((2, 7), 0.5671872817049728), ((2, 8), 0.9058895977200996), ((2, 9), 0.07198204954219217), ((2, 10), 0.33290618645977643), ((2, 11), 0.4481639248304891), ((2, 12), 0.3481323938844757), ((2, 13), 0.7536355536549121), ((2, 14), 0.045837291691712544), ((2, 15), 0.8079783578303893), ((2, 16), 0.34826843407363556), ((2, 17), 0.7084358863244206), ((2, 18), 0.60775811072528), ((2, 19), 0.8150885645687656), ((3, 0), 0.1992981044545488), ((3, 1), 0.28291156104651555), ((3, 2), 0.7258860943325081), ((3, 3), 0.14494955813280733), ((3, 4), 0.056026634025966596), ((3, 5), 0.690023564703016), ((3, 6), 0.27481952184321673), ((3, 7), 0.4909015455216248), ((3, 8), 0.78404896925047), ((3, 9), 0.06230058485066079), ((3, 10), 0.28813086385780584), ((3, 11), 0.38788663011798896), ((3, 12), 0.30130917197280627), ((3, 13), 0.6522728382363129), ((3, 14), 0.03967225299260432), ((3, 15), 0.6993066265778453), ((3, 16), 0.3014269149851511), ((3, 17), 0.6131524501999268), ((3, 18), 0.526015666221394), ((3, 19), 0.7054605224592109), ((4, 0), 0.22460258263695707), ((4, 1), 0.3188322710986538), ((4, 2), 0.8180503870498002), ((4, 3), 0.16335351105227838), ((4, 4), 0.06314022269869361), ((4, 5), 0.7776344643960287), ((4, 6), 0.3097128020056856), ((4, 7), 0.5532303242240604), ((4, 8), 0.8835980848360767), ((4, 9), 0.07021076440013237), ((4, 10), 0.3247142582564768), ((4, 11), 0.4371358128732969), ((4, 12), 0.33956578956188216), ((4, 13), 0.7350906043625957), ((4, 14), 0.044709358905105766), ((4, 15), 0.7880961779059071), ((4, 16), 0.33969848216692466), ((4, 17), 0.6910031795936558), ((4, 18), 0.5928028139764282), ((4, 19), 0.7950314215301076), ((0, 0), 0.8024242720929146), ((0, 1), 0.5795161569439705), ((0, 2), 0.152201204715667), ((0, 3), 0.09274426028729242), ((0, 4), 0.23304635497725437), ((0, 5), 0.5991152233993939), ((0, 6), 0.5928840738507576), ((0, 7), 0.48047021654174665), ((0, 8), 0.46339454470121727), ((0, 9), 0.2507766388015388), ((0, 10), 0.5925480319297755), ((0, 11), 0.6918856632139551), ((0, 12), 0.04801570249673627), ((0, 13), 0.4476325184282733), ((0, 14), 0.08181951202235381), ((0, 15), 0.2384835479292787), ((0, 16), 0.9458542605857738), ((0, 17), 0.8626367296415747), ((0, 18), 0.2718264552807403), ((0, 19), 0.8063295101889617), ((1, 0), 0.0019729162074855516), ((1, 1), 0.0014248532332557739), ((1, 2), 0.000374216276882008), ((1, 3), 0.0002280298099592762), ((1, 4), 0.0005729898095316056), ((1, 5), 0.0014730413516942126), ((1, 6), 0.0014577208580808943), ((1, 7), 0.0011813295165622082), ((1, 8), 0.0011393456547829322), ((1, 9), 0.0006165831622463888), ((1, 10), 0.0014568946336316127), ((1, 11), 0.0017011355291152528), ((1, 12), 0.00011805594741362254), ((1, 13), 0.0011005916462388046), ((1, 14), 0.00020116919062833287), ((1, 15), 0.0005863582063652358), ((1, 16), 0.002325566742593321), ((1, 17), 0.0021209602504211472), ((1, 18), 0.0006683382319031105), ((1, 19), 0.0019825179952202196), ((2, 0), 0.5911633792072349), ((2, 1), 0.4269421321848036), ((2, 2), 0.11212993129488405), ((2, 3), 0.06832670972241305), ((2, 4), 0.17169030837134247), ((2, 5), 0.44138118987292113), ((2, 6), 0.436790566742953), ((2, 7), 0.3539728379332494), ((2, 8), 0.3413928198324107), ((2, 9), 0.18475259333005778), ((2, 10), 0.43654299736541546), ((2, 11), 0.5097271866213432), ((2, 12), 0.03537421029020556), ((2, 13), 0.3297805929360789), ((2, 14), 0.06027821053576123), ((2, 15), 0.17569600644243505), ((2, 16), 0.6968313651169077), ((2, 17), 0.635523203695092), ((2, 18), 0.20026045005164006), ((2, 19), 0.5940404528822955), ((3, 0), 0.3086662190415106), ((3, 1), 0.22292080045236898), ((3, 2), 0.058546796285977774), ((3, 3), 0.035675665799607674), ((3, 4), 0.08964526591975458), ((3, 5), 0.2304599165408693), ((3, 6), 0.22806299830403276), ((3, 7), 0.18482108562741012), ((3, 8), 0.17825263643174635), ((3, 9), 0.09646552280991633), ((3, 10), 0.22793373403225486), ((3, 11), 0.26614565274335406), ((3, 12), 0.01847006111322299), ((3, 13), 0.17218950346916415), ((3, 14), 0.03147327454825175), ((3, 15), 0.09173677517373457), ((3, 16), 0.3638390170050945), ((3, 17), 0.3318279705701213), ((3, 18), 0.10456269470528548), ((3, 19), 0.3101684356611796), ((4, 0), 0.3513551851635968), ((4, 1), 0.2537510562800717), ((4, 2), 0.0666438993993984), ((4, 3), 0.0406096598512778), ((4, 4), 0.10204333050789521), ((4, 5), 0.2623328425781333), ((4, 6), 0.2596044272253264), ((4, 7), 0.21038209806179853), ((4, 8), 0.2029052232338804), ((4, 9), 0.10980683838364307), ((4, 10), 0.25945728552551034), ((4, 11), 0.30295396558297066), ((4, 12), 0.02102449617768724), ((4, 13), 0.19600355057480306), ((4, 14), 0.03582607206238708), ((4, 15), 0.10442409839200464), ((4, 16), 0.41415845759387765), ((4, 17), 0.37772023904710517), ((4, 18), 0.1190238603805215), ((4, 19), 0.3530651604248956)]), (1, [((0, 0), 0.37234448408933124), ((0, 1), 0.46982663795270313), ((0, 2), 0.4055173390821732), ((0, 3), 0.05357154158045704), ((0, 4), 0.2703408596164818), ((0, 5), 0.35741104148346736), ((0, 6), 0.5136516350456423), ((0, 7), 0.08085553844793829), ((0, 8), 0.47674288534156545), ((0, 9), 0.25150338703009506), ((0, 10), 0.06116288571876745), ((0, 11), 0.45733971237133775), ((0, 12), 0.039395203054214664), ((0, 13), 0.28772517723505714), ((0, 14), 0.17411895784821574), ((0, 15), 0.11178326566575088), ((0, 16), 0.06401185142347297), ((0, 17), 0.23408947721234205), ((0, 18), 0.19302749504348796), ((0, 19), 0.27539094652076507), ((1, 0), 0.43232865160181305), ((1, 1), 0.5455150419899166), ((1, 2), 0.47084560641561685), ((1, 3), 0.06220184083659713), ((1, 4), 0.31389238811129594), ((1, 5), 0.4149894526034542), ((1, 6), 0.5964001838659491), ((1, 7), 0.0938812508455186), ((1, 8), 0.5535454870093574), ((1, 9), 0.2920202254477963), ((1, 10), 0.07101613973292152), ((1, 11), 0.5310164904336951), ((1, 12), 0.045741714309703835), ((1, 13), 0.3340772946057163), ((1, 14), 0.20216927464077059), ((1, 15), 0.12979139098869236), ((1, 16), 0.07432406976601326), ((1, 17), 0.2718009594929433), ((1, 18), 0.2241239503207077), ((1, 19), 0.3197560368427673), ((2, 0), 0.2814312420198587), ((2, 1), 0.3551117309456937), ((2, 2), 0.3065044690472809), ((2, 3), 0.04049128193957452), ((2, 4), 0.20433326433359866), ((2, 5), 0.27014401344581535), ((2, 6), 0.38823622691761067), ((2, 7), 0.06111349994949399), ((2, 8), 0.3603392774139184), ((2, 9), 0.1900952306496353), ((2, 10), 0.04622909061067681), ((2, 11), 0.34567366720220055), ((2, 12), 0.029776299633626938), ((2, 13), 0.21747295166112623), ((2, 14), 0.13160531889246496), ((2, 15), 0.08448977932435417), ((2, 16), 0.04838244050844217), ((2, 17), 0.17693317648246182), ((2, 18), 0.14589706574258737), ((2, 19), 0.208150300144554), ((3, 0), 0.054217352072631717), ((3, 1), 0.06841179964108524), ((3, 2), 0.059047675698346486), ((3, 3), 0.00780059126710316), ((3, 4), 0.0393645298688733), ((3, 5), 0.05204288259606949), ((3, 6), 0.07479318945213957), ((3, 7), 0.011773433963378776), ((3, 8), 0.06941887947099191), ((3, 9), 0.036621591737608684), ((3, 10), 0.008905972427395948), ((3, 11), 0.06659356929397686), ((3, 12), 0.0057363642681241825), ((3, 13), 0.04189587304473361), ((3, 14), 0.025353588527745094), ((3, 15), 0.016276842895232766), ((3, 16), 0.009320812402889756), ((3, 17), 0.03408593962002915), ((3, 18), 0.02810687442857389), ((3, 19), 0.040099876708659506), ((4, 0), 0.23943250500273275), ((4, 1), 0.3021174574860606), ((4, 2), 0.260763987295144), ((4, 3), 0.034448659629907515), ((4, 4), 0.17384006474777536), ((4, 5), 0.22982969973980133), ((4, 6), 0.33029869632289655), ((4, 7), 0.05199336888602868), ((4, 8), 0.30656488321222397), ((4, 9), 0.16172681091427207), ((4, 10), 0.039330199765566946), ((4, 11), 0.294087861239882), ((4, 12), 0.025332702793843254), ((4, 13), 0.1850188813894636), ((4, 14), 0.11196550513706956), ((4, 15), 0.07188114356305456), ((4, 16), 0.041162199498322116), ((4, 17), 0.150528965296245), ((4, 18), 0.12412445637727432), ((4, 19), 0.17708747409487863), ((0, 0), 0.9522985434901253), ((0, 1), 0.6197061222653167), ((0, 2), 0.09115407865688602), ((0, 3), 0.8403597979795971), ((0, 4), 0.873372179362433), ((0, 5), 0.7274703590762603), ((0, 6), 0.6146131524354556), ((0, 7), 0.36427138969462824), ((0, 8), 0.5839065186495407), ((0, 9), 0.6865926684021089), ((0, 10), 0.0908381690424412), ((0, 11), 0.6889378657671767), ((0, 12), 0.16831018131186387), ((0, 13), 0.7260098265884254), ((0, 14), 0.7469964609020998), ((0, 15), 0.8612822218451779), ((0, 16), 0.8156324667070137), ((0, 17), 0.8949683119681138), ((0, 18), 0.883268715383971), ((0, 19), 0.35471483697459766), ((1, 0), 0.9292981116927738), ((1, 1), 0.6047386433197687), ((1, 2), 0.08895247582599829), ((1, 3), 0.8200629715790995), ((1, 4), 0.8522780199914561), ((1, 5), 0.7099000997359426), ((1, 6), 0.5997686816642015), ((1, 7), 0.3554733091854516), ((1, 8), 0.5698036911801139), ((1, 9), 0.6700097092554239), ((1, 10), 0.08864419623219232), ((1, 11), 0.6722982641396067), ((1, 12), 0.1642450623714572), ((1, 13), 0.7084748428222476), ((1, 14), 0.7289545965421341), ((1, 15), 0.8404800656965196), ((1, 16), 0.7959328682455415), ((1, 17), 0.8733525510694656), ((1, 18), 0.8619355294983055), ((1, 19), 0.3461475715187018), ((2, 0), 0.44948633628221696), ((2, 1), 0.2925022162144945), ((2, 2), 0.043024861407959906), ((2, 3), 0.3966510810447647), ((2, 4), 0.41223297441335), ((2, 5), 0.34336709710455177), ((2, 6), 0.29009832684044345), ((2, 7), 0.17193664054781574), ((2, 8), 0.2756047497848636), ((2, 9), 0.32407276599126195), ((2, 10), 0.04287575159763434), ((2, 11), 0.32517970265381285), ((2, 12), 0.07944265721503734), ((2, 13), 0.3426777235866924), ((2, 14), 0.35258344635927585), ((2, 15), 0.40652649638984867), ((2, 16), 0.38497974371496496), ((2, 17), 0.4224263812910042), ((2, 18), 0.4169041542115497), ((2, 19), 0.16742593337622705), ((3, 0), 0.0007582322265563209), ((3, 1), 0.0004934179056640415), ((3, 2), 7.25780381500892e-05), ((3, 3), 0.0006691051719928386), ((3, 4), 0.0006953900504177247), ((3, 5), 0.000579221163244212), ((3, 6), 0.0004893628182334474), ((3, 7), 0.00029003751897661834), ((3, 8), 0.0004649138054057961), ((3, 9), 0.0005466738254075414), ((3, 10), 7.232650689238806e-05), ((3, 11), 0.000548541101412514), ((3, 12), 0.00013401070956223292), ((3, 13), 0.0005780582686794988), ((3, 14), 0.0005947680941563511), ((3, 15), 0.0006857638722932858), ((3, 16), 0.000649416955964604), ((3, 17), 0.000712585166195806), ((3, 18), 0.0007032697984170278), ((3, 19), 0.00028242847001120133), ((4, 0), 0.054459479369417856), ((4, 1), 0.03543938296589436), ((4, 2), 0.0052128649150920935), ((4, 3), 0.048057993361230615), ((4, 4), 0.04994588567729458), ((4, 5), 0.04160213966807081), ((4, 6), 0.035148129254256956), ((4, 7), 0.02083173429966449), ((4, 8), 0.03339209665229631), ((4, 9), 0.039264450749867105), ((4, 10), 0.005194798865061811), ((4, 11), 0.03939856649370941), ((4, 12), 0.009625221953215636), ((4, 13), 0.041518615609955484), ((4, 14), 0.04271878669732302), ((4, 15), 0.04925449241990803), ((4, 16), 0.04664390153413965), ((4, 17), 0.05118091238833824), ((4, 18), 0.05051184285845164), ((4, 19), 0.02028521988015078), ((0, 0), 0.3136109987224904), ((0, 1), 0.43773867535505095), ((0, 2), 0.5017522419196263), ((0, 3), 0.3330197313420883), ((0, 4), 0.3486889617273587), ((0, 5), 0.3843226764518294), ((0, 6), 0.35708957730658847), ((0, 7), 0.06880013923652083), ((0, 8), 0.2812766096097895), ((0, 9), 0.25927468810371823), ((0, 10), 0.01754679463712498), ((0, 11), 0.4108453783300735), ((0, 12), 0.4493000763298974), ((0, 13), 0.4925190911905568), ((0, 14), 0.49770589913932384), ((0, 15), 0.24748197348976825), ((0, 16), 0.314223769323982), ((0, 17), 0.3399103319444682), ((0, 18), 0.15873097974388437), ((0, 19), 0.10954751948347516), ((1, 0), 0.10379168367325572), ((1, 1), 0.14487257879690935), ((1, 2), 0.16605830212527564), ((1, 3), 0.11021513516174984), ((1, 4), 0.11540097306340606), ((1, 5), 0.12719419224848327), ((1, 6), 0.1181812136749019), ((1, 7), 0.02276987196686867), ((1, 8), 0.093090398641084), ((1, 9), 0.08580871373059178), ((1, 10), 0.005807230504908465), ((1, 11), 0.13597206003603085), ((1, 12), 0.14869890273863684), ((1, 13), 0.1630025283683511), ((1, 14), 0.16471913758194803), ((1, 15), 0.08190583497364116), ((1, 16), 0.1039944842532525), ((1, 17), 0.11249562609145035), ((1, 18), 0.0525330926078318), ((1, 19), 0.03625549338427355), ((2, 0), 0.5265385874583054), ((2, 1), 0.7349433047189524), ((2, 2), 0.8424191683027591), ((2, 3), 0.5591249658044363), ((2, 4), 0.5854328901668715), ((2, 5), 0.6452602747080548), ((2, 6), 0.599537141225942), ((2, 7), 0.11551230115684873), ((2, 8), 0.47225062039375054), ((2, 9), 0.43531039598080973), ((2, 10), 0.029460269251679733), ((2, 11), 0.689790683524826), ((2, 12), 0.7543543705397704), ((2, 13), 0.8269171286342593), ((2, 14), 0.8356255430134947), ((2, 15), 0.41551096509215435), ((2, 16), 0.5275674013974201), ((2, 17), 0.5706939704716704), ((2, 18), 0.26650208762025807), ((2, 19), 0.18392529727387283), ((3, 0), 0.16553889229691518), ((3, 1), 0.23105941988315057), ((3, 2), 0.26484884354571653), ((3, 3), 0.17578375013615918), ((3, 4), 0.1840547197503917), ((3, 5), 0.20286389955576223), ((3, 6), 0.1884889666462681), ((3, 7), 0.03631600576982707), ((3, 8), 0.14847125443147677), ((3, 9), 0.13685758740654688), ((3, 10), 0.009262037873108607), ((3, 11), 0.21686385079322174), ((3, 12), 0.2371620805633332), ((3, 13), 0.2599751447585987), ((3, 14), 0.2627129901973535), ((3, 15), 0.13063282831863507), ((3, 16), 0.16586234194318475), ((3, 17), 0.17942093886877686), ((3, 18), 0.08378580683408386), ((3, 19), 0.057824422941288624), ((4, 0), 0.15188310098435984), ((4, 1), 0.21199864706448887), ((4, 2), 0.24300068154192062), ((4, 3), 0.16128283029375612), ((4, 4), 0.16887150323777858), ((4, 5), 0.18612905834264207), ((4, 6), 0.17293995603295614), ((4, 7), 0.03332019137710532), ((4, 8), 0.1362234228899138), ((4, 9), 0.12556780150045602), ((4, 10), 0.008497985060085695), ((4, 11), 0.1989741123240429), ((4, 12), 0.217597881271632), ((4, 13), 0.23852902853772223), ((4, 14), 0.24104102103377037), ((4, 15), 0.11985654114324122), ((4, 16), 0.15217986831562605), ((4, 17), 0.16461997660366678), ((4, 18), 0.07687406858813667), ((4, 19), 0.05305431579910202), ((0, 0), 0.08279295207169529), ((0, 1), 0.0041606230945938835), ((0, 2), 0.024135489709876355), ((0, 3), 0.1989851079714913), ((0, 4), 0.2078910491342306), ((0, 5), 0.19085213496735362), ((0, 6), 0.1298978349836657), ((0, 7), 0.13647034219009743), ((0, 8), 0.15986929768543284), ((0, 9), 0.14313601549635324), ((0, 10), 0.1316120675007795), ((0, 11), 0.1974294123960031), ((0, 12), 0.15346406811779714), ((0, 13), 0.020767123934239757), ((0, 14), 0.18990906271826624), ((0, 15), 0.20292473272318692), ((0, 16), 0.07134395530632184), ((0, 17), 0.20315249273377084), ((0, 18), 0.02752189295141795), ((0, 19), 0.14795501094860725), ((1, 0), 0.2530824617502311), ((1, 1), 0.012718241213127012), ((1, 2), 0.07377764650828453), ((1, 3), 0.6082599993952525), ((1, 4), 0.6354837842376743), ((1, 5), 0.583399032637443), ((1, 6), 0.3970732173582012), ((1, 7), 0.4171641340612855), ((1, 8), 0.4886903341901986), ((1, 9), 0.437539841985182), ((1, 10), 0.40231330331464554), ((1, 11), 0.6035045310114515), ((1, 12), 0.4691107537248366), ((1, 13), 0.06348118671017117), ((1, 14), 0.58051623838461), ((1, 15), 0.6203026902956551), ((1, 16), 0.21808503487454733), ((1, 17), 0.6209989097530423), ((1, 18), 0.08412924344260025), ((1, 19), 0.45227060350173576), ((2, 0), 0.19670237653673112), ((2, 1), 0.009884953128274988), ((2, 2), 0.05734193631239712), ((2, 3), 0.47275574374393636), ((2, 4), 0.49391478866469374), ((2, 5), 0.4534331434719033), ((2, 6), 0.3086157965008528), ((2, 7), 0.3242309878300662), ((2, 8), 0.37982304052585597), ((2, 9), 0.34006752642120813), ((2, 10), 0.3126885297663708), ((2, 11), 0.46905966806105426), ((2, 12), 0.3646052732317723), ((2, 13), 0.04933925569123803), ((2, 14), 0.45119255960577065), ((2, 15), 0.4821156413189183), ((2, 16), 0.16950145162273453), ((2, 17), 0.4826567614775894), ((2, 18), 0.06538747097271573), ((2, 19), 0.3515166635066597), ((3, 0), 0.34583449284265144), ((3, 1), 0.017379341378989385), ((3, 2), 0.100816369442849), ((3, 3), 0.8311808212729169), ((3, 4), 0.8683818337774027), ((3, 5), 0.7972085745561519), ((3, 6), 0.54259632926282), ((3, 7), 0.5700503533018791), ((3, 8), 0.6677901452079537), ((3, 9), 0.5978935415158656), ((3, 10), 0.5497568510021229), ((3, 11), 0.8246825242934755), ((3, 12), 0.6410348567004751), ((3, 13), 0.08674636661559053), ((3, 14), 0.7932692668636966), ((3, 15), 0.8476370303329971), ((3, 16), 0.2980108811603267), ((3, 17), 0.8485884068183036), ((3, 18), 0.11496171658043015), ((3, 19), 0.618022970489459), ((4, 0), 0.03658575310240064), ((4, 1), 0.001838556609977406), ((4, 2), 0.010665341015578391), ((4, 3), 0.08793043186810535), ((4, 4), 0.09186591860183518), ((4, 5), 0.08433651553981446), ((4, 6), 0.05740114345884637), ((4, 7), 0.06030549847822087), ((4, 8), 0.07064536904914921), ((4, 9), 0.06325102308800598), ((4, 10), 0.0581586534408183), ((4, 11), 0.08724297849432032), ((4, 12), 0.06781493310427811), ((4, 13), 0.009176878585596415), ((4, 14), 0.08391977706631543), ((4, 15), 0.08967133051799077), ((4, 16), 0.0315265039942711), ((4, 17), 0.08977197642208425), ((4, 18), 0.012161774103178924), ((4, 19), 0.0653805108451895)])]\n",
            "800 key-value pairs were sent over a network.\n",
            "[(1, [((0, 0), 3.19116571872232), ((0, 3), 1.9523776617402393), ((0, 6), 2.78690468755104), ((0, 7), 1.6701425442131188), ((0, 10), 1.32453026129305), ((0, 13), 2.7194478034510414), ((0, 14), 2.320300902811006), ((0, 17), 3.0939126974371542), ((1, 2), 2.1166006709331056), ((1, 5), 3.1879768064563683), ((1, 6), 2.475971207481196), ((1, 8), 3.3290712071246413), ((1, 9), 2.0853048671764833), ((1, 12), 1.8595541870686898), ((1, 13), 2.6522956009472876), ((1, 15), 2.6110102697798037), ((1, 16), 1.6814918339840528), ((1, 19), 2.5412576493504537), ((2, 1), 2.240080671107361), ((2, 2), 2.4499935018815204), ((2, 5), 3.345474048546161), ((2, 8), 3.2416495338924567), ((2, 9), 1.9904637016109956), ((2, 12), 2.094689657117829), ((2, 15), 2.3924357603239117), ((2, 16), 2.2068005214870614), ((2, 19), 2.6454876619411407), ((3, 0), 2.580338586606905), ((3, 3), 2.2597517641034157), ((3, 4), 2.049971720891366), ((3, 6), 2.4498179342613744), ((3, 7), 2.0464359884212286), ((3, 10), 1.7981587568604924), ((3, 11), 2.717299844357781), ((3, 13), 2.499561805391232), ((3, 14), 2.765035660075556), ((3, 17), 2.683173962332253), ((3, 18), 1.6089051268454535), ((4, 0), 2.09418229380593), ((4, 3), 1.1204868046784386), ((4, 6), 2.024608619552808), ((4, 7), 1.5912992720268566), ((4, 10), 1.3036560808617939), ((4, 13), 2.1754456047147883), ((4, 14), 1.6287234607700998), ((4, 17), 2.123917921512787)]), (0, [((0, 1), 2.3317355096501595), ((0, 2), 1.98206556003041), ((0, 4), 2.3001827362179905), ((0, 5), 2.9641155792520797), ((0, 8), 2.833508809925536), ((0, 9), 1.879823249893895), ((0, 11), 2.97912236134495), ((0, 12), 1.4767941097217485), ((0, 15), 2.1894776849251527), ((0, 16), 2.5503552514106063), ((0, 18), 2.0764086475093455), ((0, 19), 2.5397496265386237), ((1, 0), 2.6098807231796863), ((1, 1), 1.7663712983838409), ((1, 3), 2.333058523723488), ((1, 4), 2.2667705882369398), ((1, 7), 1.6804189820001294), ((1, 10), 1.130930232833369), ((1, 11), 2.8093702061623693), ((1, 14), 2.459191651761282), ((1, 17), 2.7813967301760885), ((1, 18), 2.08147464032395), ((2, 0), 2.666214351286565), ((2, 3), 2.122457702920072), ((2, 4), 2.039824741418736), ((2, 6), 2.564225742263051), ((2, 7), 1.6502445418577507), ((2, 10), 1.2728347660232278), ((2, 11), 3.042583727494728), ((2, 13), 2.963751109616818), ((2, 14), 2.334016263134771), ((2, 17), 3.0419471097542514), ((2, 18), 1.8001564828179677), ((3, 1), 1.0982518045319603), ((3, 2), 2.44464196354516), ((3, 5), 3.1073006700521453), ((3, 8), 3.3188963776607805), ((3, 9), 1.7713610342552624), ((3, 12), 2.564003477242759), ((3, 15), 2.297541529017556), ((3, 16), 1.6167816715133059), ((3, 19), 3.1159993866625113), ((4, 1), 1.2898995208583042), ((4, 2), 2.3271568945106598), ((4, 4), 1.3148418260780723), ((4, 5), 2.2578552724860423), ((4, 8), 2.5152932287142447), ((4, 9), 0.9138193929266551), ((4, 11), 2.0087040899216544), ((4, 12), 1.4816138851397416), ((4, 15), 1.6913596350756372), ((4, 16), 1.4498631930262942), ((4, 18), 1.5926556645656906), ((4, 19), 2.450809745681498)])]\n",
            "[((0, 0), 3.19116571872232), ((0, 3), 1.9523776617402393), ((0, 6), 2.78690468755104), ((0, 7), 1.6701425442131188), ((0, 10), 1.32453026129305), ((0, 13), 2.7194478034510414), ((0, 14), 2.320300902811006), ((0, 17), 3.0939126974371542), ((1, 2), 2.1166006709331056), ((1, 5), 3.1879768064563683), ((1, 6), 2.475971207481196), ((1, 8), 3.3290712071246413), ((1, 9), 2.0853048671764833), ((1, 12), 1.8595541870686898), ((1, 13), 2.6522956009472876), ((1, 15), 2.6110102697798037), ((1, 16), 1.6814918339840528), ((1, 19), 2.5412576493504537), ((2, 1), 2.240080671107361), ((2, 2), 2.4499935018815204), ((2, 5), 3.345474048546161), ((2, 8), 3.2416495338924567), ((2, 9), 1.9904637016109956), ((2, 12), 2.094689657117829), ((2, 15), 2.3924357603239117), ((2, 16), 2.2068005214870614), ((2, 19), 2.6454876619411407), ((3, 0), 2.580338586606905), ((3, 3), 2.2597517641034157), ((3, 4), 2.049971720891366), ((3, 6), 2.4498179342613744), ((3, 7), 2.0464359884212286), ((3, 10), 1.7981587568604924), ((3, 11), 2.717299844357781), ((3, 13), 2.499561805391232), ((3, 14), 2.765035660075556), ((3, 17), 2.683173962332253), ((3, 18), 1.6089051268454535), ((4, 0), 2.09418229380593), ((4, 3), 1.1204868046784386), ((4, 6), 2.024608619552808), ((4, 7), 1.5912992720268566), ((4, 10), 1.3036560808617939), ((4, 13), 2.1754456047147883), ((4, 14), 1.6287234607700998), ((4, 17), 2.123917921512787), ((0, 1), 2.3317355096501595), ((0, 2), 1.98206556003041), ((0, 4), 2.3001827362179905), ((0, 5), 2.9641155792520797), ((0, 8), 2.833508809925536), ((0, 9), 1.879823249893895), ((0, 11), 2.97912236134495), ((0, 12), 1.4767941097217485), ((0, 15), 2.1894776849251527), ((0, 16), 2.5503552514106063), ((0, 18), 2.0764086475093455), ((0, 19), 2.5397496265386237), ((1, 0), 2.6098807231796863), ((1, 1), 1.7663712983838409), ((1, 3), 2.333058523723488), ((1, 4), 2.2667705882369398), ((1, 7), 1.6804189820001294), ((1, 10), 1.130930232833369), ((1, 11), 2.8093702061623693), ((1, 14), 2.459191651761282), ((1, 17), 2.7813967301760885), ((1, 18), 2.08147464032395), ((2, 0), 2.666214351286565), ((2, 3), 2.122457702920072), ((2, 4), 2.039824741418736), ((2, 6), 2.564225742263051), ((2, 7), 1.6502445418577507), ((2, 10), 1.2728347660232278), ((2, 11), 3.042583727494728), ((2, 13), 2.963751109616818), ((2, 14), 2.334016263134771), ((2, 17), 3.0419471097542514), ((2, 18), 1.8001564828179677), ((3, 1), 1.0982518045319603), ((3, 2), 2.44464196354516), ((3, 5), 3.1073006700521453), ((3, 8), 3.3188963776607805), ((3, 9), 1.7713610342552624), ((3, 12), 2.564003477242759), ((3, 15), 2.297541529017556), ((3, 16), 1.6167816715133059), ((3, 19), 3.1159993866625113), ((4, 1), 1.2898995208583042), ((4, 2), 2.3271568945106598), ((4, 4), 1.3148418260780723), ((4, 5), 2.2578552724860423), ((4, 8), 2.5152932287142447), ((4, 9), 0.9138193929266551), ((4, 11), 2.0087040899216544), ((4, 12), 1.4816138851397416), ((4, 15), 1.6913596350756372), ((4, 16), 1.4498631930262942), ((4, 18), 1.5926556645656906), ((4, 19), 2.450809745681498)]\n",
            "MapReduce успешно выполнен!\n"
          ]
        }
      ]
    },
    {
      "cell_type": "markdown",
      "metadata": {
        "id": "ZuSA2P9Db6UM"
      },
      "source": [
        "Обобщите предыдущее решение на случай, когда каждая матрица генерируется несколькими RECORDREADER-ами, и проверьте его работоспособность. Будет ли работать решение, если RECORDREADER-ы будут генерировать случайное подмножество элементов матрицы?"
      ]
    },
    {
      "cell_type": "code",
      "metadata": {
        "id": "ehN0FqRDcwU5",
        "colab": {
          "base_uri": "https://localhost:8080/"
        },
        "outputId": "1a2e2a14-4693-4ada-fe49-6091f6d9acbf"
      },
      "source": [
        "import numpy as np\n",
        "from collections import defaultdict\n",
        "\n",
        "dim1, dim2, dim3 = 5, 8, 20\n",
        "matrix_a = np.random.rand(dim1, dim2)\n",
        "matrix_b = np.random.rand(dim2, dim3)\n",
        "expected_result = np.matmul(matrix_a, matrix_b)\n",
        "\n",
        "def flatten(nested_iterable):\n",
        "  for iterable in nested_iterable:\n",
        "    for element in iterable:\n",
        "      yield element\n",
        "\n",
        "def groupbykey(iterable):\n",
        "  t = {}\n",
        "  for (k2, v2) in iterable:\n",
        "    t[k2] = t.get(k2, []) + [v2]\n",
        "  return t.items()\n",
        "\n",
        "def groupbykey_distributed(map_partitions, PARTITIONER):\n",
        "  global reducers\n",
        "  partitions = [dict() for _ in range(reducers)]\n",
        "  for map_partition in map_partitions:\n",
        "    for (k2, v2) in map_partition:\n",
        "      p = partitions[PARTITIONER(k2)]\n",
        "      p[k2] = p.get(k2, []) + [v2]\n",
        "  return [(partition_id, sorted(partition.items(), key=lambda x: x[0])) for (partition_id, partition) in enumerate(partitions)]\n",
        "\n",
        "def PARTITIONER(obj):\n",
        "  global reducers\n",
        "  return hash(obj) % reducers\n",
        "\n",
        "def MapReduceDistributed(INPUTFORMAT, MAP, REDUCE, PARTITIONER=PARTITIONER, COMBINER=None):\n",
        "  map_partitions = map(lambda record_reader: flatten(map(lambda k1v1: MAP(*k1v1), record_reader)), INPUTFORMAT())\n",
        "\n",
        "  if COMBINER != None:\n",
        "    map_partitions = map(lambda map_partition: flatten(map(lambda k2v2: COMBINER(*k2v2), groupbykey(map_partition))), map_partitions)\n",
        "\n",
        "  reduce_partitions = groupbykey_distributed(map_partitions, PARTITIONER)\n",
        "\n",
        "  reduce_outputs = map(lambda reduce_partition: (reduce_partition[0], flatten(map(lambda reduce_input_group: REDUCE(*reduce_input_group), reduce_partition[1]))), reduce_partitions)\n",
        "\n",
        "  print(\"{} key-value pairs were sent over a network.\".format(sum([len(vs) for (k,vs) in flatten([partition for (partition_id, partition) in reduce_partitions])])))\n",
        "  return reduce_outputs\n",
        "\n",
        "def asmatrix(reduce_output):\n",
        "  reduce_output = list(reduce_output)\n",
        "  I = max(i for ((i,k), vw) in reduce_output) + 1\n",
        "  K = max(k for ((i,k), vw) in reduce_output) + 1\n",
        "  mat = np.empty(shape=(I,K))\n",
        "  for ((i,k), vw) in reduce_output:\n",
        "    mat[i,k] = vw\n",
        "  return mat\n",
        "\n",
        "def INPUTFORMAT():\n",
        "  first_mat = []\n",
        "\n",
        "  for i in range(matrix_a.shape[0]):\n",
        "    for j in range(matrix_a.shape[1]):\n",
        "      first_mat.append(((0, i, j), matrix_a[i,j]))  # первая матрица\n",
        "\n",
        "  global maps\n",
        "  split_size = int(np.ceil(len(first_mat)/maps))\n",
        "\n",
        "  for i in range(0, len(first_mat), split_size):\n",
        "    yield first_mat[i:i+split_size]\n",
        "\n",
        "  second_mat = []\n",
        "\n",
        "  for j in range(matrix_b.shape[0]):\n",
        "    for k in range(matrix_b.shape[1]):\n",
        "      second_mat.append(((1, j, k), matrix_b[j,k]))  # вторая матрица\n",
        "\n",
        "  split_size = int(np.ceil(len(second_mat)/maps))\n",
        "\n",
        "  for i in range(0, len(second_mat), split_size):\n",
        "    yield second_mat[i:i+split_size]\n",
        "\n",
        "def MAP_JOIN(k1, v1):\n",
        "  (mat_num, i, j) = k1\n",
        "  w = v1\n",
        "  if mat_num == 0:\n",
        "    yield (j, (mat_num, i, w))\n",
        "  else:\n",
        "    yield (i, (mat_num, j, w))\n",
        "\n",
        "def REDUCE_JOIN(key, values):\n",
        "  from_first_mat = [v for v in values if v[0] == 0]\n",
        "  from_second_mat = [v for v in values if v[0] == 1]\n",
        "\n",
        "  for f in from_first_mat:\n",
        "    for s in from_second_mat:\n",
        "      yield ((f[1], s[1]), f[2] * s[2])\n",
        "\n",
        "def GET_JOINED():\n",
        "  for j in joined:\n",
        "    print(\"aa\", j)\n",
        "    yield j[1]\n",
        "\n",
        "def MAP_MUL(k1, v1):\n",
        "  yield (k1, v1)\n",
        "\n",
        "def REDUCE_MUL(key, values):\n",
        "  res_val = 0\n",
        "\n",
        "  for v in values:\n",
        "    res_val += v\n",
        "  yield (key, res_val)\n",
        "\n",
        "\n",
        "partitioned_output = MapReduceDistributed(INPUTFORMAT, MAP_JOIN, REDUCE_JOIN, COMBINER=None)\n",
        "joined = [(partition_id, list(partition)) for (partition_id, partition) in partitioned_output]\n",
        "print(joined)\n",
        "\n",
        "mul_output = MapReduceDistributed(GET_JOINED, MAP_MUL, REDUCE_MUL, COMBINER=None)\n",
        "pre_result = [(partition_id, list(partition)) for (partition_id, partition) in mul_output]\n",
        "print(pre_result)\n",
        "\n",
        "solution = [v for p in pre_result for v in p[1]]\n",
        "\n",
        "print(solution)\n",
        "\n",
        "assert np.allclose(expected_result, asmatrix(solution)), \"Результат неверный!\"\n",
        "print(\"MapReduce успешно выполнен!\")"
      ],
      "execution_count": 47,
      "outputs": [
        {
          "output_type": "stream",
          "name": "stdout",
          "text": [
            "200 key-value pairs were sent over a network.\n",
            "[(0, [((0, 0), 0.05556976481605981), ((0, 1), 0.07726493960263937), ((0, 2), 0.1968460389424675), ((0, 3), 0.24793844777423132), ((0, 4), 0.1543138533683553), ((0, 5), 0.06294077292393128), ((0, 6), 0.13180809016579137), ((0, 7), 0.13312377500382663), ((0, 8), 0.06705332711234589), ((0, 9), 0.0745896609599061), ((0, 10), 0.19163448980456269), ((0, 11), 0.022961845532487545), ((0, 12), 0.093365113156367), ((0, 13), 0.0840843577050057), ((0, 14), 0.1621329844242124), ((0, 15), 0.24649754844987745), ((0, 16), 0.18665428226345043), ((0, 17), 0.18214779337907866), ((0, 18), 0.2630201707703219), ((0, 19), 0.1856207226751334), ((1, 0), 0.06359576314259116), ((1, 1), 0.08842439435295191), ((1, 2), 0.22527671494705584), ((1, 3), 0.28374845297230367), ((1, 4), 0.17660156203501295), ((1, 5), 0.07203137353795563), ((1, 6), 0.15084526828946412), ((1, 7), 0.15235097884280102), ((1, 8), 0.07673790816057294), ((1, 9), 0.08536272246236784), ((1, 10), 0.21931245640327332), ((1, 11), 0.026278248515797555), ((1, 12), 0.10684993254384888), ((1, 13), 0.09622874803060238), ((1, 14), 0.18555001823696282), ((1, 15), 0.28209944307551454), ((1, 16), 0.21361295236121214), ((1, 17), 0.20845558664905062), ((1, 18), 0.3010084447433028), ((1, 19), 0.2124301146977825), ((2, 0), 0.08374141153043879), ((2, 1), 0.11643517163616274), ((2, 2), 0.29663910239285346), ((2, 3), 0.3736333176504578), ((2, 4), 0.23254480098200098), ((2, 5), 0.09484922574197342), ((2, 6), 0.19862951657525757), ((2, 7), 0.20061220096902754), ((2, 8), 0.1010466803087368), ((2, 9), 0.11240363379321373), ((2, 10), 0.2887855064218613), ((2, 11), 0.034602582224330304), ((2, 12), 0.14069748881056518), ((2, 13), 0.12671176178547616), ((2, 14), 0.24432791854109723), ((2, 15), 0.371461940037217), ((2, 16), 0.28128053297833955), ((2, 17), 0.2744894345910658), ((2, 18), 0.3963608705955569), ((2, 19), 0.2797230000445044), ((3, 0), 0.17929174493563077), ((3, 1), 0.2492896252046003), ((3, 2), 0.6351092167203557), ((3, 3), 0.7999551030172178), ((3, 4), 0.4978822589898309), ((3, 5), 0.2030737585894482), ((3, 6), 0.4252690750209536), ((3, 7), 0.4295140350487226), ((3, 8), 0.2163426111574565), ((3, 9), 0.24065803610876066), ((3, 10), 0.6182945380574959), ((3, 11), 0.07408469994590158), ((3, 12), 0.3012356469264716), ((3, 13), 0.27129197441493086), ((3, 14), 0.52311010826228), ((3, 15), 0.7953061476906098), ((3, 16), 0.6022262659828668), ((3, 17), 0.5876864121921137), ((3, 18), 0.8486151691800935), ((3, 19), 0.5988915622514815), ((4, 0), 0.12072923676957704), ((4, 1), 0.1678635354702502), ((4, 2), 0.4276619150954256), ((4, 3), 0.5386637799295804), ((4, 4), 0.3352577395603766), ((4, 5), 0.1367432722082965), ((4, 6), 0.28636238030600153), ((4, 7), 0.2892207984917017), ((4, 8), 0.1456780864905648), ((4, 9), 0.16205130376921204), ((4, 10), 0.4163394567066048), ((4, 11), 0.04988623031128935), ((4, 12), 0.20284229903769135), ((4, 13), 0.18267920268490412), ((4, 14), 0.352245353736892), ((4, 15), 0.5355333244333792), ((4, 16), 0.40551960426737316), ((4, 17), 0.3957289390500255), ((4, 18), 0.5714298877674523), ((4, 19), 0.4032741231020951), ((0, 0), 0.01375749196096439), ((0, 1), 0.005727110133400567), ((0, 2), 0.012588899143342493), ((0, 3), 0.0058314806067713346), ((0, 4), 0.014992781650239343), ((0, 5), 0.019094212158478792), ((0, 6), 0.025442979140335012), ((0, 7), 0.025291153209156456), ((0, 8), 0.028461279835237087), ((0, 9), 0.016933923737398136), ((0, 10), 0.003365914992934638), ((0, 11), 0.006161525893677956), ((0, 12), 0.011168547001246582), ((0, 13), 0.0038792606853265093), ((0, 14), 0.022203800357990022), ((0, 15), 0.006720777550357443), ((0, 16), 0.009826388834844525), ((0, 17), 0.009661021526113488), ((0, 18), 0.021223858906819555), ((0, 19), 0.002234341539563693), ((1, 0), 0.340067251535896), ((1, 1), 0.14156669019578946), ((1, 2), 0.3111811617761598), ((1, 3), 0.14414659212278352), ((1, 4), 0.3706020009418421), ((1, 5), 0.47198401186795935), ((1, 6), 0.6289172482665467), ((1, 7), 0.6251643093388507), ((1, 8), 0.7035257033931512), ((1, 9), 0.41858450068044045), ((1, 10), 0.08320102703301954), ((1, 11), 0.15230488099688752), ((1, 12), 0.2760719099920272), ((1, 13), 0.09589026277415807), ((1, 14), 0.548848975003443), ((1, 15), 0.16612885228057184), ((1, 16), 0.24289551126543765), ((1, 17), 0.23880784715241352), ((1, 18), 0.5246261008842944), ((1, 19), 0.05523000765748908), ((2, 0), 0.285911044837281), ((2, 1), 0.11902198793100022), ((2, 2), 0.2616251070788847), ((2, 3), 0.12119103670647964), ((2, 4), 0.31158309078427826), ((2, 5), 0.3968198683354126), ((2, 6), 0.5287612575334841), ((2, 7), 0.5256059796136553), ((2, 8), 0.591488207166537), ((2, 9), 0.3519243073295566), ((2, 10), 0.06995114190827785), ((2, 11), 0.1280501061568446), ((2, 12), 0.2321070549414917), ((2, 13), 0.08061959831667898), ((2, 14), 0.461443973779819), ((2, 15), 0.13967258981461472), ((2, 16), 0.20421404618802694), ((2, 17), 0.20077734855771948), ((2, 18), 0.44107862775755824), ((2, 19), 0.046434548238341374), ((3, 0), 0.337741531217484), ((3, 1), 0.14059851544120291), ((3, 2), 0.3090529934583308), ((3, 3), 0.14316077341599628), ((3, 4), 0.36806745343765934), ((3, 5), 0.46875611267622824), ((3, 6), 0.6246160824933442), ((3, 7), 0.6208888099192251), ((3, 8), 0.6987142903108368), ((3, 9), 0.4157218008062008), ((3, 10), 0.08263201511490777), ((3, 11), 0.15126326774325025), ((3, 12), 0.2741838538869144), ((3, 13), 0.0952344691584409), ((3, 14), 0.5450953962417715), ((3, 15), 0.16499269687166854), ((3, 16), 0.2412343485887914), ((3, 17), 0.23717464001526592), ((3, 18), 0.5210381823861585), ((3, 19), 0.054852289572566354), ((4, 0), 0.3953289532646304), ((4, 1), 0.16457159929241877), ((4, 2), 0.3617488082284675), ((4, 3), 0.16757074114955905), ((4, 4), 0.4308256688887641), ((4, 5), 0.5486824871453573), ((4, 6), 0.7311177313439174), ((4, 7), 0.7267549313058327), ((4, 8), 0.8178502300972658), ((4, 9), 0.48660543395290534), ((4, 10), 0.0967213831351059), ((4, 11), 0.17705477051864277), ((4, 12), 0.320934223186719), ((4, 13), 0.11147264854103965), ((4, 14), 0.6380381815906003), ((4, 15), 0.19312516857331216), ((4, 16), 0.28236658421990646), ((4, 17), 0.27761466539267227), ((4, 18), 0.6098790353413382), ((4, 19), 0.06420500950156317), ((0, 0), 0.395785057979648), ((0, 1), 0.5927280419788767), ((0, 2), 0.039240534705806414), ((0, 3), 0.11979871035839916), ((0, 4), 0.6157097022047407), ((0, 5), 0.29652626048271696), ((0, 6), 0.2083512858610908), ((0, 7), 0.43535117467675577), ((0, 8), 0.6103440327053423), ((0, 9), 0.0172627335195091), ((0, 10), 0.27895993239398564), ((0, 11), 0.19161028101922045), ((0, 12), 0.4364108499695352), ((0, 13), 0.3142900528730956), ((0, 14), 0.4777870159162144), ((0, 15), 0.48297899611839773), ((0, 16), 0.02585036161205146), ((0, 17), 0.2558318556944727), ((0, 18), 0.3581246963174091), ((0, 19), 0.2554661657442989), ((1, 0), 0.4547920197385412), ((1, 1), 0.6810969184721113), ((1, 2), 0.04509084331170408), ((1, 3), 0.13765930862597267), ((1, 4), 0.707504877692247), ((1, 5), 0.3407348867560994), ((1, 6), 0.23941404608751096), ((1, 7), 0.5002569855402915), ((1, 8), 0.7013392491024827), ((1, 9), 0.01983640687099782), ((1, 10), 0.32054962288675243), ((1, 11), 0.22017715158888534), ((1, 12), 0.5014746461289208), ((1, 13), 0.36114705456424306), ((1, 14), 0.5490195185300788), ((1, 15), 0.5549855627628929), ((1, 16), 0.029704350711292085), ((1, 17), 0.2939734181949112), ((1, 18), 0.41151693494407104), ((1, 19), 0.29355320811450397), ((2, 0), 0.11640841946579852), ((2, 1), 0.1743333487424544), ((2, 2), 0.011541437788009241), ((2, 3), 0.03523523247201348), ((2, 4), 0.1810927215122329), ((2, 5), 0.08721439229944788), ((2, 6), 0.06128034242769097), ((2, 7), 0.12804561752633392), ((2, 8), 0.17951456919645517), ((2, 9), 0.00507732033878007), ((2, 10), 0.08204777863529075), ((2, 11), 0.0563564730834076), ((2, 12), 0.12835728953994935), ((2, 13), 0.09243908422298404), ((2, 14), 0.14052685982639304), ((2, 15), 0.14205392659419647), ((2, 16), 0.007603116078305818), ((2, 17), 0.07524534180855105), ((2, 18), 0.10533174264532842), ((2, 19), 0.07513778497118191), ((3, 0), 0.41448157669283997), ((3, 1), 0.6207279644248159), ((3, 2), 0.04109422113648641), ((3, 3), 0.12545789022098824), ((3, 4), 0.6447952569448006), ((3, 5), 0.31053388574873453), ((3, 6), 0.21819360718293263), ((3, 7), 0.4559167600116439), ((3, 8), 0.6391761181994524), ((3, 9), 0.0180782090251684), ((3, 10), 0.2921377406287349), ((3, 11), 0.20066177281378955), ((3, 12), 0.4570264933815081), ((3, 13), 0.329136823200676), ((3, 14), 0.5003572309960799), ((3, 15), 0.5057944755230563), ((3, 16), 0.027071508696505955), ((3, 17), 0.2679171150568115), ((3, 18), 0.37504217450755073), ((3, 19), 0.2675341502528786), ((4, 0), 0.532201634147174), ((4, 1), 0.7970256233428449), ((4, 2), 0.0527657026817646), ((4, 3), 0.16109013752798754), ((4, 4), 0.8279284502207834), ((4, 5), 0.3987309708002355), ((4, 6), 0.2801644290918113), ((4, 7), 0.5854051382676893), ((4, 8), 0.8207133772454406), ((4, 9), 0.023212738337894417), ((4, 10), 0.37510999692489294), ((4, 11), 0.25765324542158974), ((4, 12), 0.5868300554319739), ((4, 13), 0.4226174696667409), ((4, 14), 0.6424674846062194), ((4, 15), 0.6494490022061178), ((4, 16), 0.03476029328509063), ((4, 17), 0.3440102877115277), ((4, 18), 0.4815607481027904), ((4, 19), 0.3435185541679039), ((0, 0), 0.47653921083408135), ((0, 1), 0.21874479881409079), ((0, 2), 0.6256974499925045), ((0, 3), 0.3020103432146292), ((0, 4), 0.689482022883483), ((0, 5), 0.24009446109157498), ((0, 6), 0.404597250362776), ((0, 7), 0.2645193492512944), ((0, 8), 0.3075846953402469), ((0, 9), 0.12223449790340302), ((0, 10), 0.5690904751325199), ((0, 11), 0.3693153096817008), ((0, 12), 0.028365930222358955), ((0, 13), 0.2942506391017205), ((0, 14), 0.718975498725895), ((0, 15), 0.05002388336925877), ((0, 16), 0.2251973389336482), ((0, 17), 0.14303970418506848), ((0, 18), 0.4427823461367404), ((0, 19), 0.15333767017853975), ((1, 0), 0.3120235302531938), ((1, 1), 0.14322750950763077), ((1, 2), 0.4096878552246927), ((1, 3), 0.19774728148365792), ((1, 4), 0.4514520734813615), ((1, 5), 0.15720662568964303), ((1, 6), 0.26491810016633344), ((1, 7), 0.1731993072074889), ((1, 8), 0.20139719945381887), ((1, 9), 0.08003546966846722), ((1, 10), 0.37262331209538474), ((1, 11), 0.24181654748145726), ((1, 12), 0.018573157225414208), ((1, 13), 0.19266646081668243), ((1, 14), 0.47076351363689317), ((1, 15), 0.03275413298840727), ((1, 16), 0.14745243854060738), ((1, 17), 0.09365809245388043), ((1, 18), 0.289920551413933), ((1, 19), 0.10040089059232993), ((2, 0), 0.14486418135384824), ((2, 1), 0.06649670265360082), ((2, 2), 0.1902071158209759), ((2, 3), 0.09180877488256635), ((2, 4), 0.20959712555109575), ((2, 5), 0.07298683248488078), ((2, 6), 0.12299438979897204), ((2, 7), 0.08041180685734431), ((2, 8), 0.09350333419457404), ((2, 9), 0.03715832835871384), ((2, 10), 0.17299903957965965), ((2, 11), 0.11226895664019144), ((2, 12), 0.008623020239635919), ((2, 13), 0.08944988571183661), ((2, 14), 0.21856291081294713), ((2, 15), 0.015206868076489004), ((2, 16), 0.06845822422584769), ((2, 17), 0.04348294783885307), ((2, 18), 0.13460235932897494), ((2, 19), 0.04661344870706681), ((3, 0), 0.4280691242384477), ((3, 1), 0.196495676181966), ((3, 2), 0.5620560771646069), ((3, 3), 0.27129205780267207), ((3, 4), 0.6193529493560356), ((3, 5), 0.21567380680822268), ((3, 6), 0.363444574327756), ((3, 7), 0.2376143738097353), ((3, 8), 0.2762994275602065), ((3, 9), 0.10980169790782285), ((3, 10), 0.5112067501770355), ((3, 11), 0.33175125485810336), ((3, 12), 0.02548075506156375), ((3, 13), 0.26432161409427635), ((3, 14), 0.6458465643358212), ((3, 15), 0.04493581946258886), ((3, 16), 0.20229191106735533), ((3, 17), 0.1284907506239773), ((3, 18), 0.3977457611667408), ((3, 19), 0.1377412827607701), ((4, 0), 0.41170405261105913), ((4, 1), 0.18898365152727775), ((4, 2), 0.5405686877674585), ((4, 3), 0.2609205693992961), ((4, 4), 0.5956751020063166), ((4, 5), 0.2074286027121616), ((4, 6), 0.3495500975839805), ((4, 7), 0.22853038240061105), ((4, 8), 0.2657365075395826), ((4, 9), 0.10560398181636874), ((4, 10), 0.49166332924487866), ((4, 11), 0.3190684129038102), ((4, 12), 0.024506626449872157), ((4, 13), 0.25421660557488057), ((4, 14), 0.6211558667657459), ((4, 15), 0.043217924238426325), ((4, 16), 0.19455829650183828), ((4, 17), 0.12357855252709468), ((4, 18), 0.38253995093091986), ((4, 19), 0.13247543705783932)]), (1, [((0, 0), 0.42631779678455417), ((0, 1), 0.004812177470428793), ((0, 2), 0.05714837996520642), ((0, 3), 0.36344997090237136), ((0, 4), 0.5767232857229339), ((0, 5), 0.057908007151235646), ((0, 6), 0.36854772431794874), ((0, 7), 0.19330610272534862), ((0, 8), 0.0891585732504701), ((0, 9), 0.49327995332720714), ((0, 10), 0.25550540098140473), ((0, 11), 0.39518057524839867), ((0, 12), 0.06035782445652721), ((0, 13), 0.22724463430465497), ((0, 14), 0.45507014686687847), ((0, 15), 0.21544599460872532), ((0, 16), 0.5406836914976099), ((0, 17), 0.3383524254967487), ((0, 18), 0.33535432583561303), ((0, 19), 0.6762294431299541), ((1, 0), 0.4922520649822375), ((1, 1), 0.005556428361062963), ((1, 2), 0.06598694274656097), ((1, 3), 0.4196611073800437), ((1, 4), 0.6659192519329065), ((1, 5), 0.06686405379789365), ((1, 6), 0.42554727883362803), ((1, 7), 0.2232028054139844), ((1, 8), 0.1029478293527438), ((1, 9), 0.5695705820190543), ((1, 10), 0.2950218409736535), ((1, 11), 0.45629916384935837), ((1, 12), 0.06969275960481643), ((1, 13), 0.2623902669236459), ((1, 14), 0.5254512506786042), ((1, 15), 0.24876685078172522), ((1, 16), 0.6243057776366338), ((1, 17), 0.39068197808944394), ((1, 18), 0.38722019263186336), ((1, 19), 0.7808150217822875), ((2, 0), 0.32856557347998616), ((2, 1), 0.003708772803256781), ((2, 2), 0.044044584529060654), ((2, 3), 0.28011297914727007), ((2, 4), 0.44448394728540946), ((2, 5), 0.0446300335623667), ((2, 6), 0.2840418469709495), ((2, 7), 0.14898212314423473), ((2, 8), 0.0687150242651081), ((2, 9), 0.3801736919583525), ((2, 10), 0.1969194793974659), ((2, 11), 0.30456793808272287), ((2, 12), 0.04651812182400007), ((2, 13), 0.17513874427412562), ((2, 14), 0.35072517475619186), ((2, 15), 0.1660454649242702), ((2, 16), 0.41670802511199434), ((2, 17), 0.2607701568176976), ((2, 18), 0.2584595041967163), ((2, 19), 0.5211739140656373), ((3, 0), 0.18421349162942793), ((3, 1), 0.0020793596252706888), ((3, 2), 0.024694025662916775), ((3, 3), 0.15704807230080325), ((3, 4), 0.24920425787598038), ((3, 5), 0.02502226337039817), ((3, 6), 0.1592508303447606), ((3, 7), 0.08352827961885241), ((3, 8), 0.03852574818842813), ((3, 9), 0.21314808633036714), ((3, 10), 0.11040482569567202), ((3, 11), 0.17075898341495396), ((3, 12), 0.026080838459371106), ((3, 13), 0.09819324423012134), ((3, 14), 0.19663748809677065), ((3, 15), 0.09309500852131944), ((3, 16), 0.23363141634970977), ((3, 17), 0.14620333040785732), ((3, 18), 0.14490784049165778), ((3, 19), 0.29220123532526615), ((4, 0), 0.5708671767837112), ((4, 1), 0.0064438177046457195), ((4, 2), 0.07652538686999096), ((4, 3), 0.48668308092240536), ((4, 4), 0.7722698803316888), ((4, 5), 0.07754257693422796), ((4, 6), 0.4935093033373257), ((4, 7), 0.2588494075316538), ((4, 8), 0.11938911155351431), ((4, 9), 0.6605338469184594), ((4, 10), 0.3421383015472771), ((4, 11), 0.5291724178848304), ((4, 12), 0.0808230411777004), ((4, 13), 0.30429530224445317), ((4, 14), 0.609368438145991), ((4, 15), 0.28849615854483546), ((4, 16), 0.7240105264810717), ((4, 17), 0.4530758400378561), ((4, 18), 0.4490611901635661), ((4, 19), 0.905515078116027), ((0, 0), 0.22511577180231138), ((0, 1), 0.17317596568846838), ((0, 2), 0.04987317324672324), ((0, 3), 0.07143609783091522), ((0, 4), 0.06827591351585001), ((0, 5), 0.12430911232220462), ((0, 6), 0.04309161721860781), ((0, 7), 0.1718106477876378), ((0, 8), 0.0022678435114959596), ((0, 9), 0.057417768180856435), ((0, 10), 0.10123136117561905), ((0, 11), 0.08752057722443544), ((0, 12), 0.21167304754209848), ((0, 13), 0.008025906663055131), ((0, 14), 0.22794285965202207), ((0, 15), 0.0137351616662179), ((0, 16), 0.211484561457434), ((0, 17), 0.19765403396322645), ((0, 18), 0.13801777511108412), ((0, 19), 0.14309567909865742), ((1, 0), 0.7340276136846446), ((1, 1), 0.5646691914303944), ((1, 2), 0.16261982024662944), ((1, 3), 0.23292934120945114), ((1, 4), 0.2226250318622233), ((1, 5), 0.40533064541232405), ((1, 6), 0.1405074229297606), ((1, 7), 0.5602173441313626), ((1, 8), 0.007394682956356469), ((1, 9), 0.1872202334979154), ((1, 10), 0.33008177916135284), ((1, 11), 0.2853754756231407), ((1, 12), 0.6901953635888589), ((1, 13), 0.026169810619539897), ((1, 14), 0.7432458063123133), ((1, 15), 0.04478579115407505), ((1, 16), 0.6895807731946304), ((1, 17), 0.6444840258130736), ((1, 18), 0.4500300325461818), ((1, 19), 0.4665873875314707), ((2, 0), 0.42508515613021114), ((2, 1), 0.3270074407639831), ((2, 2), 0.09417530129745776), ((2, 3), 0.13489248024103057), ((2, 4), 0.12892511761594794), ((2, 5), 0.23473236902430908), ((2, 6), 0.08136971784172041), ((2, 7), 0.3244293167685146), ((2, 8), 0.004282359274274749), ((2, 9), 0.10842172787982786), ((2, 10), 0.1911547495144007), ((2, 11), 0.16526473439065079), ((2, 12), 0.399701316982832), ((2, 13), 0.01515528547660943), ((2, 14), 0.43042353411397777), ((2, 15), 0.025936047459549784), ((2, 16), 0.3993453995094071), ((2, 17), 0.37322927316175497), ((2, 18), 0.26061837876628585), ((2, 19), 0.27020696330698774), ((3, 0), 0.6250458929112924), ((3, 1), 0.4808322634967537), ((3, 2), 0.13847551353128978), ((3, 3), 0.19834611852088985), ((3, 4), 0.18957169898040205), ((3, 5), 0.34515085054402556), ((3, 6), 0.11964616315310429), ((3, 7), 0.47704138585366335), ((3, 8), 0.006296787920621023), ((3, 9), 0.15942348194551742), ((3, 10), 0.28107424917435614), ((3, 11), 0.24300552956102253), ((3, 12), 0.5877214552625449), ((3, 13), 0.022284355984783465), ((3, 14), 0.6328954524299958), ((3, 15), 0.038136405633458936), ((3, 16), 0.5871981136408218), ((3, 17), 0.5487969197225093), ((3, 18), 0.38321368063759886), ((3, 19), 0.3973127506699633), ((4, 0), 0.8122467076291678), ((4, 1), 0.6248411954649014), ((4, 2), 0.17994883452343752), ((4, 3), 0.25775064449944624), ((4, 4), 0.2463482923458745), ((4, 5), 0.44852329272017016), ((4, 6), 0.15548010666692513), ((4, 7), 0.6199149525769057), ((4, 8), 0.008182671568868951), ((4, 9), 0.20717070505957588), ((4, 10), 0.36525579334318103), ((4, 11), 0.31578551840774277), ((4, 12), 0.7637436265944318), ((4, 13), 0.028958505264261532), ((4, 14), 0.822447204820997), ((4, 15), 0.049558232872003935), ((4, 16), 0.7630635445172103), ((4, 17), 0.7131612194512886), ((4, 18), 0.4979859142287335), ((4, 19), 0.5163076460316275), ((0, 0), 0.19422879022235057), ((0, 1), 0.2130156328616601), ((0, 2), 0.5189345658744435), ((0, 3), 0.1430869412726243), ((0, 4), 0.3565959890017026), ((0, 5), 0.22056555525289015), ((0, 6), 0.6728065692441116), ((0, 7), 0.07100295989476282), ((0, 8), 0.7396113192390806), ((0, 9), 0.6603416849592665), ((0, 10), 0.558284035077167), ((0, 11), 0.4748890436909707), ((0, 12), 0.22339387946190348), ((0, 13), 0.3337816828563166), ((0, 14), 0.19730335781218938), ((0, 15), 0.5051634326150535), ((0, 16), 0.2101163660616668), ((0, 17), 0.49544073050757603), ((0, 18), 0.6121637739042771), ((0, 19), 0.2617620716047664), ((1, 0), 0.04754111300254831), ((1, 1), 0.05213954255490275), ((1, 2), 0.12701889770781433), ((1, 3), 0.035023193196247575), ((1, 4), 0.08728350822747688), ((1, 5), 0.05398752664187069), ((1, 6), 0.1646819356732544), ((1, 7), 0.017379296529664984), ((1, 8), 0.1810336421580757), ((1, 9), 0.1616309231448279), ((1, 10), 0.1366504129935523), ((1, 11), 0.1162379360131882), ((1, 12), 0.05467981165623244), ((1, 13), 0.08169928198948781), ((1, 14), 0.04829367066948929), ((1, 15), 0.12364815642013843), ((1, 16), 0.05142989302042732), ((1, 17), 0.12126834403983916), ((1, 18), 0.14983848232763539), ((1, 19), 0.06407114110991007), ((2, 0), 0.12217871857671528), ((2, 1), 0.13399649470117936), ((2, 2), 0.3264333789605594), ((2, 3), 0.09000817597503225), ((2, 4), 0.22431505100736043), ((2, 5), 0.13874573832288004), ((2, 6), 0.4232258481666755), ((2, 7), 0.044664082215437495), ((2, 8), 0.46524906593927895), ((2, 9), 0.415384870588707), ((2, 10), 0.3511859798409897), ((2, 11), 0.29872674775898306), ((2, 12), 0.14052488253307233), ((2, 13), 0.2099638176661594), ((2, 14), 0.12411276104217044), ((2, 15), 0.3177707115307962), ((2, 16), 0.13217272438355715), ((2, 17), 0.3116546909180188), ((2, 18), 0.38507877935649065), ((2, 19), 0.16466021563561434), ((3, 0), 0.022723289632616002), ((3, 1), 0.024921207181743), ((3, 2), 0.060711393131994584), ((3, 3), 0.016740082690422937), ((3, 4), 0.04171901565488099), ((3, 5), 0.025804490617753157), ((3, 6), 0.07871324597223063), ((3, 7), 0.00830680570380267), ((3, 8), 0.08652889308217952), ((3, 9), 0.07725494941631157), ((3, 10), 0.06531498142886641), ((3, 11), 0.055558402391285656), ((3, 12), 0.02613538301585117), ((3, 13), 0.03904991553993253), ((3, 14), 0.023082990631417374), ((3, 15), 0.05910027539160069), ((3, 16), 0.02458201504064458), ((3, 17), 0.057962793271947186), ((3, 18), 0.07161850064090775), ((3, 19), 0.030624169367988004), ((4, 0), 0.06574710625997929), ((4, 1), 0.07210651640655012), ((4, 2), 0.17566111597289424), ((4, 3), 0.04843541640503967), ((4, 4), 0.12070895542281679), ((4, 5), 0.07466219082094845), ((4, 6), 0.22774731258875155), ((4, 7), 0.024034743477678467), ((4, 8), 0.2503609477329669), ((4, 9), 0.22352790685257892), ((4, 10), 0.18898104516559291), ((4, 11), 0.16075155687015813), ((4, 12), 0.07561958818770748), ((4, 13), 0.11298623517793838), ((4, 14), 0.066787857848872), ((4, 15), 0.17099954051495644), ((4, 16), 0.07112510473139645), ((4, 17), 0.1677083727747741), ((4, 18), 0.20721952005837588), ((4, 19), 0.08860735175732182), ((0, 0), 0.205042276754068), ((0, 1), 0.2595754310742726), ((0, 2), 0.14782454279928914), ((0, 3), 0.18569423325936124), ((0, 4), 0.14015671963583623), ((0, 5), 0.3257480446352956), ((0, 6), 0.052903072298704994), ((0, 7), 0.11186120304392404), ((0, 8), 0.21546012598695857), ((0, 9), 0.021967987778845555), ((0, 10), 0.32263885871295106), ((0, 11), 0.006355762529961047), ((0, 12), 0.09364029335886864), ((0, 13), 0.2143868256323619), ((0, 14), 0.060937744919602826), ((0, 15), 0.02851769358857759), ((0, 16), 0.11056831607012964), ((0, 17), 0.08692771606507206), ((0, 18), 0.30517995417142474), ((0, 19), 0.014724406484489595), ((1, 0), 0.24486141513544243), ((1, 1), 0.30998488893816806), ((1, 2), 0.17653201727270412), ((1, 3), 0.2217559883658287), ((1, 4), 0.1673751055346269), ((1, 5), 0.38900820089249843), ((1, 6), 0.06317683042317528), ((1, 7), 0.13358460952392287), ((1, 8), 0.2573024070431401), ((1, 9), 0.026234163316758558), ((1, 10), 0.38529521215224155), ((1, 11), 0.007590049388779065), ((1, 12), 0.11182520555530089), ((1, 13), 0.2560206721353331), ((1, 14), 0.07277183365493686), ((1, 15), 0.03405581970236049), ((1, 16), 0.13204064435232468), ((1, 17), 0.10380904810043366), ((1, 18), 0.3644457944593222), ((1, 19), 0.017583881070273356), ((2, 0), 0.4247927103753611), ((2, 1), 0.5377708083350442), ((2, 2), 0.30625288203869283), ((2, 3), 0.38470874346528433), ((2, 4), 0.2903672050171246), ((2, 5), 0.6748627501150491), ((2, 6), 0.10960100436216368), ((2, 7), 0.23174646896781662), ((2, 8), 0.44637570526782133), ((2, 9), 0.04551179014297338), ((2, 10), 0.6684213491711949), ((2, 11), 0.013167438609953643), ((2, 12), 0.19399762159277992), ((2, 13), 0.44415211424116285), ((2, 14), 0.12624669525889326), ((2, 15), 0.059081027312605616), ((2, 16), 0.2290679532465644), ((2, 17), 0.1800909583066711), ((2, 18), 0.6322511724750247), ((2, 19), 0.030505028710332942), ((3, 0), 0.0938298479657088), ((3, 1), 0.11878488484862722), ((3, 2), 0.06764631468218676), ((3, 3), 0.08497594715909751), ((3, 4), 0.06413742523243844), ((3, 5), 0.14906628031601932), ((3, 6), 0.024209091458051748), ((3, 7), 0.051189051550874554), ((3, 8), 0.09859718290329457), ((3, 9), 0.010052819282112914), ((3, 10), 0.14764347889667775), ((3, 11), 0.0029084744928368146), ((3, 12), 0.042850940929930435), ((3, 13), 0.09810602756358801), ((3, 14), 0.02788585569617675), ((3, 15), 0.013050044586455345), ((3, 16), 0.050597410694616034), ((3, 17), 0.03977918364696558), ((3, 18), 0.1396540711281321), ((3, 19), 0.006738068088670621), ((4, 0), 0.018301466481376167), ((4, 1), 0.023168934360266357), ((4, 2), 0.01319438097349488), ((4, 3), 0.01657451740968157), ((4, 4), 0.012509973782779913), ((4, 5), 0.02907530590589978), ((4, 6), 0.0047219715844155075), ((4, 7), 0.009984399756398886), ((4, 8), 0.019231332856067575), ((4, 9), 0.0019607975406947227), ((4, 10), 0.028797789176945362), ((4, 11), 0.0005672965436546779), ((4, 12), 0.008358055311047288), ((4, 13), 0.019135533244518874), ((4, 14), 0.0054391226714401745), ((4, 15), 0.00254540488722482), ((4, 16), 0.009869000493428906), ((4, 17), 0.007758910538121195), ((4, 18), 0.02723945905436516), ((4, 19), 0.0013142569230113555)])]\n",
            "aa (0, [((0, 0), 0.05556976481605981), ((0, 1), 0.07726493960263937), ((0, 2), 0.1968460389424675), ((0, 3), 0.24793844777423132), ((0, 4), 0.1543138533683553), ((0, 5), 0.06294077292393128), ((0, 6), 0.13180809016579137), ((0, 7), 0.13312377500382663), ((0, 8), 0.06705332711234589), ((0, 9), 0.0745896609599061), ((0, 10), 0.19163448980456269), ((0, 11), 0.022961845532487545), ((0, 12), 0.093365113156367), ((0, 13), 0.0840843577050057), ((0, 14), 0.1621329844242124), ((0, 15), 0.24649754844987745), ((0, 16), 0.18665428226345043), ((0, 17), 0.18214779337907866), ((0, 18), 0.2630201707703219), ((0, 19), 0.1856207226751334), ((1, 0), 0.06359576314259116), ((1, 1), 0.08842439435295191), ((1, 2), 0.22527671494705584), ((1, 3), 0.28374845297230367), ((1, 4), 0.17660156203501295), ((1, 5), 0.07203137353795563), ((1, 6), 0.15084526828946412), ((1, 7), 0.15235097884280102), ((1, 8), 0.07673790816057294), ((1, 9), 0.08536272246236784), ((1, 10), 0.21931245640327332), ((1, 11), 0.026278248515797555), ((1, 12), 0.10684993254384888), ((1, 13), 0.09622874803060238), ((1, 14), 0.18555001823696282), ((1, 15), 0.28209944307551454), ((1, 16), 0.21361295236121214), ((1, 17), 0.20845558664905062), ((1, 18), 0.3010084447433028), ((1, 19), 0.2124301146977825), ((2, 0), 0.08374141153043879), ((2, 1), 0.11643517163616274), ((2, 2), 0.29663910239285346), ((2, 3), 0.3736333176504578), ((2, 4), 0.23254480098200098), ((2, 5), 0.09484922574197342), ((2, 6), 0.19862951657525757), ((2, 7), 0.20061220096902754), ((2, 8), 0.1010466803087368), ((2, 9), 0.11240363379321373), ((2, 10), 0.2887855064218613), ((2, 11), 0.034602582224330304), ((2, 12), 0.14069748881056518), ((2, 13), 0.12671176178547616), ((2, 14), 0.24432791854109723), ((2, 15), 0.371461940037217), ((2, 16), 0.28128053297833955), ((2, 17), 0.2744894345910658), ((2, 18), 0.3963608705955569), ((2, 19), 0.2797230000445044), ((3, 0), 0.17929174493563077), ((3, 1), 0.2492896252046003), ((3, 2), 0.6351092167203557), ((3, 3), 0.7999551030172178), ((3, 4), 0.4978822589898309), ((3, 5), 0.2030737585894482), ((3, 6), 0.4252690750209536), ((3, 7), 0.4295140350487226), ((3, 8), 0.2163426111574565), ((3, 9), 0.24065803610876066), ((3, 10), 0.6182945380574959), ((3, 11), 0.07408469994590158), ((3, 12), 0.3012356469264716), ((3, 13), 0.27129197441493086), ((3, 14), 0.52311010826228), ((3, 15), 0.7953061476906098), ((3, 16), 0.6022262659828668), ((3, 17), 0.5876864121921137), ((3, 18), 0.8486151691800935), ((3, 19), 0.5988915622514815), ((4, 0), 0.12072923676957704), ((4, 1), 0.1678635354702502), ((4, 2), 0.4276619150954256), ((4, 3), 0.5386637799295804), ((4, 4), 0.3352577395603766), ((4, 5), 0.1367432722082965), ((4, 6), 0.28636238030600153), ((4, 7), 0.2892207984917017), ((4, 8), 0.1456780864905648), ((4, 9), 0.16205130376921204), ((4, 10), 0.4163394567066048), ((4, 11), 0.04988623031128935), ((4, 12), 0.20284229903769135), ((4, 13), 0.18267920268490412), ((4, 14), 0.352245353736892), ((4, 15), 0.5355333244333792), ((4, 16), 0.40551960426737316), ((4, 17), 0.3957289390500255), ((4, 18), 0.5714298877674523), ((4, 19), 0.4032741231020951), ((0, 0), 0.01375749196096439), ((0, 1), 0.005727110133400567), ((0, 2), 0.012588899143342493), ((0, 3), 0.0058314806067713346), ((0, 4), 0.014992781650239343), ((0, 5), 0.019094212158478792), ((0, 6), 0.025442979140335012), ((0, 7), 0.025291153209156456), ((0, 8), 0.028461279835237087), ((0, 9), 0.016933923737398136), ((0, 10), 0.003365914992934638), ((0, 11), 0.006161525893677956), ((0, 12), 0.011168547001246582), ((0, 13), 0.0038792606853265093), ((0, 14), 0.022203800357990022), ((0, 15), 0.006720777550357443), ((0, 16), 0.009826388834844525), ((0, 17), 0.009661021526113488), ((0, 18), 0.021223858906819555), ((0, 19), 0.002234341539563693), ((1, 0), 0.340067251535896), ((1, 1), 0.14156669019578946), ((1, 2), 0.3111811617761598), ((1, 3), 0.14414659212278352), ((1, 4), 0.3706020009418421), ((1, 5), 0.47198401186795935), ((1, 6), 0.6289172482665467), ((1, 7), 0.6251643093388507), ((1, 8), 0.7035257033931512), ((1, 9), 0.41858450068044045), ((1, 10), 0.08320102703301954), ((1, 11), 0.15230488099688752), ((1, 12), 0.2760719099920272), ((1, 13), 0.09589026277415807), ((1, 14), 0.548848975003443), ((1, 15), 0.16612885228057184), ((1, 16), 0.24289551126543765), ((1, 17), 0.23880784715241352), ((1, 18), 0.5246261008842944), ((1, 19), 0.05523000765748908), ((2, 0), 0.285911044837281), ((2, 1), 0.11902198793100022), ((2, 2), 0.2616251070788847), ((2, 3), 0.12119103670647964), ((2, 4), 0.31158309078427826), ((2, 5), 0.3968198683354126), ((2, 6), 0.5287612575334841), ((2, 7), 0.5256059796136553), ((2, 8), 0.591488207166537), ((2, 9), 0.3519243073295566), ((2, 10), 0.06995114190827785), ((2, 11), 0.1280501061568446), ((2, 12), 0.2321070549414917), ((2, 13), 0.08061959831667898), ((2, 14), 0.461443973779819), ((2, 15), 0.13967258981461472), ((2, 16), 0.20421404618802694), ((2, 17), 0.20077734855771948), ((2, 18), 0.44107862775755824), ((2, 19), 0.046434548238341374), ((3, 0), 0.337741531217484), ((3, 1), 0.14059851544120291), ((3, 2), 0.3090529934583308), ((3, 3), 0.14316077341599628), ((3, 4), 0.36806745343765934), ((3, 5), 0.46875611267622824), ((3, 6), 0.6246160824933442), ((3, 7), 0.6208888099192251), ((3, 8), 0.6987142903108368), ((3, 9), 0.4157218008062008), ((3, 10), 0.08263201511490777), ((3, 11), 0.15126326774325025), ((3, 12), 0.2741838538869144), ((3, 13), 0.0952344691584409), ((3, 14), 0.5450953962417715), ((3, 15), 0.16499269687166854), ((3, 16), 0.2412343485887914), ((3, 17), 0.23717464001526592), ((3, 18), 0.5210381823861585), ((3, 19), 0.054852289572566354), ((4, 0), 0.3953289532646304), ((4, 1), 0.16457159929241877), ((4, 2), 0.3617488082284675), ((4, 3), 0.16757074114955905), ((4, 4), 0.4308256688887641), ((4, 5), 0.5486824871453573), ((4, 6), 0.7311177313439174), ((4, 7), 0.7267549313058327), ((4, 8), 0.8178502300972658), ((4, 9), 0.48660543395290534), ((4, 10), 0.0967213831351059), ((4, 11), 0.17705477051864277), ((4, 12), 0.320934223186719), ((4, 13), 0.11147264854103965), ((4, 14), 0.6380381815906003), ((4, 15), 0.19312516857331216), ((4, 16), 0.28236658421990646), ((4, 17), 0.27761466539267227), ((4, 18), 0.6098790353413382), ((4, 19), 0.06420500950156317), ((0, 0), 0.395785057979648), ((0, 1), 0.5927280419788767), ((0, 2), 0.039240534705806414), ((0, 3), 0.11979871035839916), ((0, 4), 0.6157097022047407), ((0, 5), 0.29652626048271696), ((0, 6), 0.2083512858610908), ((0, 7), 0.43535117467675577), ((0, 8), 0.6103440327053423), ((0, 9), 0.0172627335195091), ((0, 10), 0.27895993239398564), ((0, 11), 0.19161028101922045), ((0, 12), 0.4364108499695352), ((0, 13), 0.3142900528730956), ((0, 14), 0.4777870159162144), ((0, 15), 0.48297899611839773), ((0, 16), 0.02585036161205146), ((0, 17), 0.2558318556944727), ((0, 18), 0.3581246963174091), ((0, 19), 0.2554661657442989), ((1, 0), 0.4547920197385412), ((1, 1), 0.6810969184721113), ((1, 2), 0.04509084331170408), ((1, 3), 0.13765930862597267), ((1, 4), 0.707504877692247), ((1, 5), 0.3407348867560994), ((1, 6), 0.23941404608751096), ((1, 7), 0.5002569855402915), ((1, 8), 0.7013392491024827), ((1, 9), 0.01983640687099782), ((1, 10), 0.32054962288675243), ((1, 11), 0.22017715158888534), ((1, 12), 0.5014746461289208), ((1, 13), 0.36114705456424306), ((1, 14), 0.5490195185300788), ((1, 15), 0.5549855627628929), ((1, 16), 0.029704350711292085), ((1, 17), 0.2939734181949112), ((1, 18), 0.41151693494407104), ((1, 19), 0.29355320811450397), ((2, 0), 0.11640841946579852), ((2, 1), 0.1743333487424544), ((2, 2), 0.011541437788009241), ((2, 3), 0.03523523247201348), ((2, 4), 0.1810927215122329), ((2, 5), 0.08721439229944788), ((2, 6), 0.06128034242769097), ((2, 7), 0.12804561752633392), ((2, 8), 0.17951456919645517), ((2, 9), 0.00507732033878007), ((2, 10), 0.08204777863529075), ((2, 11), 0.0563564730834076), ((2, 12), 0.12835728953994935), ((2, 13), 0.09243908422298404), ((2, 14), 0.14052685982639304), ((2, 15), 0.14205392659419647), ((2, 16), 0.007603116078305818), ((2, 17), 0.07524534180855105), ((2, 18), 0.10533174264532842), ((2, 19), 0.07513778497118191), ((3, 0), 0.41448157669283997), ((3, 1), 0.6207279644248159), ((3, 2), 0.04109422113648641), ((3, 3), 0.12545789022098824), ((3, 4), 0.6447952569448006), ((3, 5), 0.31053388574873453), ((3, 6), 0.21819360718293263), ((3, 7), 0.4559167600116439), ((3, 8), 0.6391761181994524), ((3, 9), 0.0180782090251684), ((3, 10), 0.2921377406287349), ((3, 11), 0.20066177281378955), ((3, 12), 0.4570264933815081), ((3, 13), 0.329136823200676), ((3, 14), 0.5003572309960799), ((3, 15), 0.5057944755230563), ((3, 16), 0.027071508696505955), ((3, 17), 0.2679171150568115), ((3, 18), 0.37504217450755073), ((3, 19), 0.2675341502528786), ((4, 0), 0.532201634147174), ((4, 1), 0.7970256233428449), ((4, 2), 0.0527657026817646), ((4, 3), 0.16109013752798754), ((4, 4), 0.8279284502207834), ((4, 5), 0.3987309708002355), ((4, 6), 0.2801644290918113), ((4, 7), 0.5854051382676893), ((4, 8), 0.8207133772454406), ((4, 9), 0.023212738337894417), ((4, 10), 0.37510999692489294), ((4, 11), 0.25765324542158974), ((4, 12), 0.5868300554319739), ((4, 13), 0.4226174696667409), ((4, 14), 0.6424674846062194), ((4, 15), 0.6494490022061178), ((4, 16), 0.03476029328509063), ((4, 17), 0.3440102877115277), ((4, 18), 0.4815607481027904), ((4, 19), 0.3435185541679039), ((0, 0), 0.47653921083408135), ((0, 1), 0.21874479881409079), ((0, 2), 0.6256974499925045), ((0, 3), 0.3020103432146292), ((0, 4), 0.689482022883483), ((0, 5), 0.24009446109157498), ((0, 6), 0.404597250362776), ((0, 7), 0.2645193492512944), ((0, 8), 0.3075846953402469), ((0, 9), 0.12223449790340302), ((0, 10), 0.5690904751325199), ((0, 11), 0.3693153096817008), ((0, 12), 0.028365930222358955), ((0, 13), 0.2942506391017205), ((0, 14), 0.718975498725895), ((0, 15), 0.05002388336925877), ((0, 16), 0.2251973389336482), ((0, 17), 0.14303970418506848), ((0, 18), 0.4427823461367404), ((0, 19), 0.15333767017853975), ((1, 0), 0.3120235302531938), ((1, 1), 0.14322750950763077), ((1, 2), 0.4096878552246927), ((1, 3), 0.19774728148365792), ((1, 4), 0.4514520734813615), ((1, 5), 0.15720662568964303), ((1, 6), 0.26491810016633344), ((1, 7), 0.1731993072074889), ((1, 8), 0.20139719945381887), ((1, 9), 0.08003546966846722), ((1, 10), 0.37262331209538474), ((1, 11), 0.24181654748145726), ((1, 12), 0.018573157225414208), ((1, 13), 0.19266646081668243), ((1, 14), 0.47076351363689317), ((1, 15), 0.03275413298840727), ((1, 16), 0.14745243854060738), ((1, 17), 0.09365809245388043), ((1, 18), 0.289920551413933), ((1, 19), 0.10040089059232993), ((2, 0), 0.14486418135384824), ((2, 1), 0.06649670265360082), ((2, 2), 0.1902071158209759), ((2, 3), 0.09180877488256635), ((2, 4), 0.20959712555109575), ((2, 5), 0.07298683248488078), ((2, 6), 0.12299438979897204), ((2, 7), 0.08041180685734431), ((2, 8), 0.09350333419457404), ((2, 9), 0.03715832835871384), ((2, 10), 0.17299903957965965), ((2, 11), 0.11226895664019144), ((2, 12), 0.008623020239635919), ((2, 13), 0.08944988571183661), ((2, 14), 0.21856291081294713), ((2, 15), 0.015206868076489004), ((2, 16), 0.06845822422584769), ((2, 17), 0.04348294783885307), ((2, 18), 0.13460235932897494), ((2, 19), 0.04661344870706681), ((3, 0), 0.4280691242384477), ((3, 1), 0.196495676181966), ((3, 2), 0.5620560771646069), ((3, 3), 0.27129205780267207), ((3, 4), 0.6193529493560356), ((3, 5), 0.21567380680822268), ((3, 6), 0.363444574327756), ((3, 7), 0.2376143738097353), ((3, 8), 0.2762994275602065), ((3, 9), 0.10980169790782285), ((3, 10), 0.5112067501770355), ((3, 11), 0.33175125485810336), ((3, 12), 0.02548075506156375), ((3, 13), 0.26432161409427635), ((3, 14), 0.6458465643358212), ((3, 15), 0.04493581946258886), ((3, 16), 0.20229191106735533), ((3, 17), 0.1284907506239773), ((3, 18), 0.3977457611667408), ((3, 19), 0.1377412827607701), ((4, 0), 0.41170405261105913), ((4, 1), 0.18898365152727775), ((4, 2), 0.5405686877674585), ((4, 3), 0.2609205693992961), ((4, 4), 0.5956751020063166), ((4, 5), 0.2074286027121616), ((4, 6), 0.3495500975839805), ((4, 7), 0.22853038240061105), ((4, 8), 0.2657365075395826), ((4, 9), 0.10560398181636874), ((4, 10), 0.49166332924487866), ((4, 11), 0.3190684129038102), ((4, 12), 0.024506626449872157), ((4, 13), 0.25421660557488057), ((4, 14), 0.6211558667657459), ((4, 15), 0.043217924238426325), ((4, 16), 0.19455829650183828), ((4, 17), 0.12357855252709468), ((4, 18), 0.38253995093091986), ((4, 19), 0.13247543705783932)])\n",
            "aa (1, [((0, 0), 0.42631779678455417), ((0, 1), 0.004812177470428793), ((0, 2), 0.05714837996520642), ((0, 3), 0.36344997090237136), ((0, 4), 0.5767232857229339), ((0, 5), 0.057908007151235646), ((0, 6), 0.36854772431794874), ((0, 7), 0.19330610272534862), ((0, 8), 0.0891585732504701), ((0, 9), 0.49327995332720714), ((0, 10), 0.25550540098140473), ((0, 11), 0.39518057524839867), ((0, 12), 0.06035782445652721), ((0, 13), 0.22724463430465497), ((0, 14), 0.45507014686687847), ((0, 15), 0.21544599460872532), ((0, 16), 0.5406836914976099), ((0, 17), 0.3383524254967487), ((0, 18), 0.33535432583561303), ((0, 19), 0.6762294431299541), ((1, 0), 0.4922520649822375), ((1, 1), 0.005556428361062963), ((1, 2), 0.06598694274656097), ((1, 3), 0.4196611073800437), ((1, 4), 0.6659192519329065), ((1, 5), 0.06686405379789365), ((1, 6), 0.42554727883362803), ((1, 7), 0.2232028054139844), ((1, 8), 0.1029478293527438), ((1, 9), 0.5695705820190543), ((1, 10), 0.2950218409736535), ((1, 11), 0.45629916384935837), ((1, 12), 0.06969275960481643), ((1, 13), 0.2623902669236459), ((1, 14), 0.5254512506786042), ((1, 15), 0.24876685078172522), ((1, 16), 0.6243057776366338), ((1, 17), 0.39068197808944394), ((1, 18), 0.38722019263186336), ((1, 19), 0.7808150217822875), ((2, 0), 0.32856557347998616), ((2, 1), 0.003708772803256781), ((2, 2), 0.044044584529060654), ((2, 3), 0.28011297914727007), ((2, 4), 0.44448394728540946), ((2, 5), 0.0446300335623667), ((2, 6), 0.2840418469709495), ((2, 7), 0.14898212314423473), ((2, 8), 0.0687150242651081), ((2, 9), 0.3801736919583525), ((2, 10), 0.1969194793974659), ((2, 11), 0.30456793808272287), ((2, 12), 0.04651812182400007), ((2, 13), 0.17513874427412562), ((2, 14), 0.35072517475619186), ((2, 15), 0.1660454649242702), ((2, 16), 0.41670802511199434), ((2, 17), 0.2607701568176976), ((2, 18), 0.2584595041967163), ((2, 19), 0.5211739140656373), ((3, 0), 0.18421349162942793), ((3, 1), 0.0020793596252706888), ((3, 2), 0.024694025662916775), ((3, 3), 0.15704807230080325), ((3, 4), 0.24920425787598038), ((3, 5), 0.02502226337039817), ((3, 6), 0.1592508303447606), ((3, 7), 0.08352827961885241), ((3, 8), 0.03852574818842813), ((3, 9), 0.21314808633036714), ((3, 10), 0.11040482569567202), ((3, 11), 0.17075898341495396), ((3, 12), 0.026080838459371106), ((3, 13), 0.09819324423012134), ((3, 14), 0.19663748809677065), ((3, 15), 0.09309500852131944), ((3, 16), 0.23363141634970977), ((3, 17), 0.14620333040785732), ((3, 18), 0.14490784049165778), ((3, 19), 0.29220123532526615), ((4, 0), 0.5708671767837112), ((4, 1), 0.0064438177046457195), ((4, 2), 0.07652538686999096), ((4, 3), 0.48668308092240536), ((4, 4), 0.7722698803316888), ((4, 5), 0.07754257693422796), ((4, 6), 0.4935093033373257), ((4, 7), 0.2588494075316538), ((4, 8), 0.11938911155351431), ((4, 9), 0.6605338469184594), ((4, 10), 0.3421383015472771), ((4, 11), 0.5291724178848304), ((4, 12), 0.0808230411777004), ((4, 13), 0.30429530224445317), ((4, 14), 0.609368438145991), ((4, 15), 0.28849615854483546), ((4, 16), 0.7240105264810717), ((4, 17), 0.4530758400378561), ((4, 18), 0.4490611901635661), ((4, 19), 0.905515078116027), ((0, 0), 0.22511577180231138), ((0, 1), 0.17317596568846838), ((0, 2), 0.04987317324672324), ((0, 3), 0.07143609783091522), ((0, 4), 0.06827591351585001), ((0, 5), 0.12430911232220462), ((0, 6), 0.04309161721860781), ((0, 7), 0.1718106477876378), ((0, 8), 0.0022678435114959596), ((0, 9), 0.057417768180856435), ((0, 10), 0.10123136117561905), ((0, 11), 0.08752057722443544), ((0, 12), 0.21167304754209848), ((0, 13), 0.008025906663055131), ((0, 14), 0.22794285965202207), ((0, 15), 0.0137351616662179), ((0, 16), 0.211484561457434), ((0, 17), 0.19765403396322645), ((0, 18), 0.13801777511108412), ((0, 19), 0.14309567909865742), ((1, 0), 0.7340276136846446), ((1, 1), 0.5646691914303944), ((1, 2), 0.16261982024662944), ((1, 3), 0.23292934120945114), ((1, 4), 0.2226250318622233), ((1, 5), 0.40533064541232405), ((1, 6), 0.1405074229297606), ((1, 7), 0.5602173441313626), ((1, 8), 0.007394682956356469), ((1, 9), 0.1872202334979154), ((1, 10), 0.33008177916135284), ((1, 11), 0.2853754756231407), ((1, 12), 0.6901953635888589), ((1, 13), 0.026169810619539897), ((1, 14), 0.7432458063123133), ((1, 15), 0.04478579115407505), ((1, 16), 0.6895807731946304), ((1, 17), 0.6444840258130736), ((1, 18), 0.4500300325461818), ((1, 19), 0.4665873875314707), ((2, 0), 0.42508515613021114), ((2, 1), 0.3270074407639831), ((2, 2), 0.09417530129745776), ((2, 3), 0.13489248024103057), ((2, 4), 0.12892511761594794), ((2, 5), 0.23473236902430908), ((2, 6), 0.08136971784172041), ((2, 7), 0.3244293167685146), ((2, 8), 0.004282359274274749), ((2, 9), 0.10842172787982786), ((2, 10), 0.1911547495144007), ((2, 11), 0.16526473439065079), ((2, 12), 0.399701316982832), ((2, 13), 0.01515528547660943), ((2, 14), 0.43042353411397777), ((2, 15), 0.025936047459549784), ((2, 16), 0.3993453995094071), ((2, 17), 0.37322927316175497), ((2, 18), 0.26061837876628585), ((2, 19), 0.27020696330698774), ((3, 0), 0.6250458929112924), ((3, 1), 0.4808322634967537), ((3, 2), 0.13847551353128978), ((3, 3), 0.19834611852088985), ((3, 4), 0.18957169898040205), ((3, 5), 0.34515085054402556), ((3, 6), 0.11964616315310429), ((3, 7), 0.47704138585366335), ((3, 8), 0.006296787920621023), ((3, 9), 0.15942348194551742), ((3, 10), 0.28107424917435614), ((3, 11), 0.24300552956102253), ((3, 12), 0.5877214552625449), ((3, 13), 0.022284355984783465), ((3, 14), 0.6328954524299958), ((3, 15), 0.038136405633458936), ((3, 16), 0.5871981136408218), ((3, 17), 0.5487969197225093), ((3, 18), 0.38321368063759886), ((3, 19), 0.3973127506699633), ((4, 0), 0.8122467076291678), ((4, 1), 0.6248411954649014), ((4, 2), 0.17994883452343752), ((4, 3), 0.25775064449944624), ((4, 4), 0.2463482923458745), ((4, 5), 0.44852329272017016), ((4, 6), 0.15548010666692513), ((4, 7), 0.6199149525769057), ((4, 8), 0.008182671568868951), ((4, 9), 0.20717070505957588), ((4, 10), 0.36525579334318103), ((4, 11), 0.31578551840774277), ((4, 12), 0.7637436265944318), ((4, 13), 0.028958505264261532), ((4, 14), 0.822447204820997), ((4, 15), 0.049558232872003935), ((4, 16), 0.7630635445172103), ((4, 17), 0.7131612194512886), ((4, 18), 0.4979859142287335), ((4, 19), 0.5163076460316275), ((0, 0), 0.19422879022235057), ((0, 1), 0.2130156328616601), ((0, 2), 0.5189345658744435), ((0, 3), 0.1430869412726243), ((0, 4), 0.3565959890017026), ((0, 5), 0.22056555525289015), ((0, 6), 0.6728065692441116), ((0, 7), 0.07100295989476282), ((0, 8), 0.7396113192390806), ((0, 9), 0.6603416849592665), ((0, 10), 0.558284035077167), ((0, 11), 0.4748890436909707), ((0, 12), 0.22339387946190348), ((0, 13), 0.3337816828563166), ((0, 14), 0.19730335781218938), ((0, 15), 0.5051634326150535), ((0, 16), 0.2101163660616668), ((0, 17), 0.49544073050757603), ((0, 18), 0.6121637739042771), ((0, 19), 0.2617620716047664), ((1, 0), 0.04754111300254831), ((1, 1), 0.05213954255490275), ((1, 2), 0.12701889770781433), ((1, 3), 0.035023193196247575), ((1, 4), 0.08728350822747688), ((1, 5), 0.05398752664187069), ((1, 6), 0.1646819356732544), ((1, 7), 0.017379296529664984), ((1, 8), 0.1810336421580757), ((1, 9), 0.1616309231448279), ((1, 10), 0.1366504129935523), ((1, 11), 0.1162379360131882), ((1, 12), 0.05467981165623244), ((1, 13), 0.08169928198948781), ((1, 14), 0.04829367066948929), ((1, 15), 0.12364815642013843), ((1, 16), 0.05142989302042732), ((1, 17), 0.12126834403983916), ((1, 18), 0.14983848232763539), ((1, 19), 0.06407114110991007), ((2, 0), 0.12217871857671528), ((2, 1), 0.13399649470117936), ((2, 2), 0.3264333789605594), ((2, 3), 0.09000817597503225), ((2, 4), 0.22431505100736043), ((2, 5), 0.13874573832288004), ((2, 6), 0.4232258481666755), ((2, 7), 0.044664082215437495), ((2, 8), 0.46524906593927895), ((2, 9), 0.415384870588707), ((2, 10), 0.3511859798409897), ((2, 11), 0.29872674775898306), ((2, 12), 0.14052488253307233), ((2, 13), 0.2099638176661594), ((2, 14), 0.12411276104217044), ((2, 15), 0.3177707115307962), ((2, 16), 0.13217272438355715), ((2, 17), 0.3116546909180188), ((2, 18), 0.38507877935649065), ((2, 19), 0.16466021563561434), ((3, 0), 0.022723289632616002), ((3, 1), 0.024921207181743), ((3, 2), 0.060711393131994584), ((3, 3), 0.016740082690422937), ((3, 4), 0.04171901565488099), ((3, 5), 0.025804490617753157), ((3, 6), 0.07871324597223063), ((3, 7), 0.00830680570380267), ((3, 8), 0.08652889308217952), ((3, 9), 0.07725494941631157), ((3, 10), 0.06531498142886641), ((3, 11), 0.055558402391285656), ((3, 12), 0.02613538301585117), ((3, 13), 0.03904991553993253), ((3, 14), 0.023082990631417374), ((3, 15), 0.05910027539160069), ((3, 16), 0.02458201504064458), ((3, 17), 0.057962793271947186), ((3, 18), 0.07161850064090775), ((3, 19), 0.030624169367988004), ((4, 0), 0.06574710625997929), ((4, 1), 0.07210651640655012), ((4, 2), 0.17566111597289424), ((4, 3), 0.04843541640503967), ((4, 4), 0.12070895542281679), ((4, 5), 0.07466219082094845), ((4, 6), 0.22774731258875155), ((4, 7), 0.024034743477678467), ((4, 8), 0.2503609477329669), ((4, 9), 0.22352790685257892), ((4, 10), 0.18898104516559291), ((4, 11), 0.16075155687015813), ((4, 12), 0.07561958818770748), ((4, 13), 0.11298623517793838), ((4, 14), 0.066787857848872), ((4, 15), 0.17099954051495644), ((4, 16), 0.07112510473139645), ((4, 17), 0.1677083727747741), ((4, 18), 0.20721952005837588), ((4, 19), 0.08860735175732182), ((0, 0), 0.205042276754068), ((0, 1), 0.2595754310742726), ((0, 2), 0.14782454279928914), ((0, 3), 0.18569423325936124), ((0, 4), 0.14015671963583623), ((0, 5), 0.3257480446352956), ((0, 6), 0.052903072298704994), ((0, 7), 0.11186120304392404), ((0, 8), 0.21546012598695857), ((0, 9), 0.021967987778845555), ((0, 10), 0.32263885871295106), ((0, 11), 0.006355762529961047), ((0, 12), 0.09364029335886864), ((0, 13), 0.2143868256323619), ((0, 14), 0.060937744919602826), ((0, 15), 0.02851769358857759), ((0, 16), 0.11056831607012964), ((0, 17), 0.08692771606507206), ((0, 18), 0.30517995417142474), ((0, 19), 0.014724406484489595), ((1, 0), 0.24486141513544243), ((1, 1), 0.30998488893816806), ((1, 2), 0.17653201727270412), ((1, 3), 0.2217559883658287), ((1, 4), 0.1673751055346269), ((1, 5), 0.38900820089249843), ((1, 6), 0.06317683042317528), ((1, 7), 0.13358460952392287), ((1, 8), 0.2573024070431401), ((1, 9), 0.026234163316758558), ((1, 10), 0.38529521215224155), ((1, 11), 0.007590049388779065), ((1, 12), 0.11182520555530089), ((1, 13), 0.2560206721353331), ((1, 14), 0.07277183365493686), ((1, 15), 0.03405581970236049), ((1, 16), 0.13204064435232468), ((1, 17), 0.10380904810043366), ((1, 18), 0.3644457944593222), ((1, 19), 0.017583881070273356), ((2, 0), 0.4247927103753611), ((2, 1), 0.5377708083350442), ((2, 2), 0.30625288203869283), ((2, 3), 0.38470874346528433), ((2, 4), 0.2903672050171246), ((2, 5), 0.6748627501150491), ((2, 6), 0.10960100436216368), ((2, 7), 0.23174646896781662), ((2, 8), 0.44637570526782133), ((2, 9), 0.04551179014297338), ((2, 10), 0.6684213491711949), ((2, 11), 0.013167438609953643), ((2, 12), 0.19399762159277992), ((2, 13), 0.44415211424116285), ((2, 14), 0.12624669525889326), ((2, 15), 0.059081027312605616), ((2, 16), 0.2290679532465644), ((2, 17), 0.1800909583066711), ((2, 18), 0.6322511724750247), ((2, 19), 0.030505028710332942), ((3, 0), 0.0938298479657088), ((3, 1), 0.11878488484862722), ((3, 2), 0.06764631468218676), ((3, 3), 0.08497594715909751), ((3, 4), 0.06413742523243844), ((3, 5), 0.14906628031601932), ((3, 6), 0.024209091458051748), ((3, 7), 0.051189051550874554), ((3, 8), 0.09859718290329457), ((3, 9), 0.010052819282112914), ((3, 10), 0.14764347889667775), ((3, 11), 0.0029084744928368146), ((3, 12), 0.042850940929930435), ((3, 13), 0.09810602756358801), ((3, 14), 0.02788585569617675), ((3, 15), 0.013050044586455345), ((3, 16), 0.050597410694616034), ((3, 17), 0.03977918364696558), ((3, 18), 0.1396540711281321), ((3, 19), 0.006738068088670621), ((4, 0), 0.018301466481376167), ((4, 1), 0.023168934360266357), ((4, 2), 0.01319438097349488), ((4, 3), 0.01657451740968157), ((4, 4), 0.012509973782779913), ((4, 5), 0.02907530590589978), ((4, 6), 0.0047219715844155075), ((4, 7), 0.009984399756398886), ((4, 8), 0.019231332856067575), ((4, 9), 0.0019607975406947227), ((4, 10), 0.028797789176945362), ((4, 11), 0.0005672965436546779), ((4, 12), 0.008358055311047288), ((4, 13), 0.019135533244518874), ((4, 14), 0.0054391226714401745), ((4, 15), 0.00254540488722482), ((4, 16), 0.009869000493428906), ((4, 17), 0.007758910538121195), ((4, 18), 0.02723945905436516), ((4, 19), 0.0013142569230113555)])\n",
            "800 key-value pairs were sent over a network.\n",
            "[(0, [((0, 1), 1.5450440976238375), ((0, 2), 1.648153584669783), ((0, 4), 2.6162502679831414), ((0, 5), 1.3471864260183282), ((0, 8), 2.0599411969811774), ((0, 9), 1.4640282103663917), ((0, 11), 1.5539949208208528), ((0, 12), 1.1583754851689056), ((0, 15), 1.5490834879664654), ((0, 16), 1.520381306730835), ((0, 18), 2.47586690115369), ((0, 19), 1.6924705004554035), ((1, 0), 2.689160771475095), ((1, 1), 1.9866655638130117), ((1, 3), 1.6726712653562887), ((1, 4), 2.8493634117076976), ((1, 7), 2.385355636528367), ((1, 10), 2.1427356636992303), ((1, 11), 1.5060794534574942), ((1, 14), 3.143944586722722), ((1, 17), 2.095138340493046), ((1, 18), 2.878606533950604), ((2, 0), 1.9315472157496403), ((2, 3), 1.5115907405401343), ((2, 4), 2.02290905975545), ((2, 6), 1.8099039236769137), ((2, 7), 1.6844975960623645), ((2, 10), 2.021465024469141), ((2, 11), 1.1130049769470842), ((2, 13), 1.233630291695033), ((2, 14), 2.0963698281314898), ((2, 17), 1.7197401520003321), ((2, 18), 2.613781435121936), ((3, 1), 1.8337294964049797), ((3, 2), 1.8388397554881677), ((3, 5), 1.74308144867083), ((3, 8), 2.0604810593224756), ((3, 9), 1.2441390808222619), ((3, 12), 1.7407153669241555), ((3, 15), 1.714410873680758), ((3, 16), 1.9688329900613117), ((3, 19), 1.7858955082895847), ((4, 1), 2.0450048735691553), ((4, 2), 1.8280748321129336), ((4, 4), 3.341524062559401), ((4, 5), 1.921388699247297), ((4, 8), 2.447142265084272), ((4, 9), 1.8706667142476894), ((4, 11), 1.809939448861718), ((4, 12), 2.0636575153771433), ((4, 15), 1.932924756270256), ((4, 16), 2.4852729544973156), ((4, 18), 3.2269157056475413), ((4, 19), 2.4552174566573894)]), (1, [((0, 0), 1.9923561611540377), ((0, 3), 1.439246225219303), ((0, 6), 1.9075485886093662), ((0, 7), 1.4062663655927066), ((0, 10), 2.2807104682711445), ((0, 13), 1.479943359821537), ((0, 14), 2.3223534086750046), ((0, 17), 1.7090552808173567), ((1, 2), 1.5233942532333211), ((1, 5), 1.9571473245962443), ((1, 6), 2.078008130669674), ((1, 8), 2.231678621620342), ((1, 9), 1.5484750016608295), ((1, 12), 1.8293627862954196), ((1, 13), 1.3722125578536926), ((1, 15), 1.4872246091656858), ((1, 16), 2.1310223410825655), ((1, 19), 1.9906716525560468), ((2, 1), 1.4787707275666815), ((2, 2), 1.530918909906494), ((2, 5), 1.7448412098863195), ((2, 8), 1.950174945612786), ((2, 9), 1.4560556703901248), ((2, 12), 1.2905267964643263), ((2, 15), 1.237228575749739), ((2, 16), 1.738850021722043), ((2, 19), 1.4344549036796668), ((3, 0), 2.285396499223448), ((3, 3), 1.7969760451280878), ((3, 4), 2.674730316472028), ((3, 6), 2.0133426699531336), ((3, 7), 2.3639995015165196), ((3, 10), 2.1087085791737463), ((3, 11), 1.2299923852211436), ((3, 13), 1.2176184241867494), ((3, 14), 3.0949110866903133), ((3, 17), 2.014011144937448), ((3, 18), 2.88183538013884), ((4, 0), 2.9271263339466755), ((4, 3), 1.9376888872429958), ((4, 6), 2.528653332503129), ((4, 7), 2.7426947538084714), ((4, 10), 2.305007095244479), ((4, 13), 1.4363615023987373), ((4, 14), 3.7579495101867577), ((4, 17), 2.4826367874833597)])]\n",
            "[((0, 1), 1.5450440976238375), ((0, 2), 1.648153584669783), ((0, 4), 2.6162502679831414), ((0, 5), 1.3471864260183282), ((0, 8), 2.0599411969811774), ((0, 9), 1.4640282103663917), ((0, 11), 1.5539949208208528), ((0, 12), 1.1583754851689056), ((0, 15), 1.5490834879664654), ((0, 16), 1.520381306730835), ((0, 18), 2.47586690115369), ((0, 19), 1.6924705004554035), ((1, 0), 2.689160771475095), ((1, 1), 1.9866655638130117), ((1, 3), 1.6726712653562887), ((1, 4), 2.8493634117076976), ((1, 7), 2.385355636528367), ((1, 10), 2.1427356636992303), ((1, 11), 1.5060794534574942), ((1, 14), 3.143944586722722), ((1, 17), 2.095138340493046), ((1, 18), 2.878606533950604), ((2, 0), 1.9315472157496403), ((2, 3), 1.5115907405401343), ((2, 4), 2.02290905975545), ((2, 6), 1.8099039236769137), ((2, 7), 1.6844975960623645), ((2, 10), 2.021465024469141), ((2, 11), 1.1130049769470842), ((2, 13), 1.233630291695033), ((2, 14), 2.0963698281314898), ((2, 17), 1.7197401520003321), ((2, 18), 2.613781435121936), ((3, 1), 1.8337294964049797), ((3, 2), 1.8388397554881677), ((3, 5), 1.74308144867083), ((3, 8), 2.0604810593224756), ((3, 9), 1.2441390808222619), ((3, 12), 1.7407153669241555), ((3, 15), 1.714410873680758), ((3, 16), 1.9688329900613117), ((3, 19), 1.7858955082895847), ((4, 1), 2.0450048735691553), ((4, 2), 1.8280748321129336), ((4, 4), 3.341524062559401), ((4, 5), 1.921388699247297), ((4, 8), 2.447142265084272), ((4, 9), 1.8706667142476894), ((4, 11), 1.809939448861718), ((4, 12), 2.0636575153771433), ((4, 15), 1.932924756270256), ((4, 16), 2.4852729544973156), ((4, 18), 3.2269157056475413), ((4, 19), 2.4552174566573894), ((0, 0), 1.9923561611540377), ((0, 3), 1.439246225219303), ((0, 6), 1.9075485886093662), ((0, 7), 1.4062663655927066), ((0, 10), 2.2807104682711445), ((0, 13), 1.479943359821537), ((0, 14), 2.3223534086750046), ((0, 17), 1.7090552808173567), ((1, 2), 1.5233942532333211), ((1, 5), 1.9571473245962443), ((1, 6), 2.078008130669674), ((1, 8), 2.231678621620342), ((1, 9), 1.5484750016608295), ((1, 12), 1.8293627862954196), ((1, 13), 1.3722125578536926), ((1, 15), 1.4872246091656858), ((1, 16), 2.1310223410825655), ((1, 19), 1.9906716525560468), ((2, 1), 1.4787707275666815), ((2, 2), 1.530918909906494), ((2, 5), 1.7448412098863195), ((2, 8), 1.950174945612786), ((2, 9), 1.4560556703901248), ((2, 12), 1.2905267964643263), ((2, 15), 1.237228575749739), ((2, 16), 1.738850021722043), ((2, 19), 1.4344549036796668), ((3, 0), 2.285396499223448), ((3, 3), 1.7969760451280878), ((3, 4), 2.674730316472028), ((3, 6), 2.0133426699531336), ((3, 7), 2.3639995015165196), ((3, 10), 2.1087085791737463), ((3, 11), 1.2299923852211436), ((3, 13), 1.2176184241867494), ((3, 14), 3.0949110866903133), ((3, 17), 2.014011144937448), ((3, 18), 2.88183538013884), ((4, 0), 2.9271263339466755), ((4, 3), 1.9376888872429958), ((4, 6), 2.528653332503129), ((4, 7), 2.7426947538084714), ((4, 10), 2.305007095244479), ((4, 13), 1.4363615023987373), ((4, 14), 3.7579495101867577), ((4, 17), 2.4826367874833597)]\n",
            "MapReduce успешно выполнен!\n"
          ]
        }
      ]
    }
  ]
}