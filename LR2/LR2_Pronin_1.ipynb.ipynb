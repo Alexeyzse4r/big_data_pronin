{
  "nbformat": 4,
  "nbformat_minor": 0,
  "metadata": {
    "colab": {
      "provenance": []
    },
    "kernelspec": {
      "name": "python3",
      "display_name": "Python 3"
    },
    "language_info": {
      "name": "python"
    }
  },
  "cells": [
    {
      "cell_type": "code",
      "execution_count": 1,
      "metadata": {
        "id": "oKtCRRC1rIc2"
      },
      "outputs": [],
      "source": [
        "import os\n",
        "import sys\n",
        "from pyspark.sql import Row\n",
        "import pyspark.sql.functions as F\n",
        "from pyspark.sql import SparkSession"
      ]
    },
    {
      "cell_type": "code",
      "source": [
        "os.environ.update({\n",
        "    \"PYSPARK_PYTHON\": sys.executable,\n",
        "    \"PYSPARK_DRIVER_PYTHON\": sys.executable,\n",
        "    \"PYSPARK_SUBMIT_ARGS\": \"--packages com.databricks:spark-xml_2.12:0.17.0 pyspark-shell\"\n",
        "})\n",
        "\n",
        "spark = SparkSession.builder.getOrCreate()"
      ],
      "metadata": {
        "colab": {
          "base_uri": "https://localhost:8080/",
          "height": 219
        },
        "id": "UCVq0Xi9rOen",
        "outputId": "df30e78b-8c8a-4a77-c46e-366b575e8013"
      },
      "execution_count": 2,
      "outputs": [
        {
          "output_type": "execute_result",
          "data": {
            "text/plain": [
              "<pyspark.sql.session.SparkSession at 0x791eabd97f90>"
            ],
            "text/html": [
              "\n",
              "            <div>\n",
              "                <p><b>SparkSession - in-memory</b></p>\n",
              "                \n",
              "        <div>\n",
              "            <p><b>SparkContext</b></p>\n",
              "\n",
              "            <p><a href=\"http://b9b23c5ce84e:4040\">Spark UI</a></p>\n",
              "\n",
              "            <dl>\n",
              "              <dt>Version</dt>\n",
              "                <dd><code>v3.5.5</code></dd>\n",
              "              <dt>Master</dt>\n",
              "                <dd><code>local[*]</code></dd>\n",
              "              <dt>AppName</dt>\n",
              "                <dd><code>pyspark-shell</code></dd>\n",
              "            </dl>\n",
              "        </div>\n",
              "        \n",
              "            </div>\n",
              "        "
            ]
          },
          "metadata": {},
          "execution_count": 2
        }
      ]
    },
    {
      "cell_type": "code",
      "source": [
        "# Скачиваем датасеты из репа и загружаем датасеты (Spark)\n",
        "!wget https://git.ai.ssau.ru/tk/big_data/raw/branch/master/data/posts_sample.xml\n",
        "!wget https://git.ai.ssau.ru/tk/big_data/raw/branch/master/data/programming-languages.csv\n",
        "\n",
        "postsData = spark.read.format('xml').option('rowTag', 'row').option(\"timestampFormat\", 'y/M/d H:m:s').load('posts_sample.xml')\n",
        "langData = spark.read.format('csv').option('header', 'true').option(\"inferSchema\", True).load('programming-languages.csv').dropna()"
      ],
      "metadata": {
        "colab": {
          "base_uri": "https://localhost:8080/"
        },
        "id": "NkBja-6crSb5",
        "outputId": "79065dcf-5a25-4ce8-896d-4d83ed695758"
      },
      "execution_count": 3,
      "outputs": [
        {
          "output_type": "stream",
          "name": "stdout",
          "text": [
            "--2025-04-29 18:05:59--  https://git.ai.ssau.ru/tk/big_data/raw/branch/master/data/posts_sample.xml\n",
            "Resolving git.ai.ssau.ru (git.ai.ssau.ru)... 91.222.131.161\n",
            "Connecting to git.ai.ssau.ru (git.ai.ssau.ru)|91.222.131.161|:443... connected.\n",
            "HTTP request sent, awaiting response... 200 OK\n",
            "Length: 74162295 (71M) [text/plain]\n",
            "Saving to: ‘posts_sample.xml.4’\n",
            "\n",
            "posts_sample.xml.4  100%[===================>]  70.73M   592KB/s    in 2m 16s  \n",
            "\n",
            "2025-04-29 18:08:16 (532 KB/s) - ‘posts_sample.xml.4’ saved [74162295/74162295]\n",
            "\n",
            "--2025-04-29 18:08:16--  https://git.ai.ssau.ru/tk/big_data/raw/branch/master/data/programming-languages.csv\n",
            "Resolving git.ai.ssau.ru (git.ai.ssau.ru)... 91.222.131.161\n",
            "Connecting to git.ai.ssau.ru (git.ai.ssau.ru)|91.222.131.161|:443... connected.\n",
            "HTTP request sent, awaiting response... 200 OK\n",
            "Length: 40269 (39K) [text/plain]\n",
            "Saving to: ‘programming-languages.csv.3’\n",
            "\n",
            "programming-languag 100%[===================>]  39.33K   128KB/s    in 0.3s    \n",
            "\n",
            "2025-04-29 18:08:18 (128 KB/s) - ‘programming-languages.csv.3’ saved [40269/40269]\n",
            "\n"
          ]
        }
      ]
    },
    {
      "cell_type": "code",
      "source": [
        "print(\"For POST \\n\\n\\nSchema: \")\n",
        "postsData.printSchema()\n",
        "postsData.show(n = 2)\n",
        "postsData.describe().show()\n",
        "\n",
        "print(\"\\n\\n\\nFor LANG \\n\\n\\nSchema: \")\n",
        "langData.printSchema()\n",
        "langData.show(n = 2)\n",
        "langData.describe().show()"
      ],
      "metadata": {
        "colab": {
          "base_uri": "https://localhost:8080/"
        },
        "id": "CRjEOi0qrVhN",
        "outputId": "d9054b3d-30f4-4260-b193-4628a62be5e4"
      },
      "execution_count": 9,
      "outputs": [
        {
          "output_type": "stream",
          "name": "stdout",
          "text": [
            "For POST \n",
            "\n",
            "\n",
            "Schema: \n",
            "root\n",
            " |-- _AcceptedAnswerId: long (nullable = true)\n",
            " |-- _AnswerCount: long (nullable = true)\n",
            " |-- _Body: string (nullable = true)\n",
            " |-- _ClosedDate: timestamp (nullable = true)\n",
            " |-- _CommentCount: long (nullable = true)\n",
            " |-- _CommunityOwnedDate: timestamp (nullable = true)\n",
            " |-- _CreationDate: timestamp (nullable = true)\n",
            " |-- _FavoriteCount: long (nullable = true)\n",
            " |-- _Id: long (nullable = true)\n",
            " |-- _LastActivityDate: timestamp (nullable = true)\n",
            " |-- _LastEditDate: timestamp (nullable = true)\n",
            " |-- _LastEditorDisplayName: string (nullable = true)\n",
            " |-- _LastEditorUserId: long (nullable = true)\n",
            " |-- _OwnerDisplayName: string (nullable = true)\n",
            " |-- _OwnerUserId: long (nullable = true)\n",
            " |-- _ParentId: long (nullable = true)\n",
            " |-- _PostTypeId: long (nullable = true)\n",
            " |-- _Score: long (nullable = true)\n",
            " |-- _Tags: string (nullable = true)\n",
            " |-- _Title: string (nullable = true)\n",
            " |-- _ViewCount: long (nullable = true)\n",
            "\n",
            "+-----------------+------------+--------------------+-----------+-------------+--------------------+--------------------+--------------+---+--------------------+--------------------+----------------------+-----------------+-----------------+------------+---------+-----------+------+--------------------+--------------------+----------+\n",
            "|_AcceptedAnswerId|_AnswerCount|               _Body|_ClosedDate|_CommentCount| _CommunityOwnedDate|       _CreationDate|_FavoriteCount|_Id|   _LastActivityDate|       _LastEditDate|_LastEditorDisplayName|_LastEditorUserId|_OwnerDisplayName|_OwnerUserId|_ParentId|_PostTypeId|_Score|               _Tags|              _Title|_ViewCount|\n",
            "+-----------------+------------+--------------------+-----------+-------------+--------------------+--------------------+--------------+---+--------------------+--------------------+----------------------+-----------------+-----------------+------------+---------+-----------+------+--------------------+--------------------+----------+\n",
            "|                7|          13|<p>I want to use ...|       NULL|            2|2012-10-31 16:42:...|2008-07-31 21:42:...|            48|  4|2019-07-19 01:39:...|2019-07-19 01:39:...|                Rich B|          3641067|             NULL|           8|     NULL|          1|   630|<c#><floating-poi...|Convert Decimal t...|     42817|\n",
            "|               31|           6|<p>I have an abso...|       NULL|            0|                NULL|2008-07-31 22:08:...|            10|  6|2019-07-19 01:43:...|2019-07-19 01:43:...|                Rich B|          3641067|             NULL|           9|     NULL|          1|   281|<html><css><inter...|Percentage width ...|     18214|\n",
            "+-----------------+------------+--------------------+-----------+-------------+--------------------+--------------------+--------------+---+--------------------+--------------------+----------------------+-----------------+-----------------+------------+---------+-----------+------+--------------------+--------------------+----------+\n",
            "only showing top 2 rows\n",
            "\n",
            "+-------+--------------------+------------------+--------------------+------------------+------------------+--------------------+----------------------+------------------+-----------------+------------------+--------------------+------------------+------------------+-----------------+--------------------+------------------+\n",
            "|summary|   _AcceptedAnswerId|      _AnswerCount|               _Body|     _CommentCount|    _FavoriteCount|                 _Id|_LastEditorDisplayName| _LastEditorUserId|_OwnerDisplayName|      _OwnerUserId|           _ParentId|       _PostTypeId|            _Score|            _Tags|              _Title|        _ViewCount|\n",
            "+-------+--------------------+------------------+--------------------+------------------+------------------+--------------------+----------------------+------------------+-----------------+------------------+--------------------+------------------+------------------+-----------------+--------------------+------------------+\n",
            "|  count|                9510|             18055|               46006|             46006|              4114|               46006|                   306|             18283|             1041|             45459|               27863|             46006|             46006|            18055|               18055|             18055|\n",
            "|   mean|2.7162224087907467E7|1.5406258654112435|                NULL| 1.627678998391514|2.8410306271268837| 2.841079576779116E7|                  NULL|2299741.6452989117|             NULL|2738545.1534129656|2.5664491707353838E7|1.6123549102291006| 2.605855757944616|             NULL|                NULL| 2390.661589587372|\n",
            "| stddev|1.6554270224830523E7| 1.563896119203063|                NULL|2.4710189057187044|15.552832509977994|1.6842348816968918E7|                  NULL|  2591596.07436971|             NULL|2768762.4204269676|1.6844008378592387E7|0.5047053344290593|23.783318848732357|             NULL|                NULL|27131.390062048562|\n",
            "|    min|                   7|                 0|                    |                 0|                 0|                   4|     &#211;lafur Waage|                -1|&#211;lafur Waage|                -1|                   4|                 1|               -21|      <.htaccess>|\"&\" or \"&amp;\" in...|                 2|\n",
            "|    max|            57735208|                63|react-spring is a...|                44|               539|            57743417|            zacherates|          11985504|             ʞɔıu|          12001913|            57743358|                 5|              2683|<zurb-foundation>|“error validating...|           3042469|\n",
            "+-------+--------------------+------------------+--------------------+------------------+------------------+--------------------+----------------------+------------------+-----------------+------------------+--------------------+------------------+------------------+-----------------+--------------------+------------------+\n",
            "\n",
            "\n",
            "\n",
            "\n",
            "For LANG \n",
            "\n",
            "\n",
            "Schema: \n",
            "root\n",
            " |-- name: string (nullable = true)\n",
            " |-- wikipedia_url: string (nullable = true)\n",
            "\n",
            "+----------+--------------------+\n",
            "|      name|       wikipedia_url|\n",
            "+----------+--------------------+\n",
            "|   A# .NET|https://en.wikipe...|\n",
            "|A# (Axiom)|https://en.wikipe...|\n",
            "+----------+--------------------+\n",
            "only showing top 2 rows\n",
            "\n",
            "+-------+--------+--------------------+\n",
            "|summary|    name|       wikipedia_url|\n",
            "+-------+--------+--------------------+\n",
            "|  count|     699|                 699|\n",
            "|   mean|    NULL|                NULL|\n",
            "| stddev|    NULL|                NULL|\n",
            "|    min|@Formula|https://en.wikipe...|\n",
            "|    max|xHarbour|https://en.wikipe...|\n",
            "+-------+--------+--------------------+\n",
            "\n"
          ]
        }
      ]
    },
    {
      "cell_type": "code",
      "source": [
        "#Посты в периоде с 2010-01-01 по 2020-12-31\n",
        "posts_in_period = postsData.filter(F.col(\"_CreationDate\").between(*(\"2010-01-01\",  \"2020-12-31\")))\n",
        "\n",
        "# Названия языков программирования\n",
        "lang_names = [str(x[0]) for x in langData.collect()]\n",
        "lang_names[:10]"
      ],
      "metadata": {
        "colab": {
          "base_uri": "https://localhost:8080/"
        },
        "id": "lyFWugDSsVCY",
        "outputId": "6f6bab53-60bb-4571-bb77-b891069f67d5"
      },
      "execution_count": 5,
      "outputs": [
        {
          "output_type": "execute_result",
          "data": {
            "text/plain": [
              "['A# .NET',\n",
              " 'A# (Axiom)',\n",
              " 'A-0 System',\n",
              " 'A+',\n",
              " 'A++',\n",
              " 'ABAP',\n",
              " 'ABC',\n",
              " 'ABC ALGOL',\n",
              " 'ABSET',\n",
              " 'ABSYS']"
            ]
          },
          "metadata": {},
          "execution_count": 5
        }
      ]
    },
    {
      "cell_type": "code",
      "source": [
        "# Получение тега ЯП из поста\n",
        "def find_language(post):\n",
        "    post_tags = str(post._Tags).lower()\n",
        "    for lang in lang_names:\n",
        "        if f\"<{lang.lower()}>\" in post_tags:\n",
        "            return (post[6], lang)\n",
        "    return (post[6], 'NoLang')\n",
        "\n",
        "# Фильтрация постов\n",
        "filtered_posts = posts_in_period.rdd.map(find_language).filter(lambda x: x[1] != 'NoLang')\n",
        "\n",
        "# Группировка и получение кол-ва записей\n",
        "def pair_with_one(record):\n",
        "    return ((record[0].year, record[1]), 1)\n",
        "\n",
        "def sum_counts(a, b):\n",
        "    return a + b\n",
        "\n",
        "# Кол-во для пары год, язык\n",
        "counts_rdd = filtered_posts.map(pair_with_one).reduceByKey(sum_counts)\n",
        "\n",
        "# Сорт\n",
        "sorted_counts = counts_rdd.sortBy(lambda x: x[1], ascending=False).collect()\n",
        "\n",
        "years_list = list(range(2020, 2009, -1))\n",
        "\n",
        "# 10 языков для каждого года\n",
        "top_per_year = []\n",
        "for year in years_list:\n",
        "    top_for_year = [item for item in sorted_counts if item[0][0] == year][:10]\n",
        "    top_per_year.extend(top_for_year)\n"
      ],
      "metadata": {
        "id": "HnIm9gO8sV6V"
      },
      "execution_count": 6,
      "outputs": []
    },
    {
      "cell_type": "code",
      "source": [
        "#Сохраняем итоговый файл\n",
        "row_template = Row('Year', 'Language', 'Count')\n",
        "result_df = spark.createDataFrame([row_template(x[0][0], x[0][1], x[1]) for x in top_per_year])\n",
        "\n",
        "result_df.write.parquet(\"top_langs.paquet\")\n",
        "result_df.show()"
      ],
      "metadata": {
        "colab": {
          "base_uri": "https://localhost:8080/"
        },
        "id": "orzQ9S0Pt9TD",
        "outputId": "55a2f270-331f-4585-daa2-b7ec2b2b4165"
      },
      "execution_count": 8,
      "outputs": [
        {
          "output_type": "stream",
          "name": "stdout",
          "text": [
            "+----+----------+-----+\n",
            "|Year|  Language|Count|\n",
            "+----+----------+-----+\n",
            "|2019|    Python|  162|\n",
            "|2019|JavaScript|  131|\n",
            "|2019|      Java|   95|\n",
            "|2019|       PHP|   59|\n",
            "|2019|         R|   36|\n",
            "|2019|         C|   14|\n",
            "|2019|      Dart|    9|\n",
            "|2019|    MATLAB|    9|\n",
            "|2019|        Go|    9|\n",
            "|2019|      Bash|    8|\n",
            "|2018|    Python|  214|\n",
            "|2018|JavaScript|  196|\n",
            "|2018|      Java|  145|\n",
            "|2018|       PHP|   99|\n",
            "|2018|         R|   63|\n",
            "|2018|         C|   24|\n",
            "|2018|     Scala|   22|\n",
            "|2018|TypeScript|   21|\n",
            "|2018|PowerShell|   13|\n",
            "|2018|      Bash|   12|\n",
            "+----+----------+-----+\n",
            "only showing top 20 rows\n",
            "\n"
          ]
        }
      ]
    }
  ]
}